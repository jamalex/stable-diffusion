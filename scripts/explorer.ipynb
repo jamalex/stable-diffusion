{
 "cells": [
  {
   "cell_type": "code",
   "execution_count": null,
   "metadata": {},
   "outputs": [],
   "source": [
    "%run scripts/controller.py"
   ]
  },
  {
   "cell_type": "code",
   "execution_count": null,
   "metadata": {},
   "outputs": [],
   "source": [
    "results = c.txt2imgcls(\"Fields of green grass in the wilderness, natural, wild, forest creatures, blossoming flowers\", n_iter=1, n_samples=6, scale=10, steps=35, sampler=\"k_dpm_2_a\", extract_intermediates=True, seed=12345)\n",
    "results[\"grid\"] "
   ]
  },
  {
   "cell_type": "code",
   "execution_count": null,
   "metadata": {},
   "outputs": [],
   "source": [
    "# %run scripts/image_classes.py\n",
    "display(results[\"grid\"])\n",
    "SDImage.displaygifs(results[\"intermediates\"], duration=100)"
   ]
  }
 ],
 "metadata": {
  "kernelspec": {
   "display_name": "Python 3 (ipykernel)",
   "language": "python",
   "name": "python3"
  },
  "language_info": {
   "codemirror_mode": {
    "name": "ipython",
    "version": 3
   },
   "file_extension": ".py",
   "mimetype": "text/x-python",
   "name": "python",
   "nbconvert_exporter": "python",
   "pygments_lexer": "ipython3",
   "version": "3.8.5"
  },
  "vscode": {
   "interpreter": {
    "hash": "dac66cb880cdac9a8a7b6ade717a7717f99703f7c5ad36e3bf5747a7e38c5668"
   }
  }
 },
 "nbformat": 4,
 "nbformat_minor": 2
}
