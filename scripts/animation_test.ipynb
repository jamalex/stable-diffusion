{
 "cells": [
  {
   "cell_type": "code",
   "execution_count": 5,
   "metadata": {},
   "outputs": [],
   "source": [
    "from controller import *\n",
    "from animation import *"
   ]
  },
  {
   "cell_type": "code",
   "execution_count": 6,
   "metadata": {},
   "outputs": [],
   "source": [
    "runner = AnimationRunner(\n",
    "    \"test\",\n",
    "    c,\n",
    "    prompt=SlerpPrompts([\"photo of the surface of the moon\", \"photo of a man on the surface of the moon\"]),\n",
    "    seed=23434523,\n",
    "    steps=25,\n",
    "    sampler=\"k_euler\",\n",
    "    n_samples=1,\n",
    "    scale=10,\n",
    "    verbose=False,\n",
    ")"
   ]
  },
  {
   "cell_type": "code",
   "execution_count": 20,
   "metadata": {},
   "outputs": [
    {
     "name": "stderr",
     "output_type": "stream",
     "text": [
      "Global seed set to 23434523\n",
      "K sampler with euler:   0%|                                                                                                                                                                                                                            | 0/25 [00:00<?, ?it/s]"
     ]
    },
    {
     "data": {
      "application/json": {
       "ascii": false,
       "bar_format": null,
       "colour": null,
       "elapsed": 0.01576089859008789,
       "initial": 0,
       "n": 0,
       "ncols": null,
       "nrows": 35,
       "postfix": null,
       "prefix": "",
       "rate": null,
       "total": 25,
       "unit": "it",
       "unit_divisor": 1000,
       "unit_scale": false
      },
      "application/vnd.jupyter.widget-view+json": {
       "model_id": "6a2de05d61d845c88a51e2c2b1b58e84",
       "version_major": 2,
       "version_minor": 0
      },
      "text/plain": [
       "  0%|          | 0/25 [00:00<?, ?it/s]"
      ]
     },
     "metadata": {},
     "output_type": "display_data"
    },
    {
     "name": "stderr",
     "output_type": "stream",
     "text": [
      "K sampler with euler: 300it [00:03, 78.14it/s]                                                                                                                                                                                                                                \n",
      "Global seed set to 23434523\n",
      "K sampler with euler:   0%|                                                                                                                                                                                                                            | 0/25 [00:00<?, ?it/s]"
     ]
    },
    {
     "data": {
      "application/json": {
       "ascii": false,
       "bar_format": null,
       "colour": null,
       "elapsed": 0.014230966567993164,
       "initial": 0,
       "n": 0,
       "ncols": null,
       "nrows": 35,
       "postfix": null,
       "prefix": "",
       "rate": null,
       "total": 25,
       "unit": "it",
       "unit_divisor": 1000,
       "unit_scale": false
      },
      "application/vnd.jupyter.widget-view+json": {
       "model_id": "55937f792fbe4ce9a1e02e7fd44d02eb",
       "version_major": 2,
       "version_minor": 0
      },
      "text/plain": [
       "  0%|          | 0/25 [00:00<?, ?it/s]"
      ]
     },
     "metadata": {},
     "output_type": "display_data"
    },
    {
     "name": "stderr",
     "output_type": "stream",
     "text": [
      "K sampler with euler: 300it [00:03, 96.98it/s]                                                                                                                                                                                                                                \n",
      "Global seed set to 23434523\n",
      "K sampler with euler:   0%|                                                                                                                                                                                                                            | 0/25 [00:00<?, ?it/s]"
     ]
    },
    {
     "data": {
      "application/json": {
       "ascii": false,
       "bar_format": null,
       "colour": null,
       "elapsed": 0.014956951141357422,
       "initial": 0,
       "n": 0,
       "ncols": null,
       "nrows": 35,
       "postfix": null,
       "prefix": "",
       "rate": null,
       "total": 25,
       "unit": "it",
       "unit_divisor": 1000,
       "unit_scale": false
      },
      "application/vnd.jupyter.widget-view+json": {
       "model_id": "d73e94f2b67a4698b967dfa07ea391c2",
       "version_major": 2,
       "version_minor": 0
      },
      "text/plain": [
       "  0%|          | 0/25 [00:00<?, ?it/s]"
      ]
     },
     "metadata": {},
     "output_type": "display_data"
    },
    {
     "name": "stderr",
     "output_type": "stream",
     "text": [
      "K sampler with euler: 300it [00:03, 92.76it/s]                                                                                                                                                                                                                                \n",
      "Global seed set to 23434523\n",
      "K sampler with euler:   0%|                                                                                                                                                                                                                            | 0/25 [00:00<?, ?it/s]"
     ]
    },
    {
     "data": {
      "application/json": {
       "ascii": false,
       "bar_format": null,
       "colour": null,
       "elapsed": 0.014086008071899414,
       "initial": 0,
       "n": 0,
       "ncols": null,
       "nrows": 35,
       "postfix": null,
       "prefix": "",
       "rate": null,
       "total": 25,
       "unit": "it",
       "unit_divisor": 1000,
       "unit_scale": false
      },
      "application/vnd.jupyter.widget-view+json": {
       "model_id": "67c8fc623ed244c4a40ccd1823ddbbe2",
       "version_major": 2,
       "version_minor": 0
      },
      "text/plain": [
       "  0%|          | 0/25 [00:00<?, ?it/s]"
      ]
     },
     "metadata": {},
     "output_type": "display_data"
    },
    {
     "name": "stderr",
     "output_type": "stream",
     "text": [
      "K sampler with euler: 300it [00:04, 73.99it/s]                                                                                                                                                                                                                                \n",
      "Global seed set to 23434523\n",
      "K sampler with euler:   0%|                                                                                                                                                                                                                            | 0/25 [00:00<?, ?it/s]"
     ]
    },
    {
     "data": {
      "application/json": {
       "ascii": false,
       "bar_format": null,
       "colour": null,
       "elapsed": 0.01430511474609375,
       "initial": 0,
       "n": 0,
       "ncols": null,
       "nrows": 35,
       "postfix": null,
       "prefix": "",
       "rate": null,
       "total": 25,
       "unit": "it",
       "unit_divisor": 1000,
       "unit_scale": false
      },
      "application/vnd.jupyter.widget-view+json": {
       "model_id": "5203ca121ac843ba8c46234537c025bc",
       "version_major": 2,
       "version_minor": 0
      },
      "text/plain": [
       "  0%|          | 0/25 [00:00<?, ?it/s]"
      ]
     },
     "metadata": {},
     "output_type": "display_data"
    },
    {
     "name": "stderr",
     "output_type": "stream",
     "text": [
      "K sampler with euler: 300it [00:03, 98.59it/s]                                                                                                                                                                                                                                \n",
      "Global seed set to 23434523\n",
      "K sampler with euler:   0%|                                                                                                                                                                                                                            | 0/25 [00:00<?, ?it/s]"
     ]
    },
    {
     "data": {
      "application/json": {
       "ascii": false,
       "bar_format": null,
       "colour": null,
       "elapsed": 0.013778924942016602,
       "initial": 0,
       "n": 0,
       "ncols": null,
       "nrows": 35,
       "postfix": null,
       "prefix": "",
       "rate": null,
       "total": 25,
       "unit": "it",
       "unit_divisor": 1000,
       "unit_scale": false
      },
      "application/vnd.jupyter.widget-view+json": {
       "model_id": "9ae3fb6e0f964705a9f69f0a968c7a4a",
       "version_major": 2,
       "version_minor": 0
      },
      "text/plain": [
       "  0%|          | 0/25 [00:00<?, ?it/s]"
      ]
     },
     "metadata": {},
     "output_type": "display_data"
    },
    {
     "name": "stderr",
     "output_type": "stream",
     "text": [
      "K sampler with euler: 300it [00:03, 94.56it/s]                                                                                                                                                                                                                                \n",
      "Global seed set to 23434523\n",
      "K sampler with euler:   0%|                                                                                                                                                                                                                            | 0/25 [00:00<?, ?it/s]"
     ]
    },
    {
     "data": {
      "application/json": {
       "ascii": false,
       "bar_format": null,
       "colour": null,
       "elapsed": 0.013395309448242188,
       "initial": 0,
       "n": 0,
       "ncols": null,
       "nrows": 35,
       "postfix": null,
       "prefix": "",
       "rate": null,
       "total": 25,
       "unit": "it",
       "unit_divisor": 1000,
       "unit_scale": false
      },
      "application/vnd.jupyter.widget-view+json": {
       "model_id": "f245db3df9544fcda7436f108aea5300",
       "version_major": 2,
       "version_minor": 0
      },
      "text/plain": [
       "  0%|          | 0/25 [00:00<?, ?it/s]"
      ]
     },
     "metadata": {},
     "output_type": "display_data"
    },
    {
     "name": "stderr",
     "output_type": "stream",
     "text": [
      "K sampler with euler: 300it [00:03, 82.16it/s]                                                                                                                                                                                                                                \n",
      "Global seed set to 23434523\n",
      "K sampler with euler:   0%|                                                                                                                                                                                                                            | 0/25 [00:00<?, ?it/s]"
     ]
    },
    {
     "data": {
      "application/json": {
       "ascii": false,
       "bar_format": null,
       "colour": null,
       "elapsed": 0.014495372772216797,
       "initial": 0,
       "n": 0,
       "ncols": null,
       "nrows": 35,
       "postfix": null,
       "prefix": "",
       "rate": null,
       "total": 25,
       "unit": "it",
       "unit_divisor": 1000,
       "unit_scale": false
      },
      "application/vnd.jupyter.widget-view+json": {
       "model_id": "fc3ac2353eaf4fbd9679a33a35efaa60",
       "version_major": 2,
       "version_minor": 0
      },
      "text/plain": [
       "  0%|          | 0/25 [00:00<?, ?it/s]"
      ]
     },
     "metadata": {},
     "output_type": "display_data"
    },
    {
     "name": "stderr",
     "output_type": "stream",
     "text": [
      "K sampler with euler: 300it [00:02, 104.60it/s]                                                                                                                                                                                                                               \n",
      "Global seed set to 23434523\n",
      "K sampler with euler:   0%|                                                                                                                                                                                                                            | 0/25 [00:00<?, ?it/s]"
     ]
    },
    {
     "data": {
      "application/json": {
       "ascii": false,
       "bar_format": null,
       "colour": null,
       "elapsed": 0.013524055480957031,
       "initial": 0,
       "n": 0,
       "ncols": null,
       "nrows": 35,
       "postfix": null,
       "prefix": "",
       "rate": null,
       "total": 25,
       "unit": "it",
       "unit_divisor": 1000,
       "unit_scale": false
      },
      "application/vnd.jupyter.widget-view+json": {
       "model_id": "7190560e68694d0184a0c9e3e567f0ad",
       "version_major": 2,
       "version_minor": 0
      },
      "text/plain": [
       "  0%|          | 0/25 [00:00<?, ?it/s]"
      ]
     },
     "metadata": {},
     "output_type": "display_data"
    },
    {
     "name": "stderr",
     "output_type": "stream",
     "text": [
      "K sampler with euler: 300it [00:03, 92.32it/s]                                                                                                                                                                                                                                \n",
      "Global seed set to 23434523\n",
      "K sampler with euler:   0%|                                                                                                                                                                                                                            | 0/25 [00:00<?, ?it/s]"
     ]
    },
    {
     "data": {
      "application/json": {
       "ascii": false,
       "bar_format": null,
       "colour": null,
       "elapsed": 0.013435125350952148,
       "initial": 0,
       "n": 0,
       "ncols": null,
       "nrows": 35,
       "postfix": null,
       "prefix": "",
       "rate": null,
       "total": 25,
       "unit": "it",
       "unit_divisor": 1000,
       "unit_scale": false
      },
      "application/vnd.jupyter.widget-view+json": {
       "model_id": "c898527e8d2549e286d0baad62250c18",
       "version_major": 2,
       "version_minor": 0
      },
      "text/plain": [
       "  0%|          | 0/25 [00:00<?, ?it/s]"
      ]
     },
     "metadata": {},
     "output_type": "display_data"
    },
    {
     "name": "stderr",
     "output_type": "stream",
     "text": [
      "K sampler with euler: 300it [00:03, 78.63it/s]                                                                                                                                                                                                                                \n",
      "Global seed set to 23434523\n",
      "K sampler with euler:   0%|                                                                                                                                                                                                                            | 0/25 [00:00<?, ?it/s]"
     ]
    },
    {
     "data": {
      "application/json": {
       "ascii": false,
       "bar_format": null,
       "colour": null,
       "elapsed": 0.013769388198852539,
       "initial": 0,
       "n": 0,
       "ncols": null,
       "nrows": 35,
       "postfix": null,
       "prefix": "",
       "rate": null,
       "total": 25,
       "unit": "it",
       "unit_divisor": 1000,
       "unit_scale": false
      },
      "application/vnd.jupyter.widget-view+json": {
       "model_id": "08c99c75b0bf4340b2130d37156e86b1",
       "version_major": 2,
       "version_minor": 0
      },
      "text/plain": [
       "  0%|          | 0/25 [00:00<?, ?it/s]"
      ]
     },
     "metadata": {},
     "output_type": "display_data"
    },
    {
     "name": "stderr",
     "output_type": "stream",
     "text": [
      "K sampler with euler: 300it [00:02, 105.63it/s]                                                                                                                                                                                                                               \n",
      "Global seed set to 23434523\n",
      "K sampler with euler:   0%|                                                                                                                                                                                                                            | 0/25 [00:00<?, ?it/s]"
     ]
    },
    {
     "data": {
      "application/json": {
       "ascii": false,
       "bar_format": null,
       "colour": null,
       "elapsed": 0.015546083450317383,
       "initial": 0,
       "n": 0,
       "ncols": null,
       "nrows": 35,
       "postfix": null,
       "prefix": "",
       "rate": null,
       "total": 25,
       "unit": "it",
       "unit_divisor": 1000,
       "unit_scale": false
      },
      "application/vnd.jupyter.widget-view+json": {
       "model_id": "c48cccd4ac454a3f8f6f951b238c79fc",
       "version_major": 2,
       "version_minor": 0
      },
      "text/plain": [
       "  0%|          | 0/25 [00:00<?, ?it/s]"
      ]
     },
     "metadata": {},
     "output_type": "display_data"
    },
    {
     "name": "stderr",
     "output_type": "stream",
     "text": [
      "K sampler with euler: 300it [00:02, 102.04it/s]                                                                                                                                                                                                                               \n",
      "Global seed set to 23434523\n",
      "K sampler with euler:   0%|                                                                                                                                                                                                                            | 0/25 [00:00<?, ?it/s]"
     ]
    },
    {
     "data": {
      "application/json": {
       "ascii": false,
       "bar_format": null,
       "colour": null,
       "elapsed": 0.014578104019165039,
       "initial": 0,
       "n": 0,
       "ncols": null,
       "nrows": 35,
       "postfix": null,
       "prefix": "",
       "rate": null,
       "total": 25,
       "unit": "it",
       "unit_divisor": 1000,
       "unit_scale": false
      },
      "application/vnd.jupyter.widget-view+json": {
       "model_id": "d16a482a7b374470b76eee717e03b40a",
       "version_major": 2,
       "version_minor": 0
      },
      "text/plain": [
       "  0%|          | 0/25 [00:00<?, ?it/s]"
      ]
     },
     "metadata": {},
     "output_type": "display_data"
    },
    {
     "name": "stderr",
     "output_type": "stream",
     "text": [
      "K sampler with euler: 300it [00:03, 88.54it/s]                                                                                                                                                                                                                                \n",
      "Global seed set to 23434523\n",
      "K sampler with euler:   0%|                                                                                                                                                                                                                            | 0/25 [00:00<?, ?it/s]"
     ]
    },
    {
     "data": {
      "application/json": {
       "ascii": false,
       "bar_format": null,
       "colour": null,
       "elapsed": 0.01508784294128418,
       "initial": 0,
       "n": 0,
       "ncols": null,
       "nrows": 35,
       "postfix": null,
       "prefix": "",
       "rate": null,
       "total": 25,
       "unit": "it",
       "unit_divisor": 1000,
       "unit_scale": false
      },
      "application/vnd.jupyter.widget-view+json": {
       "model_id": "87b48aebdba043bc9deb805c98d81afb",
       "version_major": 2,
       "version_minor": 0
      },
      "text/plain": [
       "  0%|          | 0/25 [00:00<?, ?it/s]"
      ]
     },
     "metadata": {},
     "output_type": "display_data"
    },
    {
     "name": "stderr",
     "output_type": "stream",
     "text": [
      "K sampler with euler: 300it [00:02, 104.36it/s]                                                                                                                                                                                                                               \n",
      "Global seed set to 23434523\n",
      "K sampler with euler:   0%|                                                                                                                                                                                                                            | 0/25 [00:00<?, ?it/s]"
     ]
    },
    {
     "data": {
      "application/json": {
       "ascii": false,
       "bar_format": null,
       "colour": null,
       "elapsed": 0.0160672664642334,
       "initial": 0,
       "n": 0,
       "ncols": null,
       "nrows": 35,
       "postfix": null,
       "prefix": "",
       "rate": null,
       "total": 25,
       "unit": "it",
       "unit_divisor": 1000,
       "unit_scale": false
      },
      "application/vnd.jupyter.widget-view+json": {
       "model_id": "749e10412b594248b33c3df3de13213c",
       "version_major": 2,
       "version_minor": 0
      },
      "text/plain": [
       "  0%|          | 0/25 [00:00<?, ?it/s]"
      ]
     },
     "metadata": {},
     "output_type": "display_data"
    },
    {
     "name": "stderr",
     "output_type": "stream",
     "text": [
      "K sampler with euler: 300it [00:03, 92.34it/s]                                                                                                                                                                                                                                \n",
      "Global seed set to 23434523\n",
      "K sampler with euler:   0%|                                                                                                                                                                                                                            | 0/25 [00:00<?, ?it/s]"
     ]
    },
    {
     "data": {
      "application/json": {
       "ascii": false,
       "bar_format": null,
       "colour": null,
       "elapsed": 0.014307022094726562,
       "initial": 0,
       "n": 0,
       "ncols": null,
       "nrows": 35,
       "postfix": null,
       "prefix": "",
       "rate": null,
       "total": 25,
       "unit": "it",
       "unit_divisor": 1000,
       "unit_scale": false
      },
      "application/vnd.jupyter.widget-view+json": {
       "model_id": "b52262b0652143eb9aba3550336ddb76",
       "version_major": 2,
       "version_minor": 0
      },
      "text/plain": [
       "  0%|          | 0/25 [00:00<?, ?it/s]"
      ]
     },
     "metadata": {},
     "output_type": "display_data"
    },
    {
     "name": "stderr",
     "output_type": "stream",
     "text": [
      "K sampler with euler: 300it [00:03, 84.90it/s]                                                                                                                                                                                                                                \n",
      "Global seed set to 23434523\n",
      "K sampler with euler:   0%|                                                                                                                                                                                                                            | 0/25 [00:00<?, ?it/s]"
     ]
    },
    {
     "data": {
      "application/json": {
       "ascii": false,
       "bar_format": null,
       "colour": null,
       "elapsed": 0.014155387878417969,
       "initial": 0,
       "n": 0,
       "ncols": null,
       "nrows": 35,
       "postfix": null,
       "prefix": "",
       "rate": null,
       "total": 25,
       "unit": "it",
       "unit_divisor": 1000,
       "unit_scale": false
      },
      "application/vnd.jupyter.widget-view+json": {
       "model_id": "9862763452ab4224b723d8d4f8c81c5f",
       "version_major": 2,
       "version_minor": 0
      },
      "text/plain": [
       "  0%|          | 0/25 [00:00<?, ?it/s]"
      ]
     },
     "metadata": {},
     "output_type": "display_data"
    },
    {
     "name": "stderr",
     "output_type": "stream",
     "text": [
      "K sampler with euler: 300it [00:03, 95.50it/s]                                                                                                                                                                                                                                \n",
      "Global seed set to 23434523\n",
      "K sampler with euler:   0%|                                                                                                                                                                                                                            | 0/25 [00:00<?, ?it/s]"
     ]
    },
    {
     "data": {
      "application/json": {
       "ascii": false,
       "bar_format": null,
       "colour": null,
       "elapsed": 0.01740550994873047,
       "initial": 0,
       "n": 0,
       "ncols": null,
       "nrows": 35,
       "postfix": null,
       "prefix": "",
       "rate": null,
       "total": 25,
       "unit": "it",
       "unit_divisor": 1000,
       "unit_scale": false
      },
      "application/vnd.jupyter.widget-view+json": {
       "model_id": "5f0e82eb89dc401ead853304d33d0257",
       "version_major": 2,
       "version_minor": 0
      },
      "text/plain": [
       "  0%|          | 0/25 [00:00<?, ?it/s]"
      ]
     },
     "metadata": {},
     "output_type": "display_data"
    },
    {
     "name": "stderr",
     "output_type": "stream",
     "text": [
      "K sampler with euler: 300it [00:03, 98.56it/s]                                                                                                                                                                                                                                \n",
      "Global seed set to 23434523\n",
      "K sampler with euler:   0%|                                                                                                                                                                                                                            | 0/25 [00:00<?, ?it/s]"
     ]
    },
    {
     "data": {
      "application/json": {
       "ascii": false,
       "bar_format": null,
       "colour": null,
       "elapsed": 0.01366114616394043,
       "initial": 0,
       "n": 0,
       "ncols": null,
       "nrows": 35,
       "postfix": null,
       "prefix": "",
       "rate": null,
       "total": 25,
       "unit": "it",
       "unit_divisor": 1000,
       "unit_scale": false
      },
      "application/vnd.jupyter.widget-view+json": {
       "model_id": "d14fe385fd6148b39526bad8d5857536",
       "version_major": 2,
       "version_minor": 0
      },
      "text/plain": [
       "  0%|          | 0/25 [00:00<?, ?it/s]"
      ]
     },
     "metadata": {},
     "output_type": "display_data"
    },
    {
     "name": "stderr",
     "output_type": "stream",
     "text": [
      "K sampler with euler: 300it [00:03, 91.87it/s]                                                                                                                                                                                                                                \n",
      "Global seed set to 23434523\n",
      "K sampler with euler:   0%|                                                                                                                                                                                                                            | 0/25 [00:00<?, ?it/s]"
     ]
    },
    {
     "data": {
      "application/json": {
       "ascii": false,
       "bar_format": null,
       "colour": null,
       "elapsed": 0.014550447463989258,
       "initial": 0,
       "n": 0,
       "ncols": null,
       "nrows": 35,
       "postfix": null,
       "prefix": "",
       "rate": null,
       "total": 25,
       "unit": "it",
       "unit_divisor": 1000,
       "unit_scale": false
      },
      "application/vnd.jupyter.widget-view+json": {
       "model_id": "030a1588307649618b6707c91ef8b000",
       "version_major": 2,
       "version_minor": 0
      },
      "text/plain": [
       "  0%|          | 0/25 [00:00<?, ?it/s]"
      ]
     },
     "metadata": {},
     "output_type": "display_data"
    },
    {
     "name": "stderr",
     "output_type": "stream",
     "text": [
      "K sampler with euler: 300it [00:03, 96.20it/s]                                                                                                                                                                                                                                \n",
      "Global seed set to 23434523\n",
      "K sampler with euler:   0%|                                                                                                                                                                                                                            | 0/25 [00:00<?, ?it/s]"
     ]
    },
    {
     "data": {
      "application/json": {
       "ascii": false,
       "bar_format": null,
       "colour": null,
       "elapsed": 0.01483774185180664,
       "initial": 0,
       "n": 0,
       "ncols": null,
       "nrows": 35,
       "postfix": null,
       "prefix": "",
       "rate": null,
       "total": 25,
       "unit": "it",
       "unit_divisor": 1000,
       "unit_scale": false
      },
      "application/vnd.jupyter.widget-view+json": {
       "model_id": "12137af5e5824f3790e9388102ee8025",
       "version_major": 2,
       "version_minor": 0
      },
      "text/plain": [
       "  0%|          | 0/25 [00:00<?, ?it/s]"
      ]
     },
     "metadata": {},
     "output_type": "display_data"
    },
    {
     "name": "stderr",
     "output_type": "stream",
     "text": [
      "K sampler with euler: 300it [00:02, 104.00it/s]                                                                                                                                                                                                                               \n",
      "Global seed set to 23434523\n",
      "K sampler with euler:   0%|                                                                                                                                                                                                                            | 0/25 [00:00<?, ?it/s]"
     ]
    },
    {
     "data": {
      "application/json": {
       "ascii": false,
       "bar_format": null,
       "colour": null,
       "elapsed": 0.01398015022277832,
       "initial": 0,
       "n": 0,
       "ncols": null,
       "nrows": 35,
       "postfix": null,
       "prefix": "",
       "rate": null,
       "total": 25,
       "unit": "it",
       "unit_divisor": 1000,
       "unit_scale": false
      },
      "application/vnd.jupyter.widget-view+json": {
       "model_id": "2b679dc6296048eaa241c3bdb29d3b30",
       "version_major": 2,
       "version_minor": 0
      },
      "text/plain": [
       "  0%|          | 0/25 [00:00<?, ?it/s]"
      ]
     },
     "metadata": {},
     "output_type": "display_data"
    },
    {
     "name": "stderr",
     "output_type": "stream",
     "text": [
      "K sampler with euler: 300it [00:03, 76.27it/s]                                                                                                                                                                                                                                \n",
      "Global seed set to 23434523\n",
      "K sampler with euler:   0%|                                                                                                                                                                                                                            | 0/25 [00:00<?, ?it/s]"
     ]
    },
    {
     "data": {
      "application/json": {
       "ascii": false,
       "bar_format": null,
       "colour": null,
       "elapsed": 0.015585184097290039,
       "initial": 0,
       "n": 0,
       "ncols": null,
       "nrows": 35,
       "postfix": null,
       "prefix": "",
       "rate": null,
       "total": 25,
       "unit": "it",
       "unit_divisor": 1000,
       "unit_scale": false
      },
      "application/vnd.jupyter.widget-view+json": {
       "model_id": "fe97a2c574184d7e9808957d2a0866a6",
       "version_major": 2,
       "version_minor": 0
      },
      "text/plain": [
       "  0%|          | 0/25 [00:00<?, ?it/s]"
      ]
     },
     "metadata": {},
     "output_type": "display_data"
    },
    {
     "name": "stderr",
     "output_type": "stream",
     "text": [
      "K sampler with euler: 300it [00:03, 88.25it/s]                                                                                                                                                                                                                                \n",
      "Global seed set to 23434523\n",
      "K sampler with euler:   0%|                                                                                                                                                                                                                            | 0/25 [00:00<?, ?it/s]"
     ]
    },
    {
     "data": {
      "application/json": {
       "ascii": false,
       "bar_format": null,
       "colour": null,
       "elapsed": 0.01375579833984375,
       "initial": 0,
       "n": 0,
       "ncols": null,
       "nrows": 35,
       "postfix": null,
       "prefix": "",
       "rate": null,
       "total": 25,
       "unit": "it",
       "unit_divisor": 1000,
       "unit_scale": false
      },
      "application/vnd.jupyter.widget-view+json": {
       "model_id": "d057d527392a4198a85edbf765eb4f89",
       "version_major": 2,
       "version_minor": 0
      },
      "text/plain": [
       "  0%|          | 0/25 [00:00<?, ?it/s]"
      ]
     },
     "metadata": {},
     "output_type": "display_data"
    },
    {
     "name": "stderr",
     "output_type": "stream",
     "text": [
      "K sampler with euler: 300it [00:03, 97.11it/s]                                                                                                                                                                                                                                \n",
      "Global seed set to 23434523\n",
      "K sampler with euler:   0%|                                                                                                                                                                                                                            | 0/25 [00:00<?, ?it/s]"
     ]
    },
    {
     "data": {
      "application/json": {
       "ascii": false,
       "bar_format": null,
       "colour": null,
       "elapsed": 0.013562202453613281,
       "initial": 0,
       "n": 0,
       "ncols": null,
       "nrows": 35,
       "postfix": null,
       "prefix": "",
       "rate": null,
       "total": 25,
       "unit": "it",
       "unit_divisor": 1000,
       "unit_scale": false
      },
      "application/vnd.jupyter.widget-view+json": {
       "model_id": "14aeb7c0820c453585bbb6e792a390d2",
       "version_major": 2,
       "version_minor": 0
      },
      "text/plain": [
       "  0%|          | 0/25 [00:00<?, ?it/s]"
      ]
     },
     "metadata": {},
     "output_type": "display_data"
    },
    {
     "name": "stderr",
     "output_type": "stream",
     "text": [
      "K sampler with euler: 300it [00:03, 94.69it/s]                                                                                                                                                                                                                                \n",
      "Global seed set to 23434523\n",
      "K sampler with euler:   0%|                                                                                                                                                                                                                            | 0/25 [00:00<?, ?it/s]"
     ]
    },
    {
     "data": {
      "application/json": {
       "ascii": false,
       "bar_format": null,
       "colour": null,
       "elapsed": 0.014324188232421875,
       "initial": 0,
       "n": 0,
       "ncols": null,
       "nrows": 35,
       "postfix": null,
       "prefix": "",
       "rate": null,
       "total": 25,
       "unit": "it",
       "unit_divisor": 1000,
       "unit_scale": false
      },
      "application/vnd.jupyter.widget-view+json": {
       "model_id": "947fe5abcb3c4b94b166f78451eaac17",
       "version_major": 2,
       "version_minor": 0
      },
      "text/plain": [
       "  0%|          | 0/25 [00:00<?, ?it/s]"
      ]
     },
     "metadata": {},
     "output_type": "display_data"
    },
    {
     "name": "stderr",
     "output_type": "stream",
     "text": [
      "K sampler with euler: 300it [00:03, 94.13it/s]                                                                                                                                                                                                                                \n",
      "Global seed set to 23434523\n",
      "K sampler with euler:   0%|                                                                                                                                                                                                                            | 0/25 [00:00<?, ?it/s]"
     ]
    },
    {
     "data": {
      "application/json": {
       "ascii": false,
       "bar_format": null,
       "colour": null,
       "elapsed": 0.014377832412719727,
       "initial": 0,
       "n": 0,
       "ncols": null,
       "nrows": 35,
       "postfix": null,
       "prefix": "",
       "rate": null,
       "total": 25,
       "unit": "it",
       "unit_divisor": 1000,
       "unit_scale": false
      },
      "application/vnd.jupyter.widget-view+json": {
       "model_id": "0d7d1666b99b4b44a7e7987876a2c6f3",
       "version_major": 2,
       "version_minor": 0
      },
      "text/plain": [
       "  0%|          | 0/25 [00:00<?, ?it/s]"
      ]
     },
     "metadata": {},
     "output_type": "display_data"
    },
    {
     "name": "stderr",
     "output_type": "stream",
     "text": [
      "K sampler with euler: 300it [00:02, 102.15it/s]                                                                                                                                                                                                                               \n",
      "Global seed set to 23434523\n",
      "K sampler with euler:   0%|                                                                                                                                                                                                                            | 0/25 [00:00<?, ?it/s]"
     ]
    },
    {
     "data": {
      "application/json": {
       "ascii": false,
       "bar_format": null,
       "colour": null,
       "elapsed": 0.01546335220336914,
       "initial": 0,
       "n": 0,
       "ncols": null,
       "nrows": 35,
       "postfix": null,
       "prefix": "",
       "rate": null,
       "total": 25,
       "unit": "it",
       "unit_divisor": 1000,
       "unit_scale": false
      },
      "application/vnd.jupyter.widget-view+json": {
       "model_id": "6ecdffd5fb17419ab46ee26be80ed524",
       "version_major": 2,
       "version_minor": 0
      },
      "text/plain": [
       "  0%|          | 0/25 [00:00<?, ?it/s]"
      ]
     },
     "metadata": {},
     "output_type": "display_data"
    },
    {
     "name": "stderr",
     "output_type": "stream",
     "text": [
      "K sampler with euler: 300it [00:03, 80.41it/s]                                                                                                                                                                                                                                \n",
      "Global seed set to 23434523\n",
      "K sampler with euler:   0%|                                                                                                                                                                                                                            | 0/25 [00:00<?, ?it/s]"
     ]
    },
    {
     "data": {
      "application/json": {
       "ascii": false,
       "bar_format": null,
       "colour": null,
       "elapsed": 0.015223979949951172,
       "initial": 0,
       "n": 0,
       "ncols": null,
       "nrows": 35,
       "postfix": null,
       "prefix": "",
       "rate": null,
       "total": 25,
       "unit": "it",
       "unit_divisor": 1000,
       "unit_scale": false
      },
      "application/vnd.jupyter.widget-view+json": {
       "model_id": "d8d6c908760e43498004bf1f585036a4",
       "version_major": 2,
       "version_minor": 0
      },
      "text/plain": [
       "  0%|          | 0/25 [00:00<?, ?it/s]"
      ]
     },
     "metadata": {},
     "output_type": "display_data"
    },
    {
     "name": "stderr",
     "output_type": "stream",
     "text": [
      "K sampler with euler: 300it [00:03, 87.45it/s]                                                                                                                                                                                                                                \n",
      "Global seed set to 23434523\n",
      "K sampler with euler:   0%|                                                                                                                                                                                                                            | 0/25 [00:00<?, ?it/s]"
     ]
    },
    {
     "data": {
      "application/json": {
       "ascii": false,
       "bar_format": null,
       "colour": null,
       "elapsed": 0.021123886108398438,
       "initial": 0,
       "n": 0,
       "ncols": null,
       "nrows": 35,
       "postfix": null,
       "prefix": "",
       "rate": null,
       "total": 25,
       "unit": "it",
       "unit_divisor": 1000,
       "unit_scale": false
      },
      "application/vnd.jupyter.widget-view+json": {
       "model_id": "c376b59915ad46958a934ee217691c02",
       "version_major": 2,
       "version_minor": 0
      },
      "text/plain": [
       "  0%|          | 0/25 [00:00<?, ?it/s]"
      ]
     },
     "metadata": {},
     "output_type": "display_data"
    },
    {
     "name": "stderr",
     "output_type": "stream",
     "text": [
      "K sampler with euler: 300it [00:02, 104.54it/s]                                                                                                                                                                                                                               \n",
      "Global seed set to 23434523\n",
      "K sampler with euler:   0%|                                                                                                                                                                                                                            | 0/25 [00:00<?, ?it/s]"
     ]
    },
    {
     "data": {
      "application/json": {
       "ascii": false,
       "bar_format": null,
       "colour": null,
       "elapsed": 0.014095783233642578,
       "initial": 0,
       "n": 0,
       "ncols": null,
       "nrows": 35,
       "postfix": null,
       "prefix": "",
       "rate": null,
       "total": 25,
       "unit": "it",
       "unit_divisor": 1000,
       "unit_scale": false
      },
      "application/vnd.jupyter.widget-view+json": {
       "model_id": "4200a2591e8040efa78d50fa9ba4c9a5",
       "version_major": 2,
       "version_minor": 0
      },
      "text/plain": [
       "  0%|          | 0/25 [00:00<?, ?it/s]"
      ]
     },
     "metadata": {},
     "output_type": "display_data"
    },
    {
     "name": "stderr",
     "output_type": "stream",
     "text": [
      "K sampler with euler: 300it [00:03, 79.75it/s]                                                                                                                                                                                                                                \n",
      "Global seed set to 23434523\n",
      "K sampler with euler:   0%|                                                                                                                                                                                                                            | 0/25 [00:00<?, ?it/s]"
     ]
    },
    {
     "data": {
      "application/json": {
       "ascii": false,
       "bar_format": null,
       "colour": null,
       "elapsed": 0.014532327651977539,
       "initial": 0,
       "n": 0,
       "ncols": null,
       "nrows": 35,
       "postfix": null,
       "prefix": "",
       "rate": null,
       "total": 25,
       "unit": "it",
       "unit_divisor": 1000,
       "unit_scale": false
      },
      "application/vnd.jupyter.widget-view+json": {
       "model_id": "ba33784fb5254c0280dd899dfdf9872c",
       "version_major": 2,
       "version_minor": 0
      },
      "text/plain": [
       "  0%|          | 0/25 [00:00<?, ?it/s]"
      ]
     },
     "metadata": {},
     "output_type": "display_data"
    },
    {
     "name": "stderr",
     "output_type": "stream",
     "text": [
      "K sampler with euler: 300it [00:03, 81.73it/s]                                                                                                                                                                                                                                \n",
      "Global seed set to 23434523\n",
      "K sampler with euler:   0%|                                                                                                                                                                                                                            | 0/25 [00:00<?, ?it/s]"
     ]
    },
    {
     "data": {
      "application/json": {
       "ascii": false,
       "bar_format": null,
       "colour": null,
       "elapsed": 0.013976812362670898,
       "initial": 0,
       "n": 0,
       "ncols": null,
       "nrows": 35,
       "postfix": null,
       "prefix": "",
       "rate": null,
       "total": 25,
       "unit": "it",
       "unit_divisor": 1000,
       "unit_scale": false
      },
      "application/vnd.jupyter.widget-view+json": {
       "model_id": "af518e6319d84219aac801cbb0a71165",
       "version_major": 2,
       "version_minor": 0
      },
      "text/plain": [
       "  0%|          | 0/25 [00:00<?, ?it/s]"
      ]
     },
     "metadata": {},
     "output_type": "display_data"
    },
    {
     "name": "stderr",
     "output_type": "stream",
     "text": [
      "K sampler with euler: 300it [00:02, 104.40it/s]                                                                                                                                                                                                                               \n",
      "Global seed set to 23434523\n",
      "K sampler with euler:   0%|                                                                                                                                                                                                                            | 0/25 [00:00<?, ?it/s]"
     ]
    },
    {
     "data": {
      "application/json": {
       "ascii": false,
       "bar_format": null,
       "colour": null,
       "elapsed": 0.01395106315612793,
       "initial": 0,
       "n": 0,
       "ncols": null,
       "nrows": 35,
       "postfix": null,
       "prefix": "",
       "rate": null,
       "total": 25,
       "unit": "it",
       "unit_divisor": 1000,
       "unit_scale": false
      },
      "application/vnd.jupyter.widget-view+json": {
       "model_id": "6f77ad4e451e4648aedb1b7e543ddd44",
       "version_major": 2,
       "version_minor": 0
      },
      "text/plain": [
       "  0%|          | 0/25 [00:00<?, ?it/s]"
      ]
     },
     "metadata": {},
     "output_type": "display_data"
    },
    {
     "name": "stderr",
     "output_type": "stream",
     "text": [
      "K sampler with euler: 300it [00:03, 83.65it/s]                                                                                                                                                                                                                                \n",
      "Global seed set to 23434523\n",
      "K sampler with euler:   0%|                                                                                                                                                                                                                            | 0/25 [00:00<?, ?it/s]"
     ]
    },
    {
     "data": {
      "application/json": {
       "ascii": false,
       "bar_format": null,
       "colour": null,
       "elapsed": 0.013665437698364258,
       "initial": 0,
       "n": 0,
       "ncols": null,
       "nrows": 35,
       "postfix": null,
       "prefix": "",
       "rate": null,
       "total": 25,
       "unit": "it",
       "unit_divisor": 1000,
       "unit_scale": false
      },
      "application/vnd.jupyter.widget-view+json": {
       "model_id": "99a595fa4bea4b0692a2439450c438a9",
       "version_major": 2,
       "version_minor": 0
      },
      "text/plain": [
       "  0%|          | 0/25 [00:00<?, ?it/s]"
      ]
     },
     "metadata": {},
     "output_type": "display_data"
    },
    {
     "name": "stderr",
     "output_type": "stream",
     "text": [
      "K sampler with euler: 300it [00:03, 88.63it/s]                                                                                                                                                                                                                                \n",
      "Global seed set to 23434523\n",
      "K sampler with euler:   0%|                                                                                                                                                                                                                            | 0/25 [00:00<?, ?it/s]"
     ]
    },
    {
     "data": {
      "application/json": {
       "ascii": false,
       "bar_format": null,
       "colour": null,
       "elapsed": 0.014043331146240234,
       "initial": 0,
       "n": 0,
       "ncols": null,
       "nrows": 35,
       "postfix": null,
       "prefix": "",
       "rate": null,
       "total": 25,
       "unit": "it",
       "unit_divisor": 1000,
       "unit_scale": false
      },
      "application/vnd.jupyter.widget-view+json": {
       "model_id": "9c9b1b2b1bd9442d962fedbf9b5383a2",
       "version_major": 2,
       "version_minor": 0
      },
      "text/plain": [
       "  0%|          | 0/25 [00:00<?, ?it/s]"
      ]
     },
     "metadata": {},
     "output_type": "display_data"
    },
    {
     "name": "stderr",
     "output_type": "stream",
     "text": [
      "K sampler with euler: 300it [00:03, 97.13it/s]                                                                                                                                                                                                                                \n",
      "Global seed set to 23434523\n",
      "K sampler with euler:   0%|                                                                                                                                                                                                                            | 0/25 [00:00<?, ?it/s]"
     ]
    },
    {
     "data": {
      "application/json": {
       "ascii": false,
       "bar_format": null,
       "colour": null,
       "elapsed": 0.013534069061279297,
       "initial": 0,
       "n": 0,
       "ncols": null,
       "nrows": 35,
       "postfix": null,
       "prefix": "",
       "rate": null,
       "total": 25,
       "unit": "it",
       "unit_divisor": 1000,
       "unit_scale": false
      },
      "application/vnd.jupyter.widget-view+json": {
       "model_id": "6cbc2514902745c392a87f1e7e3baa47",
       "version_major": 2,
       "version_minor": 0
      },
      "text/plain": [
       "  0%|          | 0/25 [00:00<?, ?it/s]"
      ]
     },
     "metadata": {},
     "output_type": "display_data"
    },
    {
     "name": "stderr",
     "output_type": "stream",
     "text": [
      "K sampler with euler: 300it [00:03, 90.94it/s]                                                                                                                                                                                                                                \n",
      "Global seed set to 23434523\n",
      "K sampler with euler:   0%|                                                                                                                                                                                                                            | 0/25 [00:00<?, ?it/s]"
     ]
    },
    {
     "data": {
      "application/json": {
       "ascii": false,
       "bar_format": null,
       "colour": null,
       "elapsed": 0.013681173324584961,
       "initial": 0,
       "n": 0,
       "ncols": null,
       "nrows": 35,
       "postfix": null,
       "prefix": "",
       "rate": null,
       "total": 25,
       "unit": "it",
       "unit_divisor": 1000,
       "unit_scale": false
      },
      "application/vnd.jupyter.widget-view+json": {
       "model_id": "18e0bc20f37f421791c3ec12fac0f7f2",
       "version_major": 2,
       "version_minor": 0
      },
      "text/plain": [
       "  0%|          | 0/25 [00:00<?, ?it/s]"
      ]
     },
     "metadata": {},
     "output_type": "display_data"
    },
    {
     "name": "stderr",
     "output_type": "stream",
     "text": [
      "K sampler with euler: 300it [00:03, 92.63it/s]                                                                                                                                                                                                                                \n",
      "Global seed set to 23434523\n",
      "K sampler with euler:   0%|                                                                                                                                                                                                                            | 0/25 [00:00<?, ?it/s]"
     ]
    },
    {
     "data": {
      "application/json": {
       "ascii": false,
       "bar_format": null,
       "colour": null,
       "elapsed": 0.014011383056640625,
       "initial": 0,
       "n": 0,
       "ncols": null,
       "nrows": 35,
       "postfix": null,
       "prefix": "",
       "rate": null,
       "total": 25,
       "unit": "it",
       "unit_divisor": 1000,
       "unit_scale": false
      },
      "application/vnd.jupyter.widget-view+json": {
       "model_id": "6f705f00b8f446fc8d9caf9c794ea6fd",
       "version_major": 2,
       "version_minor": 0
      },
      "text/plain": [
       "  0%|          | 0/25 [00:00<?, ?it/s]"
      ]
     },
     "metadata": {},
     "output_type": "display_data"
    },
    {
     "name": "stderr",
     "output_type": "stream",
     "text": [
      "K sampler with euler: 300it [00:02, 101.63it/s]                                                                                                                                                                                                                               \n",
      "Global seed set to 23434523\n",
      "K sampler with euler:   0%|                                                                                                                                                                                                                            | 0/25 [00:00<?, ?it/s]"
     ]
    },
    {
     "data": {
      "application/json": {
       "ascii": false,
       "bar_format": null,
       "colour": null,
       "elapsed": 0.014878511428833008,
       "initial": 0,
       "n": 0,
       "ncols": null,
       "nrows": 35,
       "postfix": null,
       "prefix": "",
       "rate": null,
       "total": 25,
       "unit": "it",
       "unit_divisor": 1000,
       "unit_scale": false
      },
      "application/vnd.jupyter.widget-view+json": {
       "model_id": "6bd08bb9a6214dc9a455b35f277a0f96",
       "version_major": 2,
       "version_minor": 0
      },
      "text/plain": [
       "  0%|          | 0/25 [00:00<?, ?it/s]"
      ]
     },
     "metadata": {},
     "output_type": "display_data"
    },
    {
     "name": "stderr",
     "output_type": "stream",
     "text": [
      "K sampler with euler: 300it [00:03, 81.46it/s]                                                                                                                                                                                                                                \n",
      "Global seed set to 23434523\n",
      "K sampler with euler:   0%|                                                                                                                                                                                                                            | 0/25 [00:00<?, ?it/s]"
     ]
    },
    {
     "data": {
      "application/json": {
       "ascii": false,
       "bar_format": null,
       "colour": null,
       "elapsed": 0.013529539108276367,
       "initial": 0,
       "n": 0,
       "ncols": null,
       "nrows": 35,
       "postfix": null,
       "prefix": "",
       "rate": null,
       "total": 25,
       "unit": "it",
       "unit_divisor": 1000,
       "unit_scale": false
      },
      "application/vnd.jupyter.widget-view+json": {
       "model_id": "ec7c7db156dc494da8d8a6773d9eb309",
       "version_major": 2,
       "version_minor": 0
      },
      "text/plain": [
       "  0%|          | 0/25 [00:00<?, ?it/s]"
      ]
     },
     "metadata": {},
     "output_type": "display_data"
    },
    {
     "name": "stderr",
     "output_type": "stream",
     "text": [
      "K sampler with euler: 300it [00:03, 77.55it/s]                                                                                                                                                                                                                                \n",
      "Global seed set to 23434523\n",
      "K sampler with euler:   0%|                                                                                                                                                                                                                            | 0/25 [00:00<?, ?it/s]"
     ]
    },
    {
     "data": {
      "application/json": {
       "ascii": false,
       "bar_format": null,
       "colour": null,
       "elapsed": 0.013701677322387695,
       "initial": 0,
       "n": 0,
       "ncols": null,
       "nrows": 35,
       "postfix": null,
       "prefix": "",
       "rate": null,
       "total": 25,
       "unit": "it",
       "unit_divisor": 1000,
       "unit_scale": false
      },
      "application/vnd.jupyter.widget-view+json": {
       "model_id": "b53ec5338a554b63aeebac2fda797c40",
       "version_major": 2,
       "version_minor": 0
      },
      "text/plain": [
       "  0%|          | 0/25 [00:00<?, ?it/s]"
      ]
     },
     "metadata": {},
     "output_type": "display_data"
    },
    {
     "name": "stderr",
     "output_type": "stream",
     "text": [
      "K sampler with euler: 300it [00:02, 103.44it/s]                                                                                                                                                                                                                               \n",
      "Global seed set to 23434523\n",
      "K sampler with euler:   0%|                                                                                                                                                                                                                            | 0/25 [00:00<?, ?it/s]"
     ]
    },
    {
     "data": {
      "application/json": {
       "ascii": false,
       "bar_format": null,
       "colour": null,
       "elapsed": 0.017806053161621094,
       "initial": 0,
       "n": 0,
       "ncols": null,
       "nrows": 35,
       "postfix": null,
       "prefix": "",
       "rate": null,
       "total": 25,
       "unit": "it",
       "unit_divisor": 1000,
       "unit_scale": false
      },
      "application/vnd.jupyter.widget-view+json": {
       "model_id": "1c8c4c1bd72d40e3a7b180f5a403d38f",
       "version_major": 2,
       "version_minor": 0
      },
      "text/plain": [
       "  0%|          | 0/25 [00:00<?, ?it/s]"
      ]
     },
     "metadata": {},
     "output_type": "display_data"
    },
    {
     "name": "stderr",
     "output_type": "stream",
     "text": [
      "K sampler with euler: 300it [00:03, 96.82it/s]                                                                                                                                                                                                                                \n",
      "Global seed set to 23434523\n",
      "K sampler with euler:   0%|                                                                                                                                                                                                                            | 0/25 [00:00<?, ?it/s]"
     ]
    },
    {
     "data": {
      "application/json": {
       "ascii": false,
       "bar_format": null,
       "colour": null,
       "elapsed": 0.013535261154174805,
       "initial": 0,
       "n": 0,
       "ncols": null,
       "nrows": 35,
       "postfix": null,
       "prefix": "",
       "rate": null,
       "total": 25,
       "unit": "it",
       "unit_divisor": 1000,
       "unit_scale": false
      },
      "application/vnd.jupyter.widget-view+json": {
       "model_id": "ee291a2f66fe4785827a57513274a69d",
       "version_major": 2,
       "version_minor": 0
      },
      "text/plain": [
       "  0%|          | 0/25 [00:00<?, ?it/s]"
      ]
     },
     "metadata": {},
     "output_type": "display_data"
    },
    {
     "name": "stderr",
     "output_type": "stream",
     "text": [
      "K sampler with euler: 300it [00:03, 85.70it/s]                                                                                                                                                                                                                                \n",
      "Global seed set to 23434523\n",
      "K sampler with euler:   0%|                                                                                                                                                                                                                            | 0/25 [00:00<?, ?it/s]"
     ]
    },
    {
     "data": {
      "application/json": {
       "ascii": false,
       "bar_format": null,
       "colour": null,
       "elapsed": 0.01578235626220703,
       "initial": 0,
       "n": 0,
       "ncols": null,
       "nrows": 35,
       "postfix": null,
       "prefix": "",
       "rate": null,
       "total": 25,
       "unit": "it",
       "unit_divisor": 1000,
       "unit_scale": false
      },
      "application/vnd.jupyter.widget-view+json": {
       "model_id": "5df3235dd06e46729396a4b79a56f4ce",
       "version_major": 2,
       "version_minor": 0
      },
      "text/plain": [
       "  0%|          | 0/25 [00:00<?, ?it/s]"
      ]
     },
     "metadata": {},
     "output_type": "display_data"
    },
    {
     "name": "stderr",
     "output_type": "stream",
     "text": [
      "K sampler with euler: 300it [00:02, 100.24it/s]                                                                                                                                                                                                                               \n",
      "Global seed set to 23434523\n",
      "K sampler with euler:   0%|                                                                                                                                                                                                                            | 0/25 [00:00<?, ?it/s]"
     ]
    },
    {
     "data": {
      "application/json": {
       "ascii": false,
       "bar_format": null,
       "colour": null,
       "elapsed": 0.015184402465820312,
       "initial": 0,
       "n": 0,
       "ncols": null,
       "nrows": 35,
       "postfix": null,
       "prefix": "",
       "rate": null,
       "total": 25,
       "unit": "it",
       "unit_divisor": 1000,
       "unit_scale": false
      },
      "application/vnd.jupyter.widget-view+json": {
       "model_id": "b19c508289a34bb29ef0da59cdc30dff",
       "version_major": 2,
       "version_minor": 0
      },
      "text/plain": [
       "  0%|          | 0/25 [00:00<?, ?it/s]"
      ]
     },
     "metadata": {},
     "output_type": "display_data"
    },
    {
     "name": "stderr",
     "output_type": "stream",
     "text": [
      "K sampler with euler: 300it [00:03, 91.36it/s]                                                                                                                                                                                                                                \n",
      "Global seed set to 23434523\n",
      "K sampler with euler:   0%|                                                                                                                                                                                                                            | 0/25 [00:00<?, ?it/s]"
     ]
    },
    {
     "data": {
      "application/json": {
       "ascii": false,
       "bar_format": null,
       "colour": null,
       "elapsed": 0.015641450881958008,
       "initial": 0,
       "n": 0,
       "ncols": null,
       "nrows": 35,
       "postfix": null,
       "prefix": "",
       "rate": null,
       "total": 25,
       "unit": "it",
       "unit_divisor": 1000,
       "unit_scale": false
      },
      "application/vnd.jupyter.widget-view+json": {
       "model_id": "cb9cf99a32e64c7d81a7586f5965d1be",
       "version_major": 2,
       "version_minor": 0
      },
      "text/plain": [
       "  0%|          | 0/25 [00:00<?, ?it/s]"
      ]
     },
     "metadata": {},
     "output_type": "display_data"
    },
    {
     "name": "stderr",
     "output_type": "stream",
     "text": [
      "K sampler with euler: 300it [00:03, 85.66it/s]                                                                                                                                                                                                                                \n",
      "Global seed set to 23434523\n",
      "K sampler with euler:   0%|                                                                                                                                                                                                                            | 0/25 [00:00<?, ?it/s]"
     ]
    },
    {
     "data": {
      "application/json": {
       "ascii": false,
       "bar_format": null,
       "colour": null,
       "elapsed": 0.014691352844238281,
       "initial": 0,
       "n": 0,
       "ncols": null,
       "nrows": 35,
       "postfix": null,
       "prefix": "",
       "rate": null,
       "total": 25,
       "unit": "it",
       "unit_divisor": 1000,
       "unit_scale": false
      },
      "application/vnd.jupyter.widget-view+json": {
       "model_id": "c11818139708409ba33f1ca1cef042bf",
       "version_major": 2,
       "version_minor": 0
      },
      "text/plain": [
       "  0%|          | 0/25 [00:00<?, ?it/s]"
      ]
     },
     "metadata": {},
     "output_type": "display_data"
    },
    {
     "name": "stderr",
     "output_type": "stream",
     "text": [
      "K sampler with euler: 300it [00:02, 102.72it/s]                                                                                                                                                                                                                               \n",
      "Global seed set to 23434523\n",
      "K sampler with euler:   0%|                                                                                                                                                                                                                            | 0/25 [00:00<?, ?it/s]"
     ]
    },
    {
     "data": {
      "application/json": {
       "ascii": false,
       "bar_format": null,
       "colour": null,
       "elapsed": 0.014367103576660156,
       "initial": 0,
       "n": 0,
       "ncols": null,
       "nrows": 35,
       "postfix": null,
       "prefix": "",
       "rate": null,
       "total": 25,
       "unit": "it",
       "unit_divisor": 1000,
       "unit_scale": false
      },
      "application/vnd.jupyter.widget-view+json": {
       "model_id": "92f88b4629604c6f8e17f5e9bac7e247",
       "version_major": 2,
       "version_minor": 0
      },
      "text/plain": [
       "  0%|          | 0/25 [00:00<?, ?it/s]"
      ]
     },
     "metadata": {},
     "output_type": "display_data"
    },
    {
     "name": "stderr",
     "output_type": "stream",
     "text": [
      "K sampler with euler: 300it [00:03, 93.90it/s]                                                                                                                                                                                                                                \n",
      "Global seed set to 23434523\n",
      "K sampler with euler:   0%|                                                                                                                                                                                                                            | 0/25 [00:00<?, ?it/s]"
     ]
    },
    {
     "data": {
      "application/json": {
       "ascii": false,
       "bar_format": null,
       "colour": null,
       "elapsed": 0.013844966888427734,
       "initial": 0,
       "n": 0,
       "ncols": null,
       "nrows": 35,
       "postfix": null,
       "prefix": "",
       "rate": null,
       "total": 25,
       "unit": "it",
       "unit_divisor": 1000,
       "unit_scale": false
      },
      "application/vnd.jupyter.widget-view+json": {
       "model_id": "762b91abb5b54bc782d4a538a09375a3",
       "version_major": 2,
       "version_minor": 0
      },
      "text/plain": [
       "  0%|          | 0/25 [00:00<?, ?it/s]"
      ]
     },
     "metadata": {},
     "output_type": "display_data"
    },
    {
     "name": "stderr",
     "output_type": "stream",
     "text": [
      "K sampler with euler: 300it [00:03, 86.51it/s]                                                                                                                                                                                                                                \n",
      "Global seed set to 23434523\n",
      "K sampler with euler:   0%|                                                                                                                                                                                                                            | 0/25 [00:00<?, ?it/s]"
     ]
    },
    {
     "data": {
      "application/json": {
       "ascii": false,
       "bar_format": null,
       "colour": null,
       "elapsed": 0.015719175338745117,
       "initial": 0,
       "n": 0,
       "ncols": null,
       "nrows": 35,
       "postfix": null,
       "prefix": "",
       "rate": null,
       "total": 25,
       "unit": "it",
       "unit_divisor": 1000,
       "unit_scale": false
      },
      "application/vnd.jupyter.widget-view+json": {
       "model_id": "bf349431db9a483b8438f60fe33c5b74",
       "version_major": 2,
       "version_minor": 0
      },
      "text/plain": [
       "  0%|          | 0/25 [00:00<?, ?it/s]"
      ]
     },
     "metadata": {},
     "output_type": "display_data"
    },
    {
     "name": "stderr",
     "output_type": "stream",
     "text": [
      "K sampler with euler: 300it [00:02, 101.43it/s]                                                                                                                                                                                                                               \n",
      "Global seed set to 23434523\n",
      "K sampler with euler:   0%|                                                                                                                                                                                                                            | 0/25 [00:00<?, ?it/s]"
     ]
    },
    {
     "data": {
      "application/json": {
       "ascii": false,
       "bar_format": null,
       "colour": null,
       "elapsed": 0.014123916625976562,
       "initial": 0,
       "n": 0,
       "ncols": null,
       "nrows": 35,
       "postfix": null,
       "prefix": "",
       "rate": null,
       "total": 25,
       "unit": "it",
       "unit_divisor": 1000,
       "unit_scale": false
      },
      "application/vnd.jupyter.widget-view+json": {
       "model_id": "5374e9d62bcb474aa0d2fb67d75c5765",
       "version_major": 2,
       "version_minor": 0
      },
      "text/plain": [
       "  0%|          | 0/25 [00:00<?, ?it/s]"
      ]
     },
     "metadata": {},
     "output_type": "display_data"
    },
    {
     "name": "stderr",
     "output_type": "stream",
     "text": [
      "K sampler with euler: 300it [00:03, 97.38it/s]                                                                                                                                                                                                                                \n",
      "Global seed set to 23434523\n",
      "K sampler with euler:   0%|                                                                                                                                                                                                                            | 0/25 [00:00<?, ?it/s]"
     ]
    },
    {
     "data": {
      "application/json": {
       "ascii": false,
       "bar_format": null,
       "colour": null,
       "elapsed": 0.015184164047241211,
       "initial": 0,
       "n": 0,
       "ncols": null,
       "nrows": 35,
       "postfix": null,
       "prefix": "",
       "rate": null,
       "total": 25,
       "unit": "it",
       "unit_divisor": 1000,
       "unit_scale": false
      },
      "application/vnd.jupyter.widget-view+json": {
       "model_id": "179a358ce80b469da1064bd9cd5f345d",
       "version_major": 2,
       "version_minor": 0
      },
      "text/plain": [
       "  0%|          | 0/25 [00:00<?, ?it/s]"
      ]
     },
     "metadata": {},
     "output_type": "display_data"
    },
    {
     "name": "stderr",
     "output_type": "stream",
     "text": [
      "K sampler with euler: 300it [00:03, 81.19it/s]                                                                                                                                                                                                                                \n",
      "Global seed set to 23434523\n",
      "K sampler with euler:   0%|                                                                                                                                                                                                                            | 0/25 [00:00<?, ?it/s]"
     ]
    },
    {
     "data": {
      "application/json": {
       "ascii": false,
       "bar_format": null,
       "colour": null,
       "elapsed": 0.014794349670410156,
       "initial": 0,
       "n": 0,
       "ncols": null,
       "nrows": 35,
       "postfix": null,
       "prefix": "",
       "rate": null,
       "total": 25,
       "unit": "it",
       "unit_divisor": 1000,
       "unit_scale": false
      },
      "application/vnd.jupyter.widget-view+json": {
       "model_id": "ac5fde93f79145218764d3772d79ae3c",
       "version_major": 2,
       "version_minor": 0
      },
      "text/plain": [
       "  0%|          | 0/25 [00:00<?, ?it/s]"
      ]
     },
     "metadata": {},
     "output_type": "display_data"
    },
    {
     "name": "stderr",
     "output_type": "stream",
     "text": [
      "K sampler with euler: 300it [00:03, 99.30it/s]                                                                                                                                                                                                                                \n",
      "Global seed set to 23434523\n",
      "K sampler with euler:   0%|                                                                                                                                                                                                                            | 0/25 [00:00<?, ?it/s]"
     ]
    },
    {
     "data": {
      "application/json": {
       "ascii": false,
       "bar_format": null,
       "colour": null,
       "elapsed": 0.014730215072631836,
       "initial": 0,
       "n": 0,
       "ncols": null,
       "nrows": 35,
       "postfix": null,
       "prefix": "",
       "rate": null,
       "total": 25,
       "unit": "it",
       "unit_divisor": 1000,
       "unit_scale": false
      },
      "application/vnd.jupyter.widget-view+json": {
       "model_id": "e25cb2a74880492299678ed91a65e471",
       "version_major": 2,
       "version_minor": 0
      },
      "text/plain": [
       "  0%|          | 0/25 [00:00<?, ?it/s]"
      ]
     },
     "metadata": {},
     "output_type": "display_data"
    },
    {
     "name": "stderr",
     "output_type": "stream",
     "text": [
      "K sampler with euler: 300it [00:02, 104.85it/s]                                                                                                                                                                                                                               \n",
      "Global seed set to 23434523\n",
      "K sampler with euler:   0%|                                                                                                                                                                                                                            | 0/25 [00:00<?, ?it/s]"
     ]
    },
    {
     "data": {
      "application/json": {
       "ascii": false,
       "bar_format": null,
       "colour": null,
       "elapsed": 0.013483762741088867,
       "initial": 0,
       "n": 0,
       "ncols": null,
       "nrows": 35,
       "postfix": null,
       "prefix": "",
       "rate": null,
       "total": 25,
       "unit": "it",
       "unit_divisor": 1000,
       "unit_scale": false
      },
      "application/vnd.jupyter.widget-view+json": {
       "model_id": "a33a518d42284fac940b5eac25bb9da9",
       "version_major": 2,
       "version_minor": 0
      },
      "text/plain": [
       "  0%|          | 0/25 [00:00<?, ?it/s]"
      ]
     },
     "metadata": {},
     "output_type": "display_data"
    },
    {
     "name": "stderr",
     "output_type": "stream",
     "text": [
      "K sampler with euler: 300it [00:03, 88.05it/s]                                                                                                                                                                                                                                \n",
      "Global seed set to 23434523\n",
      "K sampler with euler:   0%|                                                                                                                                                                                                                            | 0/25 [00:00<?, ?it/s]"
     ]
    },
    {
     "data": {
      "application/json": {
       "ascii": false,
       "bar_format": null,
       "colour": null,
       "elapsed": 0.013635635375976562,
       "initial": 0,
       "n": 0,
       "ncols": null,
       "nrows": 35,
       "postfix": null,
       "prefix": "",
       "rate": null,
       "total": 25,
       "unit": "it",
       "unit_divisor": 1000,
       "unit_scale": false
      },
      "application/vnd.jupyter.widget-view+json": {
       "model_id": "4946bbfbdcbe459186d8bb8c3d157c19",
       "version_major": 2,
       "version_minor": 0
      },
      "text/plain": [
       "  0%|          | 0/25 [00:00<?, ?it/s]"
      ]
     },
     "metadata": {},
     "output_type": "display_data"
    },
    {
     "name": "stderr",
     "output_type": "stream",
     "text": [
      "K sampler with euler: 300it [00:03, 97.60it/s]                                                                                                                                                                                                                                \n",
      "Global seed set to 23434523\n",
      "K sampler with euler:   0%|                                                                                                                                                                                                                            | 0/25 [00:00<?, ?it/s]"
     ]
    },
    {
     "data": {
      "application/json": {
       "ascii": false,
       "bar_format": null,
       "colour": null,
       "elapsed": 0.01433563232421875,
       "initial": 0,
       "n": 0,
       "ncols": null,
       "nrows": 35,
       "postfix": null,
       "prefix": "",
       "rate": null,
       "total": 25,
       "unit": "it",
       "unit_divisor": 1000,
       "unit_scale": false
      },
      "application/vnd.jupyter.widget-view+json": {
       "model_id": "c3ae6b337fa44c519ee1f9894455683a",
       "version_major": 2,
       "version_minor": 0
      },
      "text/plain": [
       "  0%|          | 0/25 [00:00<?, ?it/s]"
      ]
     },
     "metadata": {},
     "output_type": "display_data"
    },
    {
     "name": "stderr",
     "output_type": "stream",
     "text": [
      "K sampler with euler: 300it [00:03, 97.41it/s]                                                                                                                                                                                                                                \n",
      "Global seed set to 23434523\n",
      "K sampler with euler:   0%|                                                                                                                                                                                                                            | 0/25 [00:00<?, ?it/s]"
     ]
    },
    {
     "data": {
      "application/json": {
       "ascii": false,
       "bar_format": null,
       "colour": null,
       "elapsed": 0.013467788696289062,
       "initial": 0,
       "n": 0,
       "ncols": null,
       "nrows": 35,
       "postfix": null,
       "prefix": "",
       "rate": null,
       "total": 25,
       "unit": "it",
       "unit_divisor": 1000,
       "unit_scale": false
      },
      "application/vnd.jupyter.widget-view+json": {
       "model_id": "9ee8e17fc1e94120968e3238f2250cb8",
       "version_major": 2,
       "version_minor": 0
      },
      "text/plain": [
       "  0%|          | 0/25 [00:00<?, ?it/s]"
      ]
     },
     "metadata": {},
     "output_type": "display_data"
    },
    {
     "name": "stderr",
     "output_type": "stream",
     "text": [
      "K sampler with euler: 300it [00:04, 72.59it/s]                                                                                                                                                                                                                                \n",
      "Global seed set to 23434523\n",
      "K sampler with euler:   0%|                                                                                                                                                                                                                            | 0/25 [00:00<?, ?it/s]"
     ]
    },
    {
     "data": {
      "application/json": {
       "ascii": false,
       "bar_format": null,
       "colour": null,
       "elapsed": 0.013286113739013672,
       "initial": 0,
       "n": 0,
       "ncols": null,
       "nrows": 35,
       "postfix": null,
       "prefix": "",
       "rate": null,
       "total": 25,
       "unit": "it",
       "unit_divisor": 1000,
       "unit_scale": false
      },
      "application/vnd.jupyter.widget-view+json": {
       "model_id": "7e5321ab63e04e0292c8870469c57f2f",
       "version_major": 2,
       "version_minor": 0
      },
      "text/plain": [
       "  0%|          | 0/25 [00:00<?, ?it/s]"
      ]
     },
     "metadata": {},
     "output_type": "display_data"
    },
    {
     "name": "stderr",
     "output_type": "stream",
     "text": [
      "K sampler with euler: 300it [00:03, 95.32it/s]                                                                                                                                                                                                                                \n",
      "Global seed set to 23434523\n",
      "K sampler with euler:   0%|                                                                                                                                                                                                                            | 0/25 [00:00<?, ?it/s]"
     ]
    },
    {
     "data": {
      "application/json": {
       "ascii": false,
       "bar_format": null,
       "colour": null,
       "elapsed": 0.01433706283569336,
       "initial": 0,
       "n": 0,
       "ncols": null,
       "nrows": 35,
       "postfix": null,
       "prefix": "",
       "rate": null,
       "total": 25,
       "unit": "it",
       "unit_divisor": 1000,
       "unit_scale": false
      },
      "application/vnd.jupyter.widget-view+json": {
       "model_id": "c3fea08ca6a54261bd69a11890522fcd",
       "version_major": 2,
       "version_minor": 0
      },
      "text/plain": [
       "  0%|          | 0/25 [00:00<?, ?it/s]"
      ]
     },
     "metadata": {},
     "output_type": "display_data"
    },
    {
     "name": "stderr",
     "output_type": "stream",
     "text": [
      "K sampler with euler: 300it [00:02, 104.36it/s]                                                                                                                                                                                                                               \n",
      "Global seed set to 23434523\n",
      "K sampler with euler:   0%|                                                                                                                                                                                                                            | 0/25 [00:00<?, ?it/s]"
     ]
    },
    {
     "data": {
      "application/json": {
       "ascii": false,
       "bar_format": null,
       "colour": null,
       "elapsed": 0.013666391372680664,
       "initial": 0,
       "n": 0,
       "ncols": null,
       "nrows": 35,
       "postfix": null,
       "prefix": "",
       "rate": null,
       "total": 25,
       "unit": "it",
       "unit_divisor": 1000,
       "unit_scale": false
      },
      "application/vnd.jupyter.widget-view+json": {
       "model_id": "9651470fef994a93b0f015694760561e",
       "version_major": 2,
       "version_minor": 0
      },
      "text/plain": [
       "  0%|          | 0/25 [00:00<?, ?it/s]"
      ]
     },
     "metadata": {},
     "output_type": "display_data"
    },
    {
     "name": "stderr",
     "output_type": "stream",
     "text": [
      "K sampler with euler: 300it [00:03, 82.62it/s]                                                                                                                                                                                                                                \n",
      "Global seed set to 23434523\n",
      "K sampler with euler:   0%|                                                                                                                                                                                                                            | 0/25 [00:00<?, ?it/s]"
     ]
    },
    {
     "data": {
      "application/json": {
       "ascii": false,
       "bar_format": null,
       "colour": null,
       "elapsed": 0.01363062858581543,
       "initial": 0,
       "n": 0,
       "ncols": null,
       "nrows": 35,
       "postfix": null,
       "prefix": "",
       "rate": null,
       "total": 25,
       "unit": "it",
       "unit_divisor": 1000,
       "unit_scale": false
      },
      "application/vnd.jupyter.widget-view+json": {
       "model_id": "af2f263445db475b89d4bd7a44cb2c29",
       "version_major": 2,
       "version_minor": 0
      },
      "text/plain": [
       "  0%|          | 0/25 [00:00<?, ?it/s]"
      ]
     },
     "metadata": {},
     "output_type": "display_data"
    },
    {
     "name": "stderr",
     "output_type": "stream",
     "text": [
      "K sampler with euler: 300it [00:03, 97.16it/s]                                                                                                                                                                                                                                \n",
      "Global seed set to 23434523\n",
      "K sampler with euler:   0%|                                                                                                                                                                                                                            | 0/25 [00:00<?, ?it/s]"
     ]
    },
    {
     "data": {
      "application/json": {
       "ascii": false,
       "bar_format": null,
       "colour": null,
       "elapsed": 0.015201568603515625,
       "initial": 0,
       "n": 0,
       "ncols": null,
       "nrows": 35,
       "postfix": null,
       "prefix": "",
       "rate": null,
       "total": 25,
       "unit": "it",
       "unit_divisor": 1000,
       "unit_scale": false
      },
      "application/vnd.jupyter.widget-view+json": {
       "model_id": "6275847a9b4e4e0e8d27ec1b5aa72cc8",
       "version_major": 2,
       "version_minor": 0
      },
      "text/plain": [
       "  0%|          | 0/25 [00:00<?, ?it/s]"
      ]
     },
     "metadata": {},
     "output_type": "display_data"
    },
    {
     "name": "stderr",
     "output_type": "stream",
     "text": [
      "K sampler with euler: 300it [00:02, 102.62it/s]                                                                                                                                                                                                                               \n",
      "Global seed set to 23434523\n",
      "K sampler with euler:   0%|                                                                                                                                                                                                                            | 0/25 [00:00<?, ?it/s]"
     ]
    },
    {
     "data": {
      "application/json": {
       "ascii": false,
       "bar_format": null,
       "colour": null,
       "elapsed": 0.014118194580078125,
       "initial": 0,
       "n": 0,
       "ncols": null,
       "nrows": 35,
       "postfix": null,
       "prefix": "",
       "rate": null,
       "total": 25,
       "unit": "it",
       "unit_divisor": 1000,
       "unit_scale": false
      },
      "application/vnd.jupyter.widget-view+json": {
       "model_id": "87e60e2e85b940beb316fea66cb751d8",
       "version_major": 2,
       "version_minor": 0
      },
      "text/plain": [
       "  0%|          | 0/25 [00:00<?, ?it/s]"
      ]
     },
     "metadata": {},
     "output_type": "display_data"
    },
    {
     "name": "stderr",
     "output_type": "stream",
     "text": [
      "K sampler with euler: 300it [00:04, 71.55it/s]                                                                                                                                                                                                                                \n",
      "Global seed set to 23434523\n",
      "K sampler with euler:   0%|                                                                                                                                                                                                                            | 0/25 [00:00<?, ?it/s]"
     ]
    },
    {
     "data": {
      "application/json": {
       "ascii": false,
       "bar_format": null,
       "colour": null,
       "elapsed": 0.014613866806030273,
       "initial": 0,
       "n": 0,
       "ncols": null,
       "nrows": 35,
       "postfix": null,
       "prefix": "",
       "rate": null,
       "total": 25,
       "unit": "it",
       "unit_divisor": 1000,
       "unit_scale": false
      },
      "application/vnd.jupyter.widget-view+json": {
       "model_id": "39c09a4f42864d2bb607e7b8f02d086f",
       "version_major": 2,
       "version_minor": 0
      },
      "text/plain": [
       "  0%|          | 0/25 [00:00<?, ?it/s]"
      ]
     },
     "metadata": {},
     "output_type": "display_data"
    },
    {
     "name": "stderr",
     "output_type": "stream",
     "text": [
      "K sampler with euler: 300it [00:03, 91.69it/s]                                                                                                                                                                                                                                \n",
      "Global seed set to 23434523\n",
      "K sampler with euler:   0%|                                                                                                                                                                                                                            | 0/25 [00:00<?, ?it/s]"
     ]
    },
    {
     "data": {
      "application/json": {
       "ascii": false,
       "bar_format": null,
       "colour": null,
       "elapsed": 0.01401519775390625,
       "initial": 0,
       "n": 0,
       "ncols": null,
       "nrows": 35,
       "postfix": null,
       "prefix": "",
       "rate": null,
       "total": 25,
       "unit": "it",
       "unit_divisor": 1000,
       "unit_scale": false
      },
      "application/vnd.jupyter.widget-view+json": {
       "model_id": "fb3add4632af401f8215cd6cf2f22417",
       "version_major": 2,
       "version_minor": 0
      },
      "text/plain": [
       "  0%|          | 0/25 [00:00<?, ?it/s]"
      ]
     },
     "metadata": {},
     "output_type": "display_data"
    },
    {
     "name": "stderr",
     "output_type": "stream",
     "text": [
      "K sampler with euler: 300it [00:02, 104.28it/s]                                                                                                                                                                                                                               \n",
      "Global seed set to 23434523\n",
      "K sampler with euler:   0%|                                                                                                                                                                                                                            | 0/25 [00:00<?, ?it/s]"
     ]
    },
    {
     "data": {
      "application/json": {
       "ascii": false,
       "bar_format": null,
       "colour": null,
       "elapsed": 0.015537500381469727,
       "initial": 0,
       "n": 0,
       "ncols": null,
       "nrows": 35,
       "postfix": null,
       "prefix": "",
       "rate": null,
       "total": 25,
       "unit": "it",
       "unit_divisor": 1000,
       "unit_scale": false
      },
      "application/vnd.jupyter.widget-view+json": {
       "model_id": "64fdf3c8d0a44165b7c2a47fd676c5b1",
       "version_major": 2,
       "version_minor": 0
      },
      "text/plain": [
       "  0%|          | 0/25 [00:00<?, ?it/s]"
      ]
     },
     "metadata": {},
     "output_type": "display_data"
    },
    {
     "name": "stderr",
     "output_type": "stream",
     "text": [
      "K sampler with euler: 300it [00:03, 92.93it/s]                                                                                                                                                                                                                                \n",
      "Global seed set to 23434523\n",
      "K sampler with euler:   0%|                                                                                                                                                                                                                            | 0/25 [00:00<?, ?it/s]"
     ]
    },
    {
     "data": {
      "application/json": {
       "ascii": false,
       "bar_format": null,
       "colour": null,
       "elapsed": 0.013846635818481445,
       "initial": 0,
       "n": 0,
       "ncols": null,
       "nrows": 35,
       "postfix": null,
       "prefix": "",
       "rate": null,
       "total": 25,
       "unit": "it",
       "unit_divisor": 1000,
       "unit_scale": false
      },
      "application/vnd.jupyter.widget-view+json": {
       "model_id": "94e9020e6a09433e9ce4ad65bb3d71de",
       "version_major": 2,
       "version_minor": 0
      },
      "text/plain": [
       "  0%|          | 0/25 [00:00<?, ?it/s]"
      ]
     },
     "metadata": {},
     "output_type": "display_data"
    },
    {
     "name": "stderr",
     "output_type": "stream",
     "text": [
      "K sampler with euler: 300it [00:03, 91.06it/s]                                                                                                                                                                                                                                \n",
      "Global seed set to 23434523\n",
      "K sampler with euler:   0%|                                                                                                                                                                                                                            | 0/25 [00:00<?, ?it/s]"
     ]
    },
    {
     "data": {
      "application/json": {
       "ascii": false,
       "bar_format": null,
       "colour": null,
       "elapsed": 0.014404058456420898,
       "initial": 0,
       "n": 0,
       "ncols": null,
       "nrows": 35,
       "postfix": null,
       "prefix": "",
       "rate": null,
       "total": 25,
       "unit": "it",
       "unit_divisor": 1000,
       "unit_scale": false
      },
      "application/vnd.jupyter.widget-view+json": {
       "model_id": "64100cf89f8b41f38391800ba9deb534",
       "version_major": 2,
       "version_minor": 0
      },
      "text/plain": [
       "  0%|          | 0/25 [00:00<?, ?it/s]"
      ]
     },
     "metadata": {},
     "output_type": "display_data"
    },
    {
     "name": "stderr",
     "output_type": "stream",
     "text": [
      "K sampler with euler: 300it [00:02, 101.67it/s]                                                                                                                                                                                                                               \n",
      "Global seed set to 23434523\n",
      "K sampler with euler:   0%|                                                                                                                                                                                                                            | 0/25 [00:00<?, ?it/s]"
     ]
    },
    {
     "data": {
      "application/json": {
       "ascii": false,
       "bar_format": null,
       "colour": null,
       "elapsed": 0.01318359375,
       "initial": 0,
       "n": 0,
       "ncols": null,
       "nrows": 35,
       "postfix": null,
       "prefix": "",
       "rate": null,
       "total": 25,
       "unit": "it",
       "unit_divisor": 1000,
       "unit_scale": false
      },
      "application/vnd.jupyter.widget-view+json": {
       "model_id": "c60f885b76a7436d8e17471eb56fb0dd",
       "version_major": 2,
       "version_minor": 0
      },
      "text/plain": [
       "  0%|          | 0/25 [00:00<?, ?it/s]"
      ]
     },
     "metadata": {},
     "output_type": "display_data"
    },
    {
     "name": "stderr",
     "output_type": "stream",
     "text": [
      "K sampler with euler: 300it [00:03, 79.23it/s]                                                                                                                                                                                                                                \n",
      "Global seed set to 23434523\n",
      "K sampler with euler:   0%|                                                                                                                                                                                                                            | 0/25 [00:00<?, ?it/s]"
     ]
    },
    {
     "data": {
      "application/json": {
       "ascii": false,
       "bar_format": null,
       "colour": null,
       "elapsed": 0.013374090194702148,
       "initial": 0,
       "n": 0,
       "ncols": null,
       "nrows": 35,
       "postfix": null,
       "prefix": "",
       "rate": null,
       "total": 25,
       "unit": "it",
       "unit_divisor": 1000,
       "unit_scale": false
      },
      "application/vnd.jupyter.widget-view+json": {
       "model_id": "f9570d3028a1401a97503401575878d9",
       "version_major": 2,
       "version_minor": 0
      },
      "text/plain": [
       "  0%|          | 0/25 [00:00<?, ?it/s]"
      ]
     },
     "metadata": {},
     "output_type": "display_data"
    },
    {
     "name": "stderr",
     "output_type": "stream",
     "text": [
      "K sampler with euler: 300it [00:03, 84.74it/s]                                                                                                                                                                                                                                \n",
      "Global seed set to 23434523\n",
      "K sampler with euler:   0%|                                                                                                                                                                                                                            | 0/25 [00:00<?, ?it/s]"
     ]
    },
    {
     "data": {
      "application/json": {
       "ascii": false,
       "bar_format": null,
       "colour": null,
       "elapsed": 0.0145263671875,
       "initial": 0,
       "n": 0,
       "ncols": null,
       "nrows": 35,
       "postfix": null,
       "prefix": "",
       "rate": null,
       "total": 25,
       "unit": "it",
       "unit_divisor": 1000,
       "unit_scale": false
      },
      "application/vnd.jupyter.widget-view+json": {
       "model_id": "b79118753e804e1a9c9ed377ded52f96",
       "version_major": 2,
       "version_minor": 0
      },
      "text/plain": [
       "  0%|          | 0/25 [00:00<?, ?it/s]"
      ]
     },
     "metadata": {},
     "output_type": "display_data"
    },
    {
     "name": "stderr",
     "output_type": "stream",
     "text": [
      "K sampler with euler: 300it [00:02, 101.32it/s]                                                                                                                                                                                                                               \n",
      "Global seed set to 23434523\n",
      "K sampler with euler:   0%|                                                                                                                                                                                                                            | 0/25 [00:00<?, ?it/s]"
     ]
    },
    {
     "data": {
      "application/json": {
       "ascii": false,
       "bar_format": null,
       "colour": null,
       "elapsed": 0.014332294464111328,
       "initial": 0,
       "n": 0,
       "ncols": null,
       "nrows": 35,
       "postfix": null,
       "prefix": "",
       "rate": null,
       "total": 25,
       "unit": "it",
       "unit_divisor": 1000,
       "unit_scale": false
      },
      "application/vnd.jupyter.widget-view+json": {
       "model_id": "6d9da3a895ed4c01b9e5b48c387620d3",
       "version_major": 2,
       "version_minor": 0
      },
      "text/plain": [
       "  0%|          | 0/25 [00:00<?, ?it/s]"
      ]
     },
     "metadata": {},
     "output_type": "display_data"
    },
    {
     "name": "stderr",
     "output_type": "stream",
     "text": [
      "K sampler with euler: 300it [00:03, 89.88it/s]                                                                                                                                                                                                                                \n",
      "Global seed set to 23434523\n",
      "K sampler with euler:   0%|                                                                                                                                                                                                                            | 0/25 [00:00<?, ?it/s]"
     ]
    },
    {
     "data": {
      "application/json": {
       "ascii": false,
       "bar_format": null,
       "colour": null,
       "elapsed": 0.014274358749389648,
       "initial": 0,
       "n": 0,
       "ncols": null,
       "nrows": 35,
       "postfix": null,
       "prefix": "",
       "rate": null,
       "total": 25,
       "unit": "it",
       "unit_divisor": 1000,
       "unit_scale": false
      },
      "application/vnd.jupyter.widget-view+json": {
       "model_id": "114abe68b6104e6aaf37063900a852c0",
       "version_major": 2,
       "version_minor": 0
      },
      "text/plain": [
       "  0%|          | 0/25 [00:00<?, ?it/s]"
      ]
     },
     "metadata": {},
     "output_type": "display_data"
    },
    {
     "name": "stderr",
     "output_type": "stream",
     "text": [
      "K sampler with euler: 300it [00:03, 84.89it/s]                                                                                                                                                                                                                                \n",
      "Global seed set to 23434523\n",
      "K sampler with euler:   0%|                                                                                                                                                                                                                            | 0/25 [00:00<?, ?it/s]"
     ]
    },
    {
     "data": {
      "application/json": {
       "ascii": false,
       "bar_format": null,
       "colour": null,
       "elapsed": 0.014786005020141602,
       "initial": 0,
       "n": 0,
       "ncols": null,
       "nrows": 35,
       "postfix": null,
       "prefix": "",
       "rate": null,
       "total": 25,
       "unit": "it",
       "unit_divisor": 1000,
       "unit_scale": false
      },
      "application/vnd.jupyter.widget-view+json": {
       "model_id": "08503ee97eba462490213dacf6ad43a5",
       "version_major": 2,
       "version_minor": 0
      },
      "text/plain": [
       "  0%|          | 0/25 [00:00<?, ?it/s]"
      ]
     },
     "metadata": {},
     "output_type": "display_data"
    },
    {
     "name": "stderr",
     "output_type": "stream",
     "text": [
      "K sampler with euler: 300it [00:02, 100.82it/s]                                                                                                                                                                                                                               \n",
      "Global seed set to 23434523\n",
      "K sampler with euler:   0%|                                                                                                                                                                                                                            | 0/25 [00:00<?, ?it/s]"
     ]
    },
    {
     "data": {
      "application/json": {
       "ascii": false,
       "bar_format": null,
       "colour": null,
       "elapsed": 0.01579117774963379,
       "initial": 0,
       "n": 0,
       "ncols": null,
       "nrows": 35,
       "postfix": null,
       "prefix": "",
       "rate": null,
       "total": 25,
       "unit": "it",
       "unit_divisor": 1000,
       "unit_scale": false
      },
      "application/vnd.jupyter.widget-view+json": {
       "model_id": "725f88d1500b4d44bc41c008a04a7747",
       "version_major": 2,
       "version_minor": 0
      },
      "text/plain": [
       "  0%|          | 0/25 [00:00<?, ?it/s]"
      ]
     },
     "metadata": {},
     "output_type": "display_data"
    },
    {
     "name": "stderr",
     "output_type": "stream",
     "text": [
      "K sampler with euler: 300it [00:03, 78.13it/s]                                                                                                                                                                                                                                \n",
      "Global seed set to 23434523\n",
      "K sampler with euler:   0%|                                                                                                                                                                                                                            | 0/25 [00:00<?, ?it/s]"
     ]
    },
    {
     "data": {
      "application/json": {
       "ascii": false,
       "bar_format": null,
       "colour": null,
       "elapsed": 0.015757322311401367,
       "initial": 0,
       "n": 0,
       "ncols": null,
       "nrows": 35,
       "postfix": null,
       "prefix": "",
       "rate": null,
       "total": 25,
       "unit": "it",
       "unit_divisor": 1000,
       "unit_scale": false
      },
      "application/vnd.jupyter.widget-view+json": {
       "model_id": "4d5fa4cc7303494f8792e268a1eeaa57",
       "version_major": 2,
       "version_minor": 0
      },
      "text/plain": [
       "  0%|          | 0/25 [00:00<?, ?it/s]"
      ]
     },
     "metadata": {},
     "output_type": "display_data"
    },
    {
     "name": "stderr",
     "output_type": "stream",
     "text": [
      "K sampler with euler: 300it [00:03, 80.49it/s]                                                                                                                                                                                                                                \n",
      "Global seed set to 23434523\n",
      "K sampler with euler:   0%|                                                                                                                                                                                                                            | 0/25 [00:00<?, ?it/s]"
     ]
    },
    {
     "data": {
      "application/json": {
       "ascii": false,
       "bar_format": null,
       "colour": null,
       "elapsed": 0.015609264373779297,
       "initial": 0,
       "n": 0,
       "ncols": null,
       "nrows": 35,
       "postfix": null,
       "prefix": "",
       "rate": null,
       "total": 25,
       "unit": "it",
       "unit_divisor": 1000,
       "unit_scale": false
      },
      "application/vnd.jupyter.widget-view+json": {
       "model_id": "ab2baeabde884d909cf28bbf511048be",
       "version_major": 2,
       "version_minor": 0
      },
      "text/plain": [
       "  0%|          | 0/25 [00:00<?, ?it/s]"
      ]
     },
     "metadata": {},
     "output_type": "display_data"
    },
    {
     "name": "stderr",
     "output_type": "stream",
     "text": [
      "K sampler with euler: 300it [00:02, 103.90it/s]                                                                                                                                                                                                                               \n",
      "Global seed set to 23434523\n",
      "K sampler with euler:   0%|                                                                                                                                                                                                                            | 0/25 [00:00<?, ?it/s]"
     ]
    },
    {
     "data": {
      "application/json": {
       "ascii": false,
       "bar_format": null,
       "colour": null,
       "elapsed": 0.016450166702270508,
       "initial": 0,
       "n": 0,
       "ncols": null,
       "nrows": 35,
       "postfix": null,
       "prefix": "",
       "rate": null,
       "total": 25,
       "unit": "it",
       "unit_divisor": 1000,
       "unit_scale": false
      },
      "application/vnd.jupyter.widget-view+json": {
       "model_id": "8fea074b317b4ccda4ef46740c27fdc3",
       "version_major": 2,
       "version_minor": 0
      },
      "text/plain": [
       "  0%|          | 0/25 [00:00<?, ?it/s]"
      ]
     },
     "metadata": {},
     "output_type": "display_data"
    },
    {
     "name": "stderr",
     "output_type": "stream",
     "text": [
      "K sampler with euler: 300it [00:03, 89.27it/s]                                                                                                                                                                                                                                \n",
      "Global seed set to 23434523\n",
      "K sampler with euler:   0%|                                                                                                                                                                                                                            | 0/25 [00:00<?, ?it/s]"
     ]
    },
    {
     "data": {
      "application/json": {
       "ascii": false,
       "bar_format": null,
       "colour": null,
       "elapsed": 0.01357889175415039,
       "initial": 0,
       "n": 0,
       "ncols": null,
       "nrows": 35,
       "postfix": null,
       "prefix": "",
       "rate": null,
       "total": 25,
       "unit": "it",
       "unit_divisor": 1000,
       "unit_scale": false
      },
      "application/vnd.jupyter.widget-view+json": {
       "model_id": "e5a7c140f8cc41dd8f719ab603c3a2c7",
       "version_major": 2,
       "version_minor": 0
      },
      "text/plain": [
       "  0%|          | 0/25 [00:00<?, ?it/s]"
      ]
     },
     "metadata": {},
     "output_type": "display_data"
    },
    {
     "name": "stderr",
     "output_type": "stream",
     "text": [
      "K sampler with euler: 300it [00:03, 90.47it/s]                                                                                                                                                                                                                                \n",
      "Global seed set to 23434523\n",
      "K sampler with euler:   0%|                                                                                                                                                                                                                            | 0/25 [00:00<?, ?it/s]"
     ]
    },
    {
     "data": {
      "application/json": {
       "ascii": false,
       "bar_format": null,
       "colour": null,
       "elapsed": 0.013446807861328125,
       "initial": 0,
       "n": 0,
       "ncols": null,
       "nrows": 35,
       "postfix": null,
       "prefix": "",
       "rate": null,
       "total": 25,
       "unit": "it",
       "unit_divisor": 1000,
       "unit_scale": false
      },
      "application/vnd.jupyter.widget-view+json": {
       "model_id": "cfd6b636c4aa48f28d36b268e9fbbf1a",
       "version_major": 2,
       "version_minor": 0
      },
      "text/plain": [
       "  0%|          | 0/25 [00:00<?, ?it/s]"
      ]
     },
     "metadata": {},
     "output_type": "display_data"
    },
    {
     "name": "stderr",
     "output_type": "stream",
     "text": [
      "K sampler with euler: 300it [00:02, 103.58it/s]                                                                                                                                                                                                                               \n",
      "Global seed set to 23434523\n",
      "K sampler with euler:   0%|                                                                                                                                                                                                                            | 0/25 [00:00<?, ?it/s]"
     ]
    },
    {
     "data": {
      "application/json": {
       "ascii": false,
       "bar_format": null,
       "colour": null,
       "elapsed": 0.016455650329589844,
       "initial": 0,
       "n": 0,
       "ncols": null,
       "nrows": 35,
       "postfix": null,
       "prefix": "",
       "rate": null,
       "total": 25,
       "unit": "it",
       "unit_divisor": 1000,
       "unit_scale": false
      },
      "application/vnd.jupyter.widget-view+json": {
       "model_id": "fda6959d4d7f4e838a3891488c10bd44",
       "version_major": 2,
       "version_minor": 0
      },
      "text/plain": [
       "  0%|          | 0/25 [00:00<?, ?it/s]"
      ]
     },
     "metadata": {},
     "output_type": "display_data"
    },
    {
     "name": "stderr",
     "output_type": "stream",
     "text": [
      "K sampler with euler: 300it [00:03, 85.90it/s]                                                                                                                                                                                                                                \n",
      "Global seed set to 23434523\n",
      "K sampler with euler:   0%|                                                                                                                                                                                                                            | 0/25 [00:00<?, ?it/s]"
     ]
    },
    {
     "data": {
      "application/json": {
       "ascii": false,
       "bar_format": null,
       "colour": null,
       "elapsed": 0.013741493225097656,
       "initial": 0,
       "n": 0,
       "ncols": null,
       "nrows": 35,
       "postfix": null,
       "prefix": "",
       "rate": null,
       "total": 25,
       "unit": "it",
       "unit_divisor": 1000,
       "unit_scale": false
      },
      "application/vnd.jupyter.widget-view+json": {
       "model_id": "c92bfe89189b43acb9a12dbb6627aad9",
       "version_major": 2,
       "version_minor": 0
      },
      "text/plain": [
       "  0%|          | 0/25 [00:00<?, ?it/s]"
      ]
     },
     "metadata": {},
     "output_type": "display_data"
    },
    {
     "name": "stderr",
     "output_type": "stream",
     "text": [
      "K sampler with euler: 300it [00:03, 77.49it/s]                                                                                                                                                                                                                                \n",
      "Global seed set to 23434523\n",
      "K sampler with euler:   0%|                                                                                                                                                                                                                            | 0/25 [00:00<?, ?it/s]"
     ]
    },
    {
     "data": {
      "application/json": {
       "ascii": false,
       "bar_format": null,
       "colour": null,
       "elapsed": 0.014153003692626953,
       "initial": 0,
       "n": 0,
       "ncols": null,
       "nrows": 35,
       "postfix": null,
       "prefix": "",
       "rate": null,
       "total": 25,
       "unit": "it",
       "unit_divisor": 1000,
       "unit_scale": false
      },
      "application/vnd.jupyter.widget-view+json": {
       "model_id": "0a572c64876646dda954b609977975b6",
       "version_major": 2,
       "version_minor": 0
      },
      "text/plain": [
       "  0%|          | 0/25 [00:00<?, ?it/s]"
      ]
     },
     "metadata": {},
     "output_type": "display_data"
    },
    {
     "name": "stderr",
     "output_type": "stream",
     "text": [
      "K sampler with euler: 300it [00:02, 102.78it/s]                                                                                                                                                                                                                               \n",
      "Global seed set to 23434523\n",
      "K sampler with euler:   0%|                                                                                                                                                                                                                            | 0/25 [00:00<?, ?it/s]"
     ]
    },
    {
     "data": {
      "application/json": {
       "ascii": false,
       "bar_format": null,
       "colour": null,
       "elapsed": 0.014633893966674805,
       "initial": 0,
       "n": 0,
       "ncols": null,
       "nrows": 35,
       "postfix": null,
       "prefix": "",
       "rate": null,
       "total": 25,
       "unit": "it",
       "unit_divisor": 1000,
       "unit_scale": false
      },
      "application/vnd.jupyter.widget-view+json": {
       "model_id": "7be1d60400304b87be939df2e89e874d",
       "version_major": 2,
       "version_minor": 0
      },
      "text/plain": [
       "  0%|          | 0/25 [00:00<?, ?it/s]"
      ]
     },
     "metadata": {},
     "output_type": "display_data"
    },
    {
     "name": "stderr",
     "output_type": "stream",
     "text": [
      "K sampler with euler: 300it [00:03, 87.56it/s]                                                                                                                                                                                                                                \n",
      "Global seed set to 23434523\n",
      "K sampler with euler:   0%|                                                                                                                                                                                                                            | 0/25 [00:00<?, ?it/s]"
     ]
    },
    {
     "data": {
      "application/json": {
       "ascii": false,
       "bar_format": null,
       "colour": null,
       "elapsed": 0.013195514678955078,
       "initial": 0,
       "n": 0,
       "ncols": null,
       "nrows": 35,
       "postfix": null,
       "prefix": "",
       "rate": null,
       "total": 25,
       "unit": "it",
       "unit_divisor": 1000,
       "unit_scale": false
      },
      "application/vnd.jupyter.widget-view+json": {
       "model_id": "4ccab9ece2c24a23b385103a6f82b508",
       "version_major": 2,
       "version_minor": 0
      },
      "text/plain": [
       "  0%|          | 0/25 [00:00<?, ?it/s]"
      ]
     },
     "metadata": {},
     "output_type": "display_data"
    },
    {
     "name": "stderr",
     "output_type": "stream",
     "text": [
      "K sampler with euler: 300it [00:03, 82.67it/s]                                                                                                                                                                                                                                \n",
      "Global seed set to 23434523\n",
      "K sampler with euler:   0%|                                                                                                                                                                                                                            | 0/25 [00:00<?, ?it/s]"
     ]
    },
    {
     "data": {
      "application/json": {
       "ascii": false,
       "bar_format": null,
       "colour": null,
       "elapsed": 0.01451730728149414,
       "initial": 0,
       "n": 0,
       "ncols": null,
       "nrows": 35,
       "postfix": null,
       "prefix": "",
       "rate": null,
       "total": 25,
       "unit": "it",
       "unit_divisor": 1000,
       "unit_scale": false
      },
      "application/vnd.jupyter.widget-view+json": {
       "model_id": "bc1cd631a87c431894e7d624fbe2da51",
       "version_major": 2,
       "version_minor": 0
      },
      "text/plain": [
       "  0%|          | 0/25 [00:00<?, ?it/s]"
      ]
     },
     "metadata": {},
     "output_type": "display_data"
    },
    {
     "name": "stderr",
     "output_type": "stream",
     "text": [
      "K sampler with euler: 300it [00:02, 100.77it/s]                                                                                                                                                                                                                               \n",
      "Global seed set to 23434523\n",
      "K sampler with euler:   0%|                                                                                                                                                                                                                            | 0/25 [00:00<?, ?it/s]"
     ]
    },
    {
     "data": {
      "application/json": {
       "ascii": false,
       "bar_format": null,
       "colour": null,
       "elapsed": 0.01380777359008789,
       "initial": 0,
       "n": 0,
       "ncols": null,
       "nrows": 35,
       "postfix": null,
       "prefix": "",
       "rate": null,
       "total": 25,
       "unit": "it",
       "unit_divisor": 1000,
       "unit_scale": false
      },
      "application/vnd.jupyter.widget-view+json": {
       "model_id": "a23b54a35d264882a8df438b62ac4bd0",
       "version_major": 2,
       "version_minor": 0
      },
      "text/plain": [
       "  0%|          | 0/25 [00:00<?, ?it/s]"
      ]
     },
     "metadata": {},
     "output_type": "display_data"
    },
    {
     "name": "stderr",
     "output_type": "stream",
     "text": [
      "K sampler with euler: 300it [00:03, 88.25it/s]                                                                                                                                                                                                                                \n",
      "Global seed set to 23434523\n",
      "K sampler with euler:   0%|                                                                                                                                                                                                                            | 0/25 [00:00<?, ?it/s]"
     ]
    },
    {
     "data": {
      "application/json": {
       "ascii": false,
       "bar_format": null,
       "colour": null,
       "elapsed": 0.014247417449951172,
       "initial": 0,
       "n": 0,
       "ncols": null,
       "nrows": 35,
       "postfix": null,
       "prefix": "",
       "rate": null,
       "total": 25,
       "unit": "it",
       "unit_divisor": 1000,
       "unit_scale": false
      },
      "application/vnd.jupyter.widget-view+json": {
       "model_id": "eee3974206634e93875d1c2d8111efe3",
       "version_major": 2,
       "version_minor": 0
      },
      "text/plain": [
       "  0%|          | 0/25 [00:00<?, ?it/s]"
      ]
     },
     "metadata": {},
     "output_type": "display_data"
    },
    {
     "name": "stderr",
     "output_type": "stream",
     "text": [
      "K sampler with euler: 300it [00:04, 72.98it/s]                                                                                                                                                                                                                                \n",
      "Global seed set to 23434523\n",
      "K sampler with euler:   0%|                                                                                                                                                                                                                            | 0/25 [00:00<?, ?it/s]"
     ]
    },
    {
     "data": {
      "application/json": {
       "ascii": false,
       "bar_format": null,
       "colour": null,
       "elapsed": 0.014785528182983398,
       "initial": 0,
       "n": 0,
       "ncols": null,
       "nrows": 35,
       "postfix": null,
       "prefix": "",
       "rate": null,
       "total": 25,
       "unit": "it",
       "unit_divisor": 1000,
       "unit_scale": false
      },
      "application/vnd.jupyter.widget-view+json": {
       "model_id": "b78605b311e3467780d9ec5a8d513fb9",
       "version_major": 2,
       "version_minor": 0
      },
      "text/plain": [
       "  0%|          | 0/25 [00:00<?, ?it/s]"
      ]
     },
     "metadata": {},
     "output_type": "display_data"
    },
    {
     "name": "stderr",
     "output_type": "stream",
     "text": [
      "K sampler with euler: 300it [00:02, 101.99it/s]                                                                                                                                                                                                                               \n",
      "Global seed set to 23434523\n",
      "K sampler with euler:   0%|                                                                                                                                                                                                                            | 0/25 [00:00<?, ?it/s]"
     ]
    },
    {
     "data": {
      "application/json": {
       "ascii": false,
       "bar_format": null,
       "colour": null,
       "elapsed": 0.015890121459960938,
       "initial": 0,
       "n": 0,
       "ncols": null,
       "nrows": 35,
       "postfix": null,
       "prefix": "",
       "rate": null,
       "total": 25,
       "unit": "it",
       "unit_divisor": 1000,
       "unit_scale": false
      },
      "application/vnd.jupyter.widget-view+json": {
       "model_id": "d88cda1f7f4148e4bdcf759c36db339a",
       "version_major": 2,
       "version_minor": 0
      },
      "text/plain": [
       "  0%|          | 0/25 [00:00<?, ?it/s]"
      ]
     },
     "metadata": {},
     "output_type": "display_data"
    },
    {
     "name": "stderr",
     "output_type": "stream",
     "text": [
      "K sampler with euler: 300it [00:03, 90.21it/s]                                                                                                                                                                                                                                \n",
      "Global seed set to 23434523\n",
      "K sampler with euler:   0%|                                                                                                                                                                                                                            | 0/25 [00:00<?, ?it/s]"
     ]
    },
    {
     "data": {
      "application/json": {
       "ascii": false,
       "bar_format": null,
       "colour": null,
       "elapsed": 0.015292167663574219,
       "initial": 0,
       "n": 0,
       "ncols": null,
       "nrows": 35,
       "postfix": null,
       "prefix": "",
       "rate": null,
       "total": 25,
       "unit": "it",
       "unit_divisor": 1000,
       "unit_scale": false
      },
      "application/vnd.jupyter.widget-view+json": {
       "model_id": "f0ed7a0b17464d8e8af2ea9196c1e513",
       "version_major": 2,
       "version_minor": 0
      },
      "text/plain": [
       "  0%|          | 0/25 [00:00<?, ?it/s]"
      ]
     },
     "metadata": {},
     "output_type": "display_data"
    },
    {
     "name": "stderr",
     "output_type": "stream",
     "text": [
      "K sampler with euler: 300it [00:03, 83.23it/s]                                                                                                                                                                                                                                \n",
      "Global seed set to 23434523\n",
      "K sampler with euler:   0%|                                                                                                                                                                                                                            | 0/25 [00:00<?, ?it/s]"
     ]
    },
    {
     "data": {
      "application/json": {
       "ascii": false,
       "bar_format": null,
       "colour": null,
       "elapsed": 0.01701188087463379,
       "initial": 0,
       "n": 0,
       "ncols": null,
       "nrows": 35,
       "postfix": null,
       "prefix": "",
       "rate": null,
       "total": 25,
       "unit": "it",
       "unit_divisor": 1000,
       "unit_scale": false
      },
      "application/vnd.jupyter.widget-view+json": {
       "model_id": "3b841457b9af4a11b31bcc4d78be37a3",
       "version_major": 2,
       "version_minor": 0
      },
      "text/plain": [
       "  0%|          | 0/25 [00:00<?, ?it/s]"
      ]
     },
     "metadata": {},
     "output_type": "display_data"
    },
    {
     "name": "stderr",
     "output_type": "stream",
     "text": [
      "K sampler with euler: 300it [00:02, 104.26it/s]                                                                                                                                                                                                                               \n",
      "Global seed set to 23434523\n",
      "K sampler with euler:   0%|                                                                                                                                                                                                                            | 0/25 [00:00<?, ?it/s]"
     ]
    },
    {
     "data": {
      "application/json": {
       "ascii": false,
       "bar_format": null,
       "colour": null,
       "elapsed": 0.014753341674804688,
       "initial": 0,
       "n": 0,
       "ncols": null,
       "nrows": 35,
       "postfix": null,
       "prefix": "",
       "rate": null,
       "total": 25,
       "unit": "it",
       "unit_divisor": 1000,
       "unit_scale": false
      },
      "application/vnd.jupyter.widget-view+json": {
       "model_id": "d5448a37f6f649e7919322228dce47b1",
       "version_major": 2,
       "version_minor": 0
      },
      "text/plain": [
       "  0%|          | 0/25 [00:00<?, ?it/s]"
      ]
     },
     "metadata": {},
     "output_type": "display_data"
    },
    {
     "name": "stderr",
     "output_type": "stream",
     "text": [
      "K sampler with euler: 300it [00:03, 91.93it/s]                                                                                                                                                                                                                                \n",
      "Global seed set to 23434523\n",
      "K sampler with euler:   0%|                                                                                                                                                                                                                            | 0/25 [00:00<?, ?it/s]"
     ]
    },
    {
     "data": {
      "application/json": {
       "ascii": false,
       "bar_format": null,
       "colour": null,
       "elapsed": 0.013906002044677734,
       "initial": 0,
       "n": 0,
       "ncols": null,
       "nrows": 35,
       "postfix": null,
       "prefix": "",
       "rate": null,
       "total": 25,
       "unit": "it",
       "unit_divisor": 1000,
       "unit_scale": false
      },
      "application/vnd.jupyter.widget-view+json": {
       "model_id": "3f1bc40eeb524d658f9ce3de72cadae8",
       "version_major": 2,
       "version_minor": 0
      },
      "text/plain": [
       "  0%|          | 0/25 [00:00<?, ?it/s]"
      ]
     },
     "metadata": {},
     "output_type": "display_data"
    },
    {
     "name": "stderr",
     "output_type": "stream",
     "text": [
      "K sampler with euler: 300it [00:03, 84.47it/s]                                                                                                                                                                                                                                \n",
      "Global seed set to 23434523\n",
      "K sampler with euler:   0%|                                                                                                                                                                                                                            | 0/25 [00:00<?, ?it/s]"
     ]
    },
    {
     "data": {
      "application/json": {
       "ascii": false,
       "bar_format": null,
       "colour": null,
       "elapsed": 0.015284061431884766,
       "initial": 0,
       "n": 0,
       "ncols": null,
       "nrows": 35,
       "postfix": null,
       "prefix": "",
       "rate": null,
       "total": 25,
       "unit": "it",
       "unit_divisor": 1000,
       "unit_scale": false
      },
      "application/vnd.jupyter.widget-view+json": {
       "model_id": "407caab69bb5435eb29107ccd572b754",
       "version_major": 2,
       "version_minor": 0
      },
      "text/plain": [
       "  0%|          | 0/25 [00:00<?, ?it/s]"
      ]
     },
     "metadata": {},
     "output_type": "display_data"
    },
    {
     "name": "stderr",
     "output_type": "stream",
     "text": [
      "K sampler with euler: 300it [00:02, 101.75it/s]                                                                                                                                                                                                                               \n",
      "Global seed set to 23434523\n",
      "K sampler with euler:   0%|                                                                                                                                                                                                                            | 0/25 [00:00<?, ?it/s]"
     ]
    },
    {
     "data": {
      "application/json": {
       "ascii": false,
       "bar_format": null,
       "colour": null,
       "elapsed": 0.01408529281616211,
       "initial": 0,
       "n": 0,
       "ncols": null,
       "nrows": 35,
       "postfix": null,
       "prefix": "",
       "rate": null,
       "total": 25,
       "unit": "it",
       "unit_divisor": 1000,
       "unit_scale": false
      },
      "application/vnd.jupyter.widget-view+json": {
       "model_id": "475f48dc158b4720b9491702053d6f98",
       "version_major": 2,
       "version_minor": 0
      },
      "text/plain": [
       "  0%|          | 0/25 [00:00<?, ?it/s]"
      ]
     },
     "metadata": {},
     "output_type": "display_data"
    },
    {
     "name": "stderr",
     "output_type": "stream",
     "text": [
      "K sampler with euler: 300it [00:03, 93.44it/s]                                                                                                                                                                                                                                \n",
      "Global seed set to 23434523\n",
      "K sampler with euler:   0%|                                                                                                                                                                                                                            | 0/25 [00:00<?, ?it/s]"
     ]
    },
    {
     "data": {
      "application/json": {
       "ascii": false,
       "bar_format": null,
       "colour": null,
       "elapsed": 0.013315916061401367,
       "initial": 0,
       "n": 0,
       "ncols": null,
       "nrows": 35,
       "postfix": null,
       "prefix": "",
       "rate": null,
       "total": 25,
       "unit": "it",
       "unit_divisor": 1000,
       "unit_scale": false
      },
      "application/vnd.jupyter.widget-view+json": {
       "model_id": "d4d2635f1ace4ead9e44c46238bd4d5c",
       "version_major": 2,
       "version_minor": 0
      },
      "text/plain": [
       "  0%|          | 0/25 [00:00<?, ?it/s]"
      ]
     },
     "metadata": {},
     "output_type": "display_data"
    },
    {
     "name": "stderr",
     "output_type": "stream",
     "text": [
      "K sampler with euler: 300it [00:03, 94.28it/s]                                                                                                                                                                                                                                \n",
      "Global seed set to 23434523\n",
      "K sampler with euler:   0%|                                                                                                                                                                                                                            | 0/25 [00:00<?, ?it/s]"
     ]
    },
    {
     "data": {
      "application/json": {
       "ascii": false,
       "bar_format": null,
       "colour": null,
       "elapsed": 0.01443624496459961,
       "initial": 0,
       "n": 0,
       "ncols": null,
       "nrows": 35,
       "postfix": null,
       "prefix": "",
       "rate": null,
       "total": 25,
       "unit": "it",
       "unit_divisor": 1000,
       "unit_scale": false
      },
      "application/vnd.jupyter.widget-view+json": {
       "model_id": "8867c314a9bc44a1a00bdcccf1c25bdf",
       "version_major": 2,
       "version_minor": 0
      },
      "text/plain": [
       "  0%|          | 0/25 [00:00<?, ?it/s]"
      ]
     },
     "metadata": {},
     "output_type": "display_data"
    },
    {
     "name": "stderr",
     "output_type": "stream",
     "text": [
      "K sampler with euler: 300it [00:02, 101.15it/s]                                                                                                                                                                                                                               \n",
      "Global seed set to 23434523\n",
      "K sampler with euler:   0%|                                                                                                                                                                                                                            | 0/25 [00:00<?, ?it/s]"
     ]
    },
    {
     "data": {
      "application/json": {
       "ascii": false,
       "bar_format": null,
       "colour": null,
       "elapsed": 0.01372671127319336,
       "initial": 0,
       "n": 0,
       "ncols": null,
       "nrows": 35,
       "postfix": null,
       "prefix": "",
       "rate": null,
       "total": 25,
       "unit": "it",
       "unit_divisor": 1000,
       "unit_scale": false
      },
      "application/vnd.jupyter.widget-view+json": {
       "model_id": "4e9065d6d95e4532bfebf39785363b57",
       "version_major": 2,
       "version_minor": 0
      },
      "text/plain": [
       "  0%|          | 0/25 [00:00<?, ?it/s]"
      ]
     },
     "metadata": {},
     "output_type": "display_data"
    },
    {
     "name": "stderr",
     "output_type": "stream",
     "text": [
      "K sampler with euler: 300it [00:02, 100.78it/s]                                                                                                                                                                                                                               \n",
      "Global seed set to 23434523\n",
      "K sampler with euler:   0%|                                                                                                                                                                                                                            | 0/25 [00:00<?, ?it/s]"
     ]
    },
    {
     "data": {
      "application/json": {
       "ascii": false,
       "bar_format": null,
       "colour": null,
       "elapsed": 0.015066862106323242,
       "initial": 0,
       "n": 0,
       "ncols": null,
       "nrows": 35,
       "postfix": null,
       "prefix": "",
       "rate": null,
       "total": 25,
       "unit": "it",
       "unit_divisor": 1000,
       "unit_scale": false
      },
      "application/vnd.jupyter.widget-view+json": {
       "model_id": "8fc7eafacd6e47dabc8cdc835bc692e1",
       "version_major": 2,
       "version_minor": 0
      },
      "text/plain": [
       "  0%|          | 0/25 [00:00<?, ?it/s]"
      ]
     },
     "metadata": {},
     "output_type": "display_data"
    },
    {
     "name": "stderr",
     "output_type": "stream",
     "text": [
      "K sampler with euler: 300it [00:03, 80.37it/s]                                                                                                                                                                                                                                \n",
      "Global seed set to 23434523\n",
      "K sampler with euler:   0%|                                                                                                                                                                                                                            | 0/25 [00:00<?, ?it/s]"
     ]
    },
    {
     "data": {
      "application/json": {
       "ascii": false,
       "bar_format": null,
       "colour": null,
       "elapsed": 0.01436614990234375,
       "initial": 0,
       "n": 0,
       "ncols": null,
       "nrows": 35,
       "postfix": null,
       "prefix": "",
       "rate": null,
       "total": 25,
       "unit": "it",
       "unit_divisor": 1000,
       "unit_scale": false
      },
      "application/vnd.jupyter.widget-view+json": {
       "model_id": "e4a6ff2430764f9680f86b06655e0d69",
       "version_major": 2,
       "version_minor": 0
      },
      "text/plain": [
       "  0%|          | 0/25 [00:00<?, ?it/s]"
      ]
     },
     "metadata": {},
     "output_type": "display_data"
    },
    {
     "name": "stderr",
     "output_type": "stream",
     "text": [
      "K sampler with euler: 300it [00:03, 91.65it/s]                                                                                                                                                                                                                                \n",
      "Global seed set to 23434523\n",
      "K sampler with euler:   0%|                                                                                                                                                                                                                            | 0/25 [00:00<?, ?it/s]"
     ]
    },
    {
     "data": {
      "application/json": {
       "ascii": false,
       "bar_format": null,
       "colour": null,
       "elapsed": 0.014181375503540039,
       "initial": 0,
       "n": 0,
       "ncols": null,
       "nrows": 35,
       "postfix": null,
       "prefix": "",
       "rate": null,
       "total": 25,
       "unit": "it",
       "unit_divisor": 1000,
       "unit_scale": false
      },
      "application/vnd.jupyter.widget-view+json": {
       "model_id": "e23cad7519ec4b1faee69c76c4ff6f75",
       "version_major": 2,
       "version_minor": 0
      },
      "text/plain": [
       "  0%|          | 0/25 [00:00<?, ?it/s]"
      ]
     },
     "metadata": {},
     "output_type": "display_data"
    },
    {
     "name": "stderr",
     "output_type": "stream",
     "text": [
      "K sampler with euler: 300it [00:02, 102.53it/s]                                                                                                                                                                                                                               \n",
      "Global seed set to 23434523\n",
      "K sampler with euler:   0%|                                                                                                                                                                                                                            | 0/25 [00:00<?, ?it/s]"
     ]
    },
    {
     "data": {
      "application/json": {
       "ascii": false,
       "bar_format": null,
       "colour": null,
       "elapsed": 0.013997793197631836,
       "initial": 0,
       "n": 0,
       "ncols": null,
       "nrows": 35,
       "postfix": null,
       "prefix": "",
       "rate": null,
       "total": 25,
       "unit": "it",
       "unit_divisor": 1000,
       "unit_scale": false
      },
      "application/vnd.jupyter.widget-view+json": {
       "model_id": "991f6de88ea6404db90d6cf2a05cd36a",
       "version_major": 2,
       "version_minor": 0
      },
      "text/plain": [
       "  0%|          | 0/25 [00:00<?, ?it/s]"
      ]
     },
     "metadata": {},
     "output_type": "display_data"
    },
    {
     "name": "stderr",
     "output_type": "stream",
     "text": [
      "K sampler with euler: 300it [00:03, 83.58it/s]                                                                                                                                                                                                                                \n",
      "Global seed set to 23434523\n",
      "K sampler with euler:   0%|                                                                                                                                                                                                                            | 0/25 [00:00<?, ?it/s]"
     ]
    },
    {
     "data": {
      "application/json": {
       "ascii": false,
       "bar_format": null,
       "colour": null,
       "elapsed": 0.01507425308227539,
       "initial": 0,
       "n": 0,
       "ncols": null,
       "nrows": 35,
       "postfix": null,
       "prefix": "",
       "rate": null,
       "total": 25,
       "unit": "it",
       "unit_divisor": 1000,
       "unit_scale": false
      },
      "application/vnd.jupyter.widget-view+json": {
       "model_id": "f29d45f9d7f3422fb0422c50e03802a7",
       "version_major": 2,
       "version_minor": 0
      },
      "text/plain": [
       "  0%|          | 0/25 [00:00<?, ?it/s]"
      ]
     },
     "metadata": {},
     "output_type": "display_data"
    },
    {
     "name": "stderr",
     "output_type": "stream",
     "text": [
      "K sampler with euler: 300it [00:03, 91.97it/s]                                                                                                                                                                                                                                \n",
      "Global seed set to 23434523\n",
      "K sampler with euler:   0%|                                                                                                                                                                                                                            | 0/25 [00:00<?, ?it/s]"
     ]
    },
    {
     "data": {
      "application/json": {
       "ascii": false,
       "bar_format": null,
       "colour": null,
       "elapsed": 0.013913631439208984,
       "initial": 0,
       "n": 0,
       "ncols": null,
       "nrows": 35,
       "postfix": null,
       "prefix": "",
       "rate": null,
       "total": 25,
       "unit": "it",
       "unit_divisor": 1000,
       "unit_scale": false
      },
      "application/vnd.jupyter.widget-view+json": {
       "model_id": "c8683cf19be64dbd9c71b04891b38dc9",
       "version_major": 2,
       "version_minor": 0
      },
      "text/plain": [
       "  0%|          | 0/25 [00:00<?, ?it/s]"
      ]
     },
     "metadata": {},
     "output_type": "display_data"
    },
    {
     "name": "stderr",
     "output_type": "stream",
     "text": [
      "K sampler with euler: 300it [00:02, 102.57it/s]                                                                                                                                                                                                                               \n",
      "Global seed set to 23434523\n",
      "K sampler with euler:   0%|                                                                                                                                                                                                                            | 0/25 [00:00<?, ?it/s]"
     ]
    },
    {
     "data": {
      "application/json": {
       "ascii": false,
       "bar_format": null,
       "colour": null,
       "elapsed": 0.013666152954101562,
       "initial": 0,
       "n": 0,
       "ncols": null,
       "nrows": 35,
       "postfix": null,
       "prefix": "",
       "rate": null,
       "total": 25,
       "unit": "it",
       "unit_divisor": 1000,
       "unit_scale": false
      },
      "application/vnd.jupyter.widget-view+json": {
       "model_id": "11d8ddc25b444345a20ee3a1d4728654",
       "version_major": 2,
       "version_minor": 0
      },
      "text/plain": [
       "  0%|          | 0/25 [00:00<?, ?it/s]"
      ]
     },
     "metadata": {},
     "output_type": "display_data"
    },
    {
     "name": "stderr",
     "output_type": "stream",
     "text": [
      "K sampler with euler: 300it [00:03, 88.09it/s]                                                                                                                                                                                                                                \n",
      "Global seed set to 23434523\n",
      "K sampler with euler:   0%|                                                                                                                                                                                                                            | 0/25 [00:00<?, ?it/s]"
     ]
    },
    {
     "data": {
      "application/json": {
       "ascii": false,
       "bar_format": null,
       "colour": null,
       "elapsed": 0.013423681259155273,
       "initial": 0,
       "n": 0,
       "ncols": null,
       "nrows": 35,
       "postfix": null,
       "prefix": "",
       "rate": null,
       "total": 25,
       "unit": "it",
       "unit_divisor": 1000,
       "unit_scale": false
      },
      "application/vnd.jupyter.widget-view+json": {
       "model_id": "59b4d78fb3d5443d97745d0a32da787a",
       "version_major": 2,
       "version_minor": 0
      },
      "text/plain": [
       "  0%|          | 0/25 [00:00<?, ?it/s]"
      ]
     },
     "metadata": {},
     "output_type": "display_data"
    },
    {
     "name": "stderr",
     "output_type": "stream",
     "text": [
      "K sampler with euler: 300it [00:03, 97.77it/s]                                                                                                                                                                                                                                \n",
      "Global seed set to 23434523\n",
      "K sampler with euler:   0%|                                                                                                                                                                                                                            | 0/25 [00:00<?, ?it/s]"
     ]
    },
    {
     "data": {
      "application/json": {
       "ascii": false,
       "bar_format": null,
       "colour": null,
       "elapsed": 0.015981435775756836,
       "initial": 0,
       "n": 0,
       "ncols": null,
       "nrows": 35,
       "postfix": null,
       "prefix": "",
       "rate": null,
       "total": 25,
       "unit": "it",
       "unit_divisor": 1000,
       "unit_scale": false
      },
      "application/vnd.jupyter.widget-view+json": {
       "model_id": "f2aae0d911414ca085af3cf1f26da6c2",
       "version_major": 2,
       "version_minor": 0
      },
      "text/plain": [
       "  0%|          | 0/25 [00:00<?, ?it/s]"
      ]
     },
     "metadata": {},
     "output_type": "display_data"
    },
    {
     "name": "stderr",
     "output_type": "stream",
     "text": [
      "K sampler with euler: 300it [00:02, 103.06it/s]                                                                                                                                                                                                                               \n",
      "Global seed set to 23434523\n",
      "K sampler with euler:   0%|                                                                                                                                                                                                                            | 0/25 [00:00<?, ?it/s]"
     ]
    },
    {
     "data": {
      "application/json": {
       "ascii": false,
       "bar_format": null,
       "colour": null,
       "elapsed": 0.013817071914672852,
       "initial": 0,
       "n": 0,
       "ncols": null,
       "nrows": 35,
       "postfix": null,
       "prefix": "",
       "rate": null,
       "total": 25,
       "unit": "it",
       "unit_divisor": 1000,
       "unit_scale": false
      },
      "application/vnd.jupyter.widget-view+json": {
       "model_id": "b69411bee6c04964843a76585cdfbf1a",
       "version_major": 2,
       "version_minor": 0
      },
      "text/plain": [
       "  0%|          | 0/25 [00:00<?, ?it/s]"
      ]
     },
     "metadata": {},
     "output_type": "display_data"
    },
    {
     "name": "stderr",
     "output_type": "stream",
     "text": [
      "K sampler with euler: 300it [00:03, 83.73it/s]                                                                                                                                                                                                                                \n",
      "Global seed set to 23434523\n",
      "K sampler with euler:   0%|                                                                                                                                                                                                                            | 0/25 [00:00<?, ?it/s]"
     ]
    },
    {
     "data": {
      "application/json": {
       "ascii": false,
       "bar_format": null,
       "colour": null,
       "elapsed": 0.013294219970703125,
       "initial": 0,
       "n": 0,
       "ncols": null,
       "nrows": 35,
       "postfix": null,
       "prefix": "",
       "rate": null,
       "total": 25,
       "unit": "it",
       "unit_divisor": 1000,
       "unit_scale": false
      },
      "application/vnd.jupyter.widget-view+json": {
       "model_id": "8f6ea77a309747b486be36694b19f7fd",
       "version_major": 2,
       "version_minor": 0
      },
      "text/plain": [
       "  0%|          | 0/25 [00:00<?, ?it/s]"
      ]
     },
     "metadata": {},
     "output_type": "display_data"
    },
    {
     "name": "stderr",
     "output_type": "stream",
     "text": [
      "K sampler with euler: 300it [00:03, 98.26it/s]                                                                                                                                                                                                                                \n",
      "Global seed set to 23434523\n",
      "K sampler with euler:   0%|                                                                                                                                                                                                                            | 0/25 [00:00<?, ?it/s]"
     ]
    },
    {
     "data": {
      "application/json": {
       "ascii": false,
       "bar_format": null,
       "colour": null,
       "elapsed": 0.014136075973510742,
       "initial": 0,
       "n": 0,
       "ncols": null,
       "nrows": 35,
       "postfix": null,
       "prefix": "",
       "rate": null,
       "total": 25,
       "unit": "it",
       "unit_divisor": 1000,
       "unit_scale": false
      },
      "application/vnd.jupyter.widget-view+json": {
       "model_id": "19386d4823644cbb8f537a6fceb9d78c",
       "version_major": 2,
       "version_minor": 0
      },
      "text/plain": [
       "  0%|          | 0/25 [00:00<?, ?it/s]"
      ]
     },
     "metadata": {},
     "output_type": "display_data"
    },
    {
     "name": "stderr",
     "output_type": "stream",
     "text": [
      "K sampler with euler: 300it [00:02, 103.49it/s]                                                                                                                                                                                                                               \n",
      "Global seed set to 23434523\n",
      "K sampler with euler:   0%|                                                                                                                                                                                                                            | 0/25 [00:00<?, ?it/s]"
     ]
    },
    {
     "data": {
      "application/json": {
       "ascii": false,
       "bar_format": null,
       "colour": null,
       "elapsed": 0.013469934463500977,
       "initial": 0,
       "n": 0,
       "ncols": null,
       "nrows": 35,
       "postfix": null,
       "prefix": "",
       "rate": null,
       "total": 25,
       "unit": "it",
       "unit_divisor": 1000,
       "unit_scale": false
      },
      "application/vnd.jupyter.widget-view+json": {
       "model_id": "373a7e46863141a1a5afaf973b96b8cf",
       "version_major": 2,
       "version_minor": 0
      },
      "text/plain": [
       "  0%|          | 0/25 [00:00<?, ?it/s]"
      ]
     },
     "metadata": {},
     "output_type": "display_data"
    },
    {
     "name": "stderr",
     "output_type": "stream",
     "text": [
      "K sampler with euler: 300it [00:03, 82.45it/s]                                                                                                                                                                                                                                \n",
      "Global seed set to 23434523\n",
      "K sampler with euler:   0%|                                                                                                                                                                                                                            | 0/25 [00:00<?, ?it/s]"
     ]
    },
    {
     "data": {
      "application/json": {
       "ascii": false,
       "bar_format": null,
       "colour": null,
       "elapsed": 0.014377355575561523,
       "initial": 0,
       "n": 0,
       "ncols": null,
       "nrows": 35,
       "postfix": null,
       "prefix": "",
       "rate": null,
       "total": 25,
       "unit": "it",
       "unit_divisor": 1000,
       "unit_scale": false
      },
      "application/vnd.jupyter.widget-view+json": {
       "model_id": "25a73dfbec2d4fa7a3c9f2fd79f56e26",
       "version_major": 2,
       "version_minor": 0
      },
      "text/plain": [
       "  0%|          | 0/25 [00:00<?, ?it/s]"
      ]
     },
     "metadata": {},
     "output_type": "display_data"
    },
    {
     "name": "stderr",
     "output_type": "stream",
     "text": [
      "K sampler with euler: 300it [00:03, 80.21it/s]                                                                                                                                                                                                                                \n",
      "Global seed set to 23434523\n",
      "K sampler with euler:   0%|                                                                                                                                                                                                                            | 0/25 [00:00<?, ?it/s]"
     ]
    },
    {
     "data": {
      "application/json": {
       "ascii": false,
       "bar_format": null,
       "colour": null,
       "elapsed": 0.015154838562011719,
       "initial": 0,
       "n": 0,
       "ncols": null,
       "nrows": 35,
       "postfix": null,
       "prefix": "",
       "rate": null,
       "total": 25,
       "unit": "it",
       "unit_divisor": 1000,
       "unit_scale": false
      },
      "application/vnd.jupyter.widget-view+json": {
       "model_id": "bec99203eb0c4cf79f42e09aee3e5d31",
       "version_major": 2,
       "version_minor": 0
      },
      "text/plain": [
       "  0%|          | 0/25 [00:00<?, ?it/s]"
      ]
     },
     "metadata": {},
     "output_type": "display_data"
    },
    {
     "name": "stderr",
     "output_type": "stream",
     "text": [
      "K sampler with euler: 300it [00:02, 105.12it/s]                                                                                                                                                                                                                               \n",
      "Global seed set to 23434523\n",
      "K sampler with euler:   0%|                                                                                                                                                                                                                            | 0/25 [00:00<?, ?it/s]"
     ]
    },
    {
     "data": {
      "application/json": {
       "ascii": false,
       "bar_format": null,
       "colour": null,
       "elapsed": 0.01424860954284668,
       "initial": 0,
       "n": 0,
       "ncols": null,
       "nrows": 35,
       "postfix": null,
       "prefix": "",
       "rate": null,
       "total": 25,
       "unit": "it",
       "unit_divisor": 1000,
       "unit_scale": false
      },
      "application/vnd.jupyter.widget-view+json": {
       "model_id": "9ace3eb8c4114e53a9e0671fc0402eeb",
       "version_major": 2,
       "version_minor": 0
      },
      "text/plain": [
       "  0%|          | 0/25 [00:00<?, ?it/s]"
      ]
     },
     "metadata": {},
     "output_type": "display_data"
    },
    {
     "name": "stderr",
     "output_type": "stream",
     "text": [
      "K sampler with euler: 300it [00:03, 94.06it/s]                                                                                                                                                                                                                                \n",
      "Global seed set to 23434523\n",
      "K sampler with euler:   0%|                                                                                                                                                                                                                            | 0/25 [00:00<?, ?it/s]"
     ]
    },
    {
     "data": {
      "application/json": {
       "ascii": false,
       "bar_format": null,
       "colour": null,
       "elapsed": 0.013682365417480469,
       "initial": 0,
       "n": 0,
       "ncols": null,
       "nrows": 35,
       "postfix": null,
       "prefix": "",
       "rate": null,
       "total": 25,
       "unit": "it",
       "unit_divisor": 1000,
       "unit_scale": false
      },
      "application/vnd.jupyter.widget-view+json": {
       "model_id": "2f73e625956c491f818d64a8ff715fb8",
       "version_major": 2,
       "version_minor": 0
      },
      "text/plain": [
       "  0%|          | 0/25 [00:00<?, ?it/s]"
      ]
     },
     "metadata": {},
     "output_type": "display_data"
    },
    {
     "name": "stderr",
     "output_type": "stream",
     "text": [
      "K sampler with euler: 300it [00:03, 90.38it/s]                                                                                                                                                                                                                                \n",
      "Global seed set to 23434523\n",
      "K sampler with euler:   0%|                                                                                                                                                                                                                            | 0/25 [00:00<?, ?it/s]"
     ]
    },
    {
     "data": {
      "application/json": {
       "ascii": false,
       "bar_format": null,
       "colour": null,
       "elapsed": 0.014892101287841797,
       "initial": 0,
       "n": 0,
       "ncols": null,
       "nrows": 35,
       "postfix": null,
       "prefix": "",
       "rate": null,
       "total": 25,
       "unit": "it",
       "unit_divisor": 1000,
       "unit_scale": false
      },
      "application/vnd.jupyter.widget-view+json": {
       "model_id": "9154b05659b0446b8ee42b50c5e23c5d",
       "version_major": 2,
       "version_minor": 0
      },
      "text/plain": [
       "  0%|          | 0/25 [00:00<?, ?it/s]"
      ]
     },
     "metadata": {},
     "output_type": "display_data"
    },
    {
     "name": "stderr",
     "output_type": "stream",
     "text": [
      "K sampler with euler: 300it [00:02, 102.43it/s]                                                                                                                                                                                                                               \n",
      "Global seed set to 23434523\n",
      "K sampler with euler:   0%|                                                                                                                                                                                                                            | 0/25 [00:00<?, ?it/s]"
     ]
    },
    {
     "data": {
      "application/json": {
       "ascii": false,
       "bar_format": null,
       "colour": null,
       "elapsed": 0.013799190521240234,
       "initial": 0,
       "n": 0,
       "ncols": null,
       "nrows": 35,
       "postfix": null,
       "prefix": "",
       "rate": null,
       "total": 25,
       "unit": "it",
       "unit_divisor": 1000,
       "unit_scale": false
      },
      "application/vnd.jupyter.widget-view+json": {
       "model_id": "d44acd68f1df472f9bb839acaaee7ce6",
       "version_major": 2,
       "version_minor": 0
      },
      "text/plain": [
       "  0%|          | 0/25 [00:00<?, ?it/s]"
      ]
     },
     "metadata": {},
     "output_type": "display_data"
    },
    {
     "name": "stderr",
     "output_type": "stream",
     "text": [
      "K sampler with euler: 300it [00:03, 86.58it/s]                                                                                                                                                                                                                                \n",
      "Global seed set to 23434523\n",
      "K sampler with euler:   0%|                                                                                                                                                                                                                            | 0/25 [00:00<?, ?it/s]"
     ]
    },
    {
     "data": {
      "application/json": {
       "ascii": false,
       "bar_format": null,
       "colour": null,
       "elapsed": 0.014154672622680664,
       "initial": 0,
       "n": 0,
       "ncols": null,
       "nrows": 35,
       "postfix": null,
       "prefix": "",
       "rate": null,
       "total": 25,
       "unit": "it",
       "unit_divisor": 1000,
       "unit_scale": false
      },
      "application/vnd.jupyter.widget-view+json": {
       "model_id": "5c103ac2e0824301b62d7bdf93f347db",
       "version_major": 2,
       "version_minor": 0
      },
      "text/plain": [
       "  0%|          | 0/25 [00:00<?, ?it/s]"
      ]
     },
     "metadata": {},
     "output_type": "display_data"
    },
    {
     "name": "stderr",
     "output_type": "stream",
     "text": [
      "K sampler with euler: 300it [00:03, 81.01it/s]                                                                                                                                                                                                                                \n",
      "Global seed set to 23434523\n",
      "K sampler with euler:   0%|                                                                                                                                                                                                                            | 0/25 [00:00<?, ?it/s]"
     ]
    },
    {
     "data": {
      "application/json": {
       "ascii": false,
       "bar_format": null,
       "colour": null,
       "elapsed": 0.014925003051757812,
       "initial": 0,
       "n": 0,
       "ncols": null,
       "nrows": 35,
       "postfix": null,
       "prefix": "",
       "rate": null,
       "total": 25,
       "unit": "it",
       "unit_divisor": 1000,
       "unit_scale": false
      },
      "application/vnd.jupyter.widget-view+json": {
       "model_id": "eb6d7cb93f0c443cbecd5b3eb210cc3e",
       "version_major": 2,
       "version_minor": 0
      },
      "text/plain": [
       "  0%|          | 0/25 [00:00<?, ?it/s]"
      ]
     },
     "metadata": {},
     "output_type": "display_data"
    },
    {
     "name": "stderr",
     "output_type": "stream",
     "text": [
      "K sampler with euler: 300it [00:02, 103.98it/s]                                                                                                                                                                                                                               \n",
      "Global seed set to 23434523\n",
      "K sampler with euler:   0%|                                                                                                                                                                                                                            | 0/25 [00:00<?, ?it/s]"
     ]
    },
    {
     "data": {
      "application/json": {
       "ascii": false,
       "bar_format": null,
       "colour": null,
       "elapsed": 0.015085935592651367,
       "initial": 0,
       "n": 0,
       "ncols": null,
       "nrows": 35,
       "postfix": null,
       "prefix": "",
       "rate": null,
       "total": 25,
       "unit": "it",
       "unit_divisor": 1000,
       "unit_scale": false
      },
      "application/vnd.jupyter.widget-view+json": {
       "model_id": "4b180ab5da1342b4adea823619d40ee2",
       "version_major": 2,
       "version_minor": 0
      },
      "text/plain": [
       "  0%|          | 0/25 [00:00<?, ?it/s]"
      ]
     },
     "metadata": {},
     "output_type": "display_data"
    },
    {
     "name": "stderr",
     "output_type": "stream",
     "text": [
      "K sampler with euler: 300it [00:03, 99.85it/s]                                                                                                                                                                                                                                \n",
      "Global seed set to 23434523\n",
      "K sampler with euler:   0%|                                                                                                                                                                                                                            | 0/25 [00:00<?, ?it/s]"
     ]
    },
    {
     "data": {
      "application/json": {
       "ascii": false,
       "bar_format": null,
       "colour": null,
       "elapsed": 0.013458967208862305,
       "initial": 0,
       "n": 0,
       "ncols": null,
       "nrows": 35,
       "postfix": null,
       "prefix": "",
       "rate": null,
       "total": 25,
       "unit": "it",
       "unit_divisor": 1000,
       "unit_scale": false
      },
      "application/vnd.jupyter.widget-view+json": {
       "model_id": "e169f9ddfccf4e53b22e57536a43a275",
       "version_major": 2,
       "version_minor": 0
      },
      "text/plain": [
       "  0%|          | 0/25 [00:00<?, ?it/s]"
      ]
     },
     "metadata": {},
     "output_type": "display_data"
    },
    {
     "name": "stderr",
     "output_type": "stream",
     "text": [
      "K sampler with euler: 300it [00:03, 92.82it/s]                                                                                                                                                                                                                                \n",
      "Global seed set to 23434523\n",
      "K sampler with euler:   0%|                                                                                                                                                                                                                            | 0/25 [00:00<?, ?it/s]"
     ]
    },
    {
     "data": {
      "application/json": {
       "ascii": false,
       "bar_format": null,
       "colour": null,
       "elapsed": 0.014088630676269531,
       "initial": 0,
       "n": 0,
       "ncols": null,
       "nrows": 35,
       "postfix": null,
       "prefix": "",
       "rate": null,
       "total": 25,
       "unit": "it",
       "unit_divisor": 1000,
       "unit_scale": false
      },
      "application/vnd.jupyter.widget-view+json": {
       "model_id": "e98a98653b8547bfb4340b359a2fa38c",
       "version_major": 2,
       "version_minor": 0
      },
      "text/plain": [
       "  0%|          | 0/25 [00:00<?, ?it/s]"
      ]
     },
     "metadata": {},
     "output_type": "display_data"
    },
    {
     "name": "stderr",
     "output_type": "stream",
     "text": [
      "K sampler with euler: 300it [00:02, 101.91it/s]                                                                                                                                                                                                                               \n",
      "Global seed set to 23434523\n",
      "K sampler with euler:   0%|                                                                                                                                                                                                                            | 0/25 [00:00<?, ?it/s]"
     ]
    },
    {
     "data": {
      "application/json": {
       "ascii": false,
       "bar_format": null,
       "colour": null,
       "elapsed": 0.013475418090820312,
       "initial": 0,
       "n": 0,
       "ncols": null,
       "nrows": 35,
       "postfix": null,
       "prefix": "",
       "rate": null,
       "total": 25,
       "unit": "it",
       "unit_divisor": 1000,
       "unit_scale": false
      },
      "application/vnd.jupyter.widget-view+json": {
       "model_id": "cbcf4d5f2ac14a5e87e80a2cbe6c000a",
       "version_major": 2,
       "version_minor": 0
      },
      "text/plain": [
       "  0%|          | 0/25 [00:00<?, ?it/s]"
      ]
     },
     "metadata": {},
     "output_type": "display_data"
    },
    {
     "name": "stderr",
     "output_type": "stream",
     "text": [
      "K sampler with euler: 300it [00:03, 84.74it/s]                                                                                                                                                                                                                                \n",
      "Global seed set to 23434523\n",
      "K sampler with euler:   0%|                                                                                                                                                                                                                            | 0/25 [00:00<?, ?it/s]"
     ]
    },
    {
     "data": {
      "application/json": {
       "ascii": false,
       "bar_format": null,
       "colour": null,
       "elapsed": 0.014075756072998047,
       "initial": 0,
       "n": 0,
       "ncols": null,
       "nrows": 35,
       "postfix": null,
       "prefix": "",
       "rate": null,
       "total": 25,
       "unit": "it",
       "unit_divisor": 1000,
       "unit_scale": false
      },
      "application/vnd.jupyter.widget-view+json": {
       "model_id": "5c14d89c206d4d5e9c17927bbbc8220c",
       "version_major": 2,
       "version_minor": 0
      },
      "text/plain": [
       "  0%|          | 0/25 [00:00<?, ?it/s]"
      ]
     },
     "metadata": {},
     "output_type": "display_data"
    },
    {
     "name": "stderr",
     "output_type": "stream",
     "text": [
      "K sampler with euler: 300it [00:04, 70.59it/s]                                                                                                                                                                                                                                \n",
      "Global seed set to 23434523\n",
      "K sampler with euler:   0%|                                                                                                                                                                                                                            | 0/25 [00:00<?, ?it/s]"
     ]
    },
    {
     "data": {
      "application/json": {
       "ascii": false,
       "bar_format": null,
       "colour": null,
       "elapsed": 0.014705657958984375,
       "initial": 0,
       "n": 0,
       "ncols": null,
       "nrows": 35,
       "postfix": null,
       "prefix": "",
       "rate": null,
       "total": 25,
       "unit": "it",
       "unit_divisor": 1000,
       "unit_scale": false
      },
      "application/vnd.jupyter.widget-view+json": {
       "model_id": "a7c94f4147c54a0ea2433a80ef1e0716",
       "version_major": 2,
       "version_minor": 0
      },
      "text/plain": [
       "  0%|          | 0/25 [00:00<?, ?it/s]"
      ]
     },
     "metadata": {},
     "output_type": "display_data"
    },
    {
     "name": "stderr",
     "output_type": "stream",
     "text": [
      "K sampler with euler: 300it [00:02, 103.56it/s]                                                                                                                                                                                                                               \n",
      "Global seed set to 23434523\n",
      "K sampler with euler:   0%|                                                                                                                                                                                                                            | 0/25 [00:00<?, ?it/s]"
     ]
    },
    {
     "data": {
      "application/json": {
       "ascii": false,
       "bar_format": null,
       "colour": null,
       "elapsed": 0.01304936408996582,
       "initial": 0,
       "n": 0,
       "ncols": null,
       "nrows": 35,
       "postfix": null,
       "prefix": "",
       "rate": null,
       "total": 25,
       "unit": "it",
       "unit_divisor": 1000,
       "unit_scale": false
      },
      "application/vnd.jupyter.widget-view+json": {
       "model_id": "99f2a50affad4eb8b78902a1d790f818",
       "version_major": 2,
       "version_minor": 0
      },
      "text/plain": [
       "  0%|          | 0/25 [00:00<?, ?it/s]"
      ]
     },
     "metadata": {},
     "output_type": "display_data"
    },
    {
     "name": "stderr",
     "output_type": "stream",
     "text": [
      "K sampler with euler: 300it [00:03, 99.15it/s]                                                                                                                                                                                                                                \n",
      "Global seed set to 23434523\n",
      "K sampler with euler:   0%|                                                                                                                                                                                                                            | 0/25 [00:00<?, ?it/s]"
     ]
    },
    {
     "data": {
      "application/json": {
       "ascii": false,
       "bar_format": null,
       "colour": null,
       "elapsed": 0.013764142990112305,
       "initial": 0,
       "n": 0,
       "ncols": null,
       "nrows": 35,
       "postfix": null,
       "prefix": "",
       "rate": null,
       "total": 25,
       "unit": "it",
       "unit_divisor": 1000,
       "unit_scale": false
      },
      "application/vnd.jupyter.widget-view+json": {
       "model_id": "517cc745ef554864b351d30344e8c77b",
       "version_major": 2,
       "version_minor": 0
      },
      "text/plain": [
       "  0%|          | 0/25 [00:00<?, ?it/s]"
      ]
     },
     "metadata": {},
     "output_type": "display_data"
    },
    {
     "name": "stderr",
     "output_type": "stream",
     "text": [
      "K sampler with euler: 300it [00:03, 86.89it/s]                                                                                                                                                                                                                                \n",
      "Global seed set to 23434523\n",
      "K sampler with euler:   0%|                                                                                                                                                                                                                            | 0/25 [00:00<?, ?it/s]"
     ]
    },
    {
     "data": {
      "application/json": {
       "ascii": false,
       "bar_format": null,
       "colour": null,
       "elapsed": 0.014389753341674805,
       "initial": 0,
       "n": 0,
       "ncols": null,
       "nrows": 35,
       "postfix": null,
       "prefix": "",
       "rate": null,
       "total": 25,
       "unit": "it",
       "unit_divisor": 1000,
       "unit_scale": false
      },
      "application/vnd.jupyter.widget-view+json": {
       "model_id": "5d0336475c844b85ac15d97d2d0be22b",
       "version_major": 2,
       "version_minor": 0
      },
      "text/plain": [
       "  0%|          | 0/25 [00:00<?, ?it/s]"
      ]
     },
     "metadata": {},
     "output_type": "display_data"
    },
    {
     "name": "stderr",
     "output_type": "stream",
     "text": [
      "K sampler with euler: 300it [00:02, 103.77it/s]                                                                                                                                                                                                                               \n",
      "Global seed set to 23434523\n",
      "K sampler with euler:   0%|                                                                                                                                                                                                                            | 0/25 [00:00<?, ?it/s]"
     ]
    },
    {
     "data": {
      "application/json": {
       "ascii": false,
       "bar_format": null,
       "colour": null,
       "elapsed": 0.014585256576538086,
       "initial": 0,
       "n": 0,
       "ncols": null,
       "nrows": 35,
       "postfix": null,
       "prefix": "",
       "rate": null,
       "total": 25,
       "unit": "it",
       "unit_divisor": 1000,
       "unit_scale": false
      },
      "application/vnd.jupyter.widget-view+json": {
       "model_id": "4447d8af9b8a4637be5199d5b6a81aa2",
       "version_major": 2,
       "version_minor": 0
      },
      "text/plain": [
       "  0%|          | 0/25 [00:00<?, ?it/s]"
      ]
     },
     "metadata": {},
     "output_type": "display_data"
    },
    {
     "name": "stderr",
     "output_type": "stream",
     "text": [
      "K sampler with euler: 300it [00:03, 96.96it/s]                                                                                                                                                                                                                                \n",
      "Global seed set to 23434523\n",
      "K sampler with euler:   0%|                                                                                                                                                                                                                            | 0/25 [00:00<?, ?it/s]"
     ]
    },
    {
     "data": {
      "application/json": {
       "ascii": false,
       "bar_format": null,
       "colour": null,
       "elapsed": 0.01441192626953125,
       "initial": 0,
       "n": 0,
       "ncols": null,
       "nrows": 35,
       "postfix": null,
       "prefix": "",
       "rate": null,
       "total": 25,
       "unit": "it",
       "unit_divisor": 1000,
       "unit_scale": false
      },
      "application/vnd.jupyter.widget-view+json": {
       "model_id": "6e1899cc73294a078e0404c47cde815b",
       "version_major": 2,
       "version_minor": 0
      },
      "text/plain": [
       "  0%|          | 0/25 [00:00<?, ?it/s]"
      ]
     },
     "metadata": {},
     "output_type": "display_data"
    },
    {
     "name": "stderr",
     "output_type": "stream",
     "text": [
      "K sampler with euler: 300it [00:04, 71.74it/s]                                                                                                                                                                                                                                \n",
      "Global seed set to 23434523\n",
      "K sampler with euler:   0%|                                                                                                                                                                                                                            | 0/25 [00:00<?, ?it/s]"
     ]
    },
    {
     "data": {
      "application/json": {
       "ascii": false,
       "bar_format": null,
       "colour": null,
       "elapsed": 0.013580322265625,
       "initial": 0,
       "n": 0,
       "ncols": null,
       "nrows": 35,
       "postfix": null,
       "prefix": "",
       "rate": null,
       "total": 25,
       "unit": "it",
       "unit_divisor": 1000,
       "unit_scale": false
      },
      "application/vnd.jupyter.widget-view+json": {
       "model_id": "f433e65ada9e40938a2ccc709b48a5d9",
       "version_major": 2,
       "version_minor": 0
      },
      "text/plain": [
       "  0%|          | 0/25 [00:00<?, ?it/s]"
      ]
     },
     "metadata": {},
     "output_type": "display_data"
    },
    {
     "name": "stderr",
     "output_type": "stream",
     "text": [
      "K sampler with euler: 300it [00:03, 96.53it/s]                                                                                                                                                                                                                                \n",
      "Global seed set to 23434523\n",
      "K sampler with euler:   0%|                                                                                                                                                                                                                            | 0/25 [00:00<?, ?it/s]"
     ]
    },
    {
     "data": {
      "application/json": {
       "ascii": false,
       "bar_format": null,
       "colour": null,
       "elapsed": 0.014462947845458984,
       "initial": 0,
       "n": 0,
       "ncols": null,
       "nrows": 35,
       "postfix": null,
       "prefix": "",
       "rate": null,
       "total": 25,
       "unit": "it",
       "unit_divisor": 1000,
       "unit_scale": false
      },
      "application/vnd.jupyter.widget-view+json": {
       "model_id": "ab005d9141344aafbf5b6918a4a9b6da",
       "version_major": 2,
       "version_minor": 0
      },
      "text/plain": [
       "  0%|          | 0/25 [00:00<?, ?it/s]"
      ]
     },
     "metadata": {},
     "output_type": "display_data"
    },
    {
     "name": "stderr",
     "output_type": "stream",
     "text": [
      "K sampler with euler: 300it [00:02, 103.81it/s]                                                                                                                                                                                                                               \n",
      "Global seed set to 23434523\n",
      "K sampler with euler:   0%|                                                                                                                                                                                                                            | 0/25 [00:00<?, ?it/s]"
     ]
    },
    {
     "data": {
      "application/json": {
       "ascii": false,
       "bar_format": null,
       "colour": null,
       "elapsed": 0.014768362045288086,
       "initial": 0,
       "n": 0,
       "ncols": null,
       "nrows": 35,
       "postfix": null,
       "prefix": "",
       "rate": null,
       "total": 25,
       "unit": "it",
       "unit_divisor": 1000,
       "unit_scale": false
      },
      "application/vnd.jupyter.widget-view+json": {
       "model_id": "65d3c7105dcd4e51847c20f0175c11aa",
       "version_major": 2,
       "version_minor": 0
      },
      "text/plain": [
       "  0%|          | 0/25 [00:00<?, ?it/s]"
      ]
     },
     "metadata": {},
     "output_type": "display_data"
    },
    {
     "name": "stderr",
     "output_type": "stream",
     "text": [
      "K sampler with euler: 300it [00:03, 86.17it/s]                                                                                                                                                                                                                                \n",
      "Global seed set to 23434523\n",
      "K sampler with euler:   0%|                                                                                                                                                                                                                            | 0/25 [00:00<?, ?it/s]"
     ]
    },
    {
     "data": {
      "application/json": {
       "ascii": false,
       "bar_format": null,
       "colour": null,
       "elapsed": 0.013613700866699219,
       "initial": 0,
       "n": 0,
       "ncols": null,
       "nrows": 35,
       "postfix": null,
       "prefix": "",
       "rate": null,
       "total": 25,
       "unit": "it",
       "unit_divisor": 1000,
       "unit_scale": false
      },
      "application/vnd.jupyter.widget-view+json": {
       "model_id": "00cd59a3181f4ee2836d03a5151d9bd1",
       "version_major": 2,
       "version_minor": 0
      },
      "text/plain": [
       "  0%|          | 0/25 [00:00<?, ?it/s]"
      ]
     },
     "metadata": {},
     "output_type": "display_data"
    },
    {
     "name": "stderr",
     "output_type": "stream",
     "text": [
      "K sampler with euler: 300it [00:02, 102.01it/s]                                                                                                                                                                                                                               \n",
      "Global seed set to 23434523\n",
      "K sampler with euler:   0%|                                                                                                                                                                                                                            | 0/25 [00:00<?, ?it/s]"
     ]
    },
    {
     "data": {
      "application/json": {
       "ascii": false,
       "bar_format": null,
       "colour": null,
       "elapsed": 0.014095783233642578,
       "initial": 0,
       "n": 0,
       "ncols": null,
       "nrows": 35,
       "postfix": null,
       "prefix": "",
       "rate": null,
       "total": 25,
       "unit": "it",
       "unit_divisor": 1000,
       "unit_scale": false
      },
      "application/vnd.jupyter.widget-view+json": {
       "model_id": "d1e80b6e9ea9480d80d8080e3f25ed09",
       "version_major": 2,
       "version_minor": 0
      },
      "text/plain": [
       "  0%|          | 0/25 [00:00<?, ?it/s]"
      ]
     },
     "metadata": {},
     "output_type": "display_data"
    },
    {
     "name": "stderr",
     "output_type": "stream",
     "text": [
      "K sampler with euler: 300it [00:02, 102.15it/s]                                                                                                                                                                                                                               \n",
      "Global seed set to 23434523\n",
      "K sampler with euler:   0%|                                                                                                                                                                                                                            | 0/25 [00:00<?, ?it/s]"
     ]
    },
    {
     "data": {
      "application/json": {
       "ascii": false,
       "bar_format": null,
       "colour": null,
       "elapsed": 0.015577316284179688,
       "initial": 0,
       "n": 0,
       "ncols": null,
       "nrows": 35,
       "postfix": null,
       "prefix": "",
       "rate": null,
       "total": 25,
       "unit": "it",
       "unit_divisor": 1000,
       "unit_scale": false
      },
      "application/vnd.jupyter.widget-view+json": {
       "model_id": "c7014c6629df4c4aa850207ac602058c",
       "version_major": 2,
       "version_minor": 0
      },
      "text/plain": [
       "  0%|          | 0/25 [00:00<?, ?it/s]"
      ]
     },
     "metadata": {},
     "output_type": "display_data"
    },
    {
     "name": "stderr",
     "output_type": "stream",
     "text": [
      "K sampler with euler: 300it [00:03, 75.20it/s]                                                                                                                                                                                                                                \n",
      "Global seed set to 23434523\n",
      "K sampler with euler:   0%|                                                                                                                                                                                                                            | 0/25 [00:00<?, ?it/s]"
     ]
    },
    {
     "data": {
      "application/json": {
       "ascii": false,
       "bar_format": null,
       "colour": null,
       "elapsed": 0.015025854110717773,
       "initial": 0,
       "n": 0,
       "ncols": null,
       "nrows": 35,
       "postfix": null,
       "prefix": "",
       "rate": null,
       "total": 25,
       "unit": "it",
       "unit_divisor": 1000,
       "unit_scale": false
      },
      "application/vnd.jupyter.widget-view+json": {
       "model_id": "12a087bb48fe489496e269b89ec98f8e",
       "version_major": 2,
       "version_minor": 0
      },
      "text/plain": [
       "  0%|          | 0/25 [00:00<?, ?it/s]"
      ]
     },
     "metadata": {},
     "output_type": "display_data"
    },
    {
     "name": "stderr",
     "output_type": "stream",
     "text": [
      "K sampler with euler: 300it [00:03, 88.76it/s]                                                                                                                                                                                                                                \n",
      "Global seed set to 23434523\n",
      "K sampler with euler:   0%|                                                                                                                                                                                                                            | 0/25 [00:00<?, ?it/s]"
     ]
    },
    {
     "data": {
      "application/json": {
       "ascii": false,
       "bar_format": null,
       "colour": null,
       "elapsed": 0.014092206954956055,
       "initial": 0,
       "n": 0,
       "ncols": null,
       "nrows": 35,
       "postfix": null,
       "prefix": "",
       "rate": null,
       "total": 25,
       "unit": "it",
       "unit_divisor": 1000,
       "unit_scale": false
      },
      "application/vnd.jupyter.widget-view+json": {
       "model_id": "ffa9168f05a2449f9712eb16842424e0",
       "version_major": 2,
       "version_minor": 0
      },
      "text/plain": [
       "  0%|          | 0/25 [00:00<?, ?it/s]"
      ]
     },
     "metadata": {},
     "output_type": "display_data"
    },
    {
     "name": "stderr",
     "output_type": "stream",
     "text": [
      "K sampler with euler: 300it [00:03, 98.43it/s]                                                                                                                                                                                                                                \n",
      "Global seed set to 23434523\n",
      "K sampler with euler:   0%|                                                                                                                                                                                                                            | 0/25 [00:00<?, ?it/s]"
     ]
    },
    {
     "data": {
      "application/json": {
       "ascii": false,
       "bar_format": null,
       "colour": null,
       "elapsed": 0.013422250747680664,
       "initial": 0,
       "n": 0,
       "ncols": null,
       "nrows": 35,
       "postfix": null,
       "prefix": "",
       "rate": null,
       "total": 25,
       "unit": "it",
       "unit_divisor": 1000,
       "unit_scale": false
      },
      "application/vnd.jupyter.widget-view+json": {
       "model_id": "c6b6d3f52a3a4a269cc00d92d4ec75c3",
       "version_major": 2,
       "version_minor": 0
      },
      "text/plain": [
       "  0%|          | 0/25 [00:00<?, ?it/s]"
      ]
     },
     "metadata": {},
     "output_type": "display_data"
    },
    {
     "name": "stderr",
     "output_type": "stream",
     "text": [
      "K sampler with euler: 300it [00:03, 84.34it/s]                                                                                                                                                                                                                                \n",
      "Global seed set to 23434523\n",
      "K sampler with euler:   0%|                                                                                                                                                                                                                            | 0/25 [00:00<?, ?it/s]"
     ]
    },
    {
     "data": {
      "application/json": {
       "ascii": false,
       "bar_format": null,
       "colour": null,
       "elapsed": 0.014276981353759766,
       "initial": 0,
       "n": 0,
       "ncols": null,
       "nrows": 35,
       "postfix": null,
       "prefix": "",
       "rate": null,
       "total": 25,
       "unit": "it",
       "unit_divisor": 1000,
       "unit_scale": false
      },
      "application/vnd.jupyter.widget-view+json": {
       "model_id": "3619725534f2439c8170ef987a465716",
       "version_major": 2,
       "version_minor": 0
      },
      "text/plain": [
       "  0%|          | 0/25 [00:00<?, ?it/s]"
      ]
     },
     "metadata": {},
     "output_type": "display_data"
    },
    {
     "name": "stderr",
     "output_type": "stream",
     "text": [
      "K sampler with euler: 300it [00:03, 95.73it/s]                                                                                                                                                                                                                                \n",
      "Global seed set to 23434523\n",
      "K sampler with euler:   0%|                                                                                                                                                                                                                            | 0/25 [00:00<?, ?it/s]"
     ]
    },
    {
     "data": {
      "application/json": {
       "ascii": false,
       "bar_format": null,
       "colour": null,
       "elapsed": 0.013709306716918945,
       "initial": 0,
       "n": 0,
       "ncols": null,
       "nrows": 35,
       "postfix": null,
       "prefix": "",
       "rate": null,
       "total": 25,
       "unit": "it",
       "unit_divisor": 1000,
       "unit_scale": false
      },
      "application/vnd.jupyter.widget-view+json": {
       "model_id": "78bc817ad453485c93c5e042b6d58c6e",
       "version_major": 2,
       "version_minor": 0
      },
      "text/plain": [
       "  0%|          | 0/25 [00:00<?, ?it/s]"
      ]
     },
     "metadata": {},
     "output_type": "display_data"
    },
    {
     "name": "stderr",
     "output_type": "stream",
     "text": [
      "K sampler with euler: 300it [00:02, 104.35it/s]                                                                                                                                                                                                                               \n",
      "Global seed set to 23434523\n",
      "K sampler with euler:   0%|                                                                                                                                                                                                                            | 0/25 [00:00<?, ?it/s]"
     ]
    },
    {
     "data": {
      "application/json": {
       "ascii": false,
       "bar_format": null,
       "colour": null,
       "elapsed": 0.01479339599609375,
       "initial": 0,
       "n": 0,
       "ncols": null,
       "nrows": 35,
       "postfix": null,
       "prefix": "",
       "rate": null,
       "total": 25,
       "unit": "it",
       "unit_divisor": 1000,
       "unit_scale": false
      },
      "application/vnd.jupyter.widget-view+json": {
       "model_id": "ddc39d2cd9354005bacc24e8fd8bb4ff",
       "version_major": 2,
       "version_minor": 0
      },
      "text/plain": [
       "  0%|          | 0/25 [00:00<?, ?it/s]"
      ]
     },
     "metadata": {},
     "output_type": "display_data"
    },
    {
     "name": "stderr",
     "output_type": "stream",
     "text": [
      "K sampler with euler: 300it [00:03, 79.50it/s]                                                                                                                                                                                                                                \n",
      "Global seed set to 23434523\n",
      "K sampler with euler:   0%|                                                                                                                                                                                                                            | 0/25 [00:00<?, ?it/s]"
     ]
    },
    {
     "data": {
      "application/json": {
       "ascii": false,
       "bar_format": null,
       "colour": null,
       "elapsed": 0.014234781265258789,
       "initial": 0,
       "n": 0,
       "ncols": null,
       "nrows": 35,
       "postfix": null,
       "prefix": "",
       "rate": null,
       "total": 25,
       "unit": "it",
       "unit_divisor": 1000,
       "unit_scale": false
      },
      "application/vnd.jupyter.widget-view+json": {
       "model_id": "1fe34b3412714ef4be1619e5dca3daea",
       "version_major": 2,
       "version_minor": 0
      },
      "text/plain": [
       "  0%|          | 0/25 [00:00<?, ?it/s]"
      ]
     },
     "metadata": {},
     "output_type": "display_data"
    },
    {
     "name": "stderr",
     "output_type": "stream",
     "text": [
      "K sampler with euler: 300it [00:03, 97.63it/s]                                                                                                                                                                                                                                \n",
      "Global seed set to 23434523\n",
      "K sampler with euler:   0%|                                                                                                                                                                                                                            | 0/25 [00:00<?, ?it/s]"
     ]
    },
    {
     "data": {
      "application/json": {
       "ascii": false,
       "bar_format": null,
       "colour": null,
       "elapsed": 0.01588153839111328,
       "initial": 0,
       "n": 0,
       "ncols": null,
       "nrows": 35,
       "postfix": null,
       "prefix": "",
       "rate": null,
       "total": 25,
       "unit": "it",
       "unit_divisor": 1000,
       "unit_scale": false
      },
      "application/vnd.jupyter.widget-view+json": {
       "model_id": "972b8a91ac34456b82fc5e3c1fcb181e",
       "version_major": 2,
       "version_minor": 0
      },
      "text/plain": [
       "  0%|          | 0/25 [00:00<?, ?it/s]"
      ]
     },
     "metadata": {},
     "output_type": "display_data"
    },
    {
     "name": "stderr",
     "output_type": "stream",
     "text": [
      "K sampler with euler: 300it [00:02, 104.74it/s]                                                                                                                                                                                                                               \n",
      "Global seed set to 23434523\n",
      "K sampler with euler:   0%|                                                                                                                                                                                                                            | 0/25 [00:00<?, ?it/s]"
     ]
    },
    {
     "data": {
      "application/json": {
       "ascii": false,
       "bar_format": null,
       "colour": null,
       "elapsed": 0.01519322395324707,
       "initial": 0,
       "n": 0,
       "ncols": null,
       "nrows": 35,
       "postfix": null,
       "prefix": "",
       "rate": null,
       "total": 25,
       "unit": "it",
       "unit_divisor": 1000,
       "unit_scale": false
      },
      "application/vnd.jupyter.widget-view+json": {
       "model_id": "4986db49912e4f0782628a7bf1f7a984",
       "version_major": 2,
       "version_minor": 0
      },
      "text/plain": [
       "  0%|          | 0/25 [00:00<?, ?it/s]"
      ]
     },
     "metadata": {},
     "output_type": "display_data"
    },
    {
     "name": "stderr",
     "output_type": "stream",
     "text": [
      "K sampler with euler: 300it [00:02, 100.48it/s]                                                                                                                                                                                                                               \n",
      "Global seed set to 23434523\n",
      "K sampler with euler:   0%|                                                                                                                                                                                                                            | 0/25 [00:00<?, ?it/s]"
     ]
    },
    {
     "data": {
      "application/json": {
       "ascii": false,
       "bar_format": null,
       "colour": null,
       "elapsed": 0.013873100280761719,
       "initial": 0,
       "n": 0,
       "ncols": null,
       "nrows": 35,
       "postfix": null,
       "prefix": "",
       "rate": null,
       "total": 25,
       "unit": "it",
       "unit_divisor": 1000,
       "unit_scale": false
      },
      "application/vnd.jupyter.widget-view+json": {
       "model_id": "a851ce4815154076a51fdaf133a66bef",
       "version_major": 2,
       "version_minor": 0
      },
      "text/plain": [
       "  0%|          | 0/25 [00:00<?, ?it/s]"
      ]
     },
     "metadata": {},
     "output_type": "display_data"
    },
    {
     "name": "stderr",
     "output_type": "stream",
     "text": [
      "K sampler with euler: 300it [00:03, 98.45it/s]                                                                                                                                                                                                                                \n",
      "Global seed set to 23434523\n",
      "K sampler with euler:   0%|                                                                                                                                                                                                                            | 0/25 [00:00<?, ?it/s]"
     ]
    },
    {
     "data": {
      "application/json": {
       "ascii": false,
       "bar_format": null,
       "colour": null,
       "elapsed": 0.013973236083984375,
       "initial": 0,
       "n": 0,
       "ncols": null,
       "nrows": 35,
       "postfix": null,
       "prefix": "",
       "rate": null,
       "total": 25,
       "unit": "it",
       "unit_divisor": 1000,
       "unit_scale": false
      },
      "application/vnd.jupyter.widget-view+json": {
       "model_id": "cf3d6f30c67f4a56b7e0f30704e883ee",
       "version_major": 2,
       "version_minor": 0
      },
      "text/plain": [
       "  0%|          | 0/25 [00:00<?, ?it/s]"
      ]
     },
     "metadata": {},
     "output_type": "display_data"
    },
    {
     "name": "stderr",
     "output_type": "stream",
     "text": [
      "K sampler with euler: 300it [00:02, 101.61it/s]                                                                                                                                                                                                                               \n",
      "Global seed set to 23434523\n",
      "K sampler with euler:   0%|                                                                                                                                                                                                                            | 0/25 [00:00<?, ?it/s]"
     ]
    },
    {
     "data": {
      "application/json": {
       "ascii": false,
       "bar_format": null,
       "colour": null,
       "elapsed": 0.014807939529418945,
       "initial": 0,
       "n": 0,
       "ncols": null,
       "nrows": 35,
       "postfix": null,
       "prefix": "",
       "rate": null,
       "total": 25,
       "unit": "it",
       "unit_divisor": 1000,
       "unit_scale": false
      },
      "application/vnd.jupyter.widget-view+json": {
       "model_id": "c9769248931f4a57b05d6222622ea9d3",
       "version_major": 2,
       "version_minor": 0
      },
      "text/plain": [
       "  0%|          | 0/25 [00:00<?, ?it/s]"
      ]
     },
     "metadata": {},
     "output_type": "display_data"
    },
    {
     "name": "stderr",
     "output_type": "stream",
     "text": [
      "K sampler with euler: 300it [00:03, 83.86it/s]                                                                                                                                                                                                                                \n",
      "Global seed set to 23434523\n",
      "K sampler with euler:   0%|                                                                                                                                                                                                                            | 0/25 [00:00<?, ?it/s]"
     ]
    },
    {
     "data": {
      "application/json": {
       "ascii": false,
       "bar_format": null,
       "colour": null,
       "elapsed": 0.013443470001220703,
       "initial": 0,
       "n": 0,
       "ncols": null,
       "nrows": 35,
       "postfix": null,
       "prefix": "",
       "rate": null,
       "total": 25,
       "unit": "it",
       "unit_divisor": 1000,
       "unit_scale": false
      },
      "application/vnd.jupyter.widget-view+json": {
       "model_id": "90e9ae00b1904c42bdbdcdd0f6d0a063",
       "version_major": 2,
       "version_minor": 0
      },
      "text/plain": [
       "  0%|          | 0/25 [00:00<?, ?it/s]"
      ]
     },
     "metadata": {},
     "output_type": "display_data"
    },
    {
     "name": "stderr",
     "output_type": "stream",
     "text": [
      "K sampler with euler: 300it [00:03, 81.21it/s]                                                                                                                                                                                                                                \n",
      "Global seed set to 23434523\n",
      "K sampler with euler:   0%|                                                                                                                                                                                                                            | 0/25 [00:00<?, ?it/s]"
     ]
    },
    {
     "data": {
      "application/json": {
       "ascii": false,
       "bar_format": null,
       "colour": null,
       "elapsed": 0.013834238052368164,
       "initial": 0,
       "n": 0,
       "ncols": null,
       "nrows": 35,
       "postfix": null,
       "prefix": "",
       "rate": null,
       "total": 25,
       "unit": "it",
       "unit_divisor": 1000,
       "unit_scale": false
      },
      "application/vnd.jupyter.widget-view+json": {
       "model_id": "c5fa5787665946be97478d03fca49553",
       "version_major": 2,
       "version_minor": 0
      },
      "text/plain": [
       "  0%|          | 0/25 [00:00<?, ?it/s]"
      ]
     },
     "metadata": {},
     "output_type": "display_data"
    },
    {
     "name": "stderr",
     "output_type": "stream",
     "text": [
      "K sampler with euler: 300it [00:02, 104.83it/s]                                                                                                                                                                                                                               \n",
      "Global seed set to 23434523\n",
      "K sampler with euler:   0%|                                                                                                                                                                                                                            | 0/25 [00:00<?, ?it/s]"
     ]
    },
    {
     "data": {
      "application/json": {
       "ascii": false,
       "bar_format": null,
       "colour": null,
       "elapsed": 0.014750480651855469,
       "initial": 0,
       "n": 0,
       "ncols": null,
       "nrows": 35,
       "postfix": null,
       "prefix": "",
       "rate": null,
       "total": 25,
       "unit": "it",
       "unit_divisor": 1000,
       "unit_scale": false
      },
      "application/vnd.jupyter.widget-view+json": {
       "model_id": "8998bd9911034a15ad06431ad8d16869",
       "version_major": 2,
       "version_minor": 0
      },
      "text/plain": [
       "  0%|          | 0/25 [00:00<?, ?it/s]"
      ]
     },
     "metadata": {},
     "output_type": "display_data"
    },
    {
     "name": "stderr",
     "output_type": "stream",
     "text": [
      "K sampler with euler: 300it [00:03, 93.54it/s]                                                                                                                                                                                                                                \n",
      "Global seed set to 23434523\n",
      "K sampler with euler:   0%|                                                                                                                                                                                                                            | 0/25 [00:00<?, ?it/s]"
     ]
    },
    {
     "data": {
      "application/json": {
       "ascii": false,
       "bar_format": null,
       "colour": null,
       "elapsed": 0.013556718826293945,
       "initial": 0,
       "n": 0,
       "ncols": null,
       "nrows": 35,
       "postfix": null,
       "prefix": "",
       "rate": null,
       "total": 25,
       "unit": "it",
       "unit_divisor": 1000,
       "unit_scale": false
      },
      "application/vnd.jupyter.widget-view+json": {
       "model_id": "9b1053ee57524cacb4a25adf5d1972b2",
       "version_major": 2,
       "version_minor": 0
      },
      "text/plain": [
       "  0%|          | 0/25 [00:00<?, ?it/s]"
      ]
     },
     "metadata": {},
     "output_type": "display_data"
    },
    {
     "name": "stderr",
     "output_type": "stream",
     "text": [
      "K sampler with euler: 300it [00:03, 99.70it/s]                                                                                                                                                                                                                                \n",
      "Global seed set to 23434523\n",
      "K sampler with euler:   0%|                                                                                                                                                                                                                            | 0/25 [00:00<?, ?it/s]"
     ]
    },
    {
     "data": {
      "application/json": {
       "ascii": false,
       "bar_format": null,
       "colour": null,
       "elapsed": 0.01446390151977539,
       "initial": 0,
       "n": 0,
       "ncols": null,
       "nrows": 35,
       "postfix": null,
       "prefix": "",
       "rate": null,
       "total": 25,
       "unit": "it",
       "unit_divisor": 1000,
       "unit_scale": false
      },
      "application/vnd.jupyter.widget-view+json": {
       "model_id": "308389eeabc844e3a94be99cc45fe2db",
       "version_major": 2,
       "version_minor": 0
      },
      "text/plain": [
       "  0%|          | 0/25 [00:00<?, ?it/s]"
      ]
     },
     "metadata": {},
     "output_type": "display_data"
    },
    {
     "name": "stderr",
     "output_type": "stream",
     "text": [
      "K sampler with euler: 300it [00:03, 98.34it/s]                                                                                                                                                                                                                                \n",
      "Global seed set to 23434523\n",
      "K sampler with euler:   0%|                                                                                                                                                                                                                            | 0/25 [00:00<?, ?it/s]"
     ]
    },
    {
     "data": {
      "application/json": {
       "ascii": false,
       "bar_format": null,
       "colour": null,
       "elapsed": 0.014210700988769531,
       "initial": 0,
       "n": 0,
       "ncols": null,
       "nrows": 35,
       "postfix": null,
       "prefix": "",
       "rate": null,
       "total": 25,
       "unit": "it",
       "unit_divisor": 1000,
       "unit_scale": false
      },
      "application/vnd.jupyter.widget-view+json": {
       "model_id": "4fbc327297b74f00abcc443b82b1ab50",
       "version_major": 2,
       "version_minor": 0
      },
      "text/plain": [
       "  0%|          | 0/25 [00:00<?, ?it/s]"
      ]
     },
     "metadata": {},
     "output_type": "display_data"
    },
    {
     "name": "stderr",
     "output_type": "stream",
     "text": [
      "K sampler with euler: 300it [00:03, 87.33it/s]                                                                                                                                                                                                                                \n",
      "Global seed set to 23434523\n",
      "K sampler with euler:   0%|                                                                                                                                                                                                                            | 0/25 [00:00<?, ?it/s]"
     ]
    },
    {
     "data": {
      "application/json": {
       "ascii": false,
       "bar_format": null,
       "colour": null,
       "elapsed": 0.014115333557128906,
       "initial": 0,
       "n": 0,
       "ncols": null,
       "nrows": 35,
       "postfix": null,
       "prefix": "",
       "rate": null,
       "total": 25,
       "unit": "it",
       "unit_divisor": 1000,
       "unit_scale": false
      },
      "application/vnd.jupyter.widget-view+json": {
       "model_id": "a4dea7016498459699deac7b5e8a29d4",
       "version_major": 2,
       "version_minor": 0
      },
      "text/plain": [
       "  0%|          | 0/25 [00:00<?, ?it/s]"
      ]
     },
     "metadata": {},
     "output_type": "display_data"
    },
    {
     "name": "stderr",
     "output_type": "stream",
     "text": [
      "K sampler with euler: 300it [00:03, 77.64it/s]                                                                                                                                                                                                                                \n",
      "Global seed set to 23434523\n",
      "K sampler with euler:   0%|                                                                                                                                                                                                                            | 0/25 [00:00<?, ?it/s]"
     ]
    },
    {
     "data": {
      "application/json": {
       "ascii": false,
       "bar_format": null,
       "colour": null,
       "elapsed": 0.015400171279907227,
       "initial": 0,
       "n": 0,
       "ncols": null,
       "nrows": 35,
       "postfix": null,
       "prefix": "",
       "rate": null,
       "total": 25,
       "unit": "it",
       "unit_divisor": 1000,
       "unit_scale": false
      },
      "application/vnd.jupyter.widget-view+json": {
       "model_id": "174cff49f73d43bd843b64bbf5baf048",
       "version_major": 2,
       "version_minor": 0
      },
      "text/plain": [
       "  0%|          | 0/25 [00:00<?, ?it/s]"
      ]
     },
     "metadata": {},
     "output_type": "display_data"
    },
    {
     "name": "stderr",
     "output_type": "stream",
     "text": [
      "K sampler with euler: 300it [00:02, 101.92it/s]                                                                                                                                                                                                                               \n",
      "Global seed set to 23434523\n",
      "K sampler with euler:   0%|                                                                                                                                                                                                                            | 0/25 [00:00<?, ?it/s]"
     ]
    },
    {
     "data": {
      "application/json": {
       "ascii": false,
       "bar_format": null,
       "colour": null,
       "elapsed": 0.014606952667236328,
       "initial": 0,
       "n": 0,
       "ncols": null,
       "nrows": 35,
       "postfix": null,
       "prefix": "",
       "rate": null,
       "total": 25,
       "unit": "it",
       "unit_divisor": 1000,
       "unit_scale": false
      },
      "application/vnd.jupyter.widget-view+json": {
       "model_id": "d9911c369f9d4e1ba67c089ac7944223",
       "version_major": 2,
       "version_minor": 0
      },
      "text/plain": [
       "  0%|          | 0/25 [00:00<?, ?it/s]"
      ]
     },
     "metadata": {},
     "output_type": "display_data"
    },
    {
     "name": "stderr",
     "output_type": "stream",
     "text": [
      "K sampler with euler: 300it [00:03, 99.32it/s]                                                                                                                                                                                                                                \n",
      "Global seed set to 23434523\n",
      "K sampler with euler:   0%|                                                                                                                                                                                                                            | 0/25 [00:00<?, ?it/s]"
     ]
    },
    {
     "data": {
      "application/json": {
       "ascii": false,
       "bar_format": null,
       "colour": null,
       "elapsed": 0.013754606246948242,
       "initial": 0,
       "n": 0,
       "ncols": null,
       "nrows": 35,
       "postfix": null,
       "prefix": "",
       "rate": null,
       "total": 25,
       "unit": "it",
       "unit_divisor": 1000,
       "unit_scale": false
      },
      "application/vnd.jupyter.widget-view+json": {
       "model_id": "7d8f0c1e2ecc46379268c226ef87242b",
       "version_major": 2,
       "version_minor": 0
      },
      "text/plain": [
       "  0%|          | 0/25 [00:00<?, ?it/s]"
      ]
     },
     "metadata": {},
     "output_type": "display_data"
    },
    {
     "name": "stderr",
     "output_type": "stream",
     "text": [
      "K sampler with euler: 300it [00:03, 81.67it/s]                                                                                                                                                                                                                                \n",
      "Global seed set to 23434523\n",
      "K sampler with euler:   0%|                                                                                                                                                                                                                            | 0/25 [00:00<?, ?it/s]"
     ]
    },
    {
     "data": {
      "application/json": {
       "ascii": false,
       "bar_format": null,
       "colour": null,
       "elapsed": 0.014873027801513672,
       "initial": 0,
       "n": 0,
       "ncols": null,
       "nrows": 35,
       "postfix": null,
       "prefix": "",
       "rate": null,
       "total": 25,
       "unit": "it",
       "unit_divisor": 1000,
       "unit_scale": false
      },
      "application/vnd.jupyter.widget-view+json": {
       "model_id": "06b2c9835b6d41e0b9960b508cbcd99e",
       "version_major": 2,
       "version_minor": 0
      },
      "text/plain": [
       "  0%|          | 0/25 [00:00<?, ?it/s]"
      ]
     },
     "metadata": {},
     "output_type": "display_data"
    },
    {
     "name": "stderr",
     "output_type": "stream",
     "text": [
      "K sampler with euler: 300it [00:03, 98.35it/s]                                                                                                                                                                                                                                \n",
      "Global seed set to 23434523\n",
      "K sampler with euler:   0%|                                                                                                                                                                                                                            | 0/25 [00:00<?, ?it/s]"
     ]
    },
    {
     "data": {
      "application/json": {
       "ascii": false,
       "bar_format": null,
       "colour": null,
       "elapsed": 0.015326976776123047,
       "initial": 0,
       "n": 0,
       "ncols": null,
       "nrows": 35,
       "postfix": null,
       "prefix": "",
       "rate": null,
       "total": 25,
       "unit": "it",
       "unit_divisor": 1000,
       "unit_scale": false
      },
      "application/vnd.jupyter.widget-view+json": {
       "model_id": "89b5790360a440aa864d5c210b594f65",
       "version_major": 2,
       "version_minor": 0
      },
      "text/plain": [
       "  0%|          | 0/25 [00:00<?, ?it/s]"
      ]
     },
     "metadata": {},
     "output_type": "display_data"
    },
    {
     "name": "stderr",
     "output_type": "stream",
     "text": [
      "K sampler with euler: 300it [00:03, 98.32it/s]                                                                                                                                                                                                                                \n",
      "Global seed set to 23434523\n",
      "K sampler with euler:   0%|                                                                                                                                                                                                                            | 0/25 [00:00<?, ?it/s]"
     ]
    },
    {
     "data": {
      "application/json": {
       "ascii": false,
       "bar_format": null,
       "colour": null,
       "elapsed": 0.013840436935424805,
       "initial": 0,
       "n": 0,
       "ncols": null,
       "nrows": 35,
       "postfix": null,
       "prefix": "",
       "rate": null,
       "total": 25,
       "unit": "it",
       "unit_divisor": 1000,
       "unit_scale": false
      },
      "application/vnd.jupyter.widget-view+json": {
       "model_id": "ba0320a1504d4ebbbcb1fe844816615c",
       "version_major": 2,
       "version_minor": 0
      },
      "text/plain": [
       "  0%|          | 0/25 [00:00<?, ?it/s]"
      ]
     },
     "metadata": {},
     "output_type": "display_data"
    },
    {
     "name": "stderr",
     "output_type": "stream",
     "text": [
      "K sampler with euler: 300it [00:03, 77.29it/s]                                                                                                                                                                                                                                \n",
      "Global seed set to 23434523\n",
      "K sampler with euler:   0%|                                                                                                                                                                                                                            | 0/25 [00:00<?, ?it/s]"
     ]
    },
    {
     "data": {
      "application/json": {
       "ascii": false,
       "bar_format": null,
       "colour": null,
       "elapsed": 0.014805793762207031,
       "initial": 0,
       "n": 0,
       "ncols": null,
       "nrows": 35,
       "postfix": null,
       "prefix": "",
       "rate": null,
       "total": 25,
       "unit": "it",
       "unit_divisor": 1000,
       "unit_scale": false
      },
      "application/vnd.jupyter.widget-view+json": {
       "model_id": "cc477367383a481b9bf971a5fb712b74",
       "version_major": 2,
       "version_minor": 0
      },
      "text/plain": [
       "  0%|          | 0/25 [00:00<?, ?it/s]"
      ]
     },
     "metadata": {},
     "output_type": "display_data"
    },
    {
     "name": "stderr",
     "output_type": "stream",
     "text": [
      "K sampler with euler: 300it [00:02, 103.56it/s]                                                                                                                                                                                                                               \n",
      "Global seed set to 23434523\n",
      "K sampler with euler:   0%|                                                                                                                                                                                                                            | 0/25 [00:00<?, ?it/s]"
     ]
    },
    {
     "data": {
      "application/json": {
       "ascii": false,
       "bar_format": null,
       "colour": null,
       "elapsed": 0.01430368423461914,
       "initial": 0,
       "n": 0,
       "ncols": null,
       "nrows": 35,
       "postfix": null,
       "prefix": "",
       "rate": null,
       "total": 25,
       "unit": "it",
       "unit_divisor": 1000,
       "unit_scale": false
      },
      "application/vnd.jupyter.widget-view+json": {
       "model_id": "d1b4c3463c8a4c36833244fb09b412ab",
       "version_major": 2,
       "version_minor": 0
      },
      "text/plain": [
       "  0%|          | 0/25 [00:00<?, ?it/s]"
      ]
     },
     "metadata": {},
     "output_type": "display_data"
    },
    {
     "name": "stderr",
     "output_type": "stream",
     "text": [
      "K sampler with euler: 300it [00:03, 99.78it/s]                                                                                                                                                                                                                                \n",
      "Global seed set to 23434523\n",
      "K sampler with euler:   0%|                                                                                                                                                                                                                            | 0/25 [00:00<?, ?it/s]"
     ]
    },
    {
     "data": {
      "application/json": {
       "ascii": false,
       "bar_format": null,
       "colour": null,
       "elapsed": 0.01596975326538086,
       "initial": 0,
       "n": 0,
       "ncols": null,
       "nrows": 35,
       "postfix": null,
       "prefix": "",
       "rate": null,
       "total": 25,
       "unit": "it",
       "unit_divisor": 1000,
       "unit_scale": false
      },
      "application/vnd.jupyter.widget-view+json": {
       "model_id": "14f09fadaf7547908c25963110c29caa",
       "version_major": 2,
       "version_minor": 0
      },
      "text/plain": [
       "  0%|          | 0/25 [00:00<?, ?it/s]"
      ]
     },
     "metadata": {},
     "output_type": "display_data"
    },
    {
     "name": "stderr",
     "output_type": "stream",
     "text": [
      "K sampler with euler: 300it [00:03, 88.48it/s]                                                                                                                                                                                                                                \n",
      "Global seed set to 23434523\n",
      "K sampler with euler:   0%|                                                                                                                                                                                                                            | 0/25 [00:00<?, ?it/s]"
     ]
    },
    {
     "data": {
      "application/json": {
       "ascii": false,
       "bar_format": null,
       "colour": null,
       "elapsed": 0.013080120086669922,
       "initial": 0,
       "n": 0,
       "ncols": null,
       "nrows": 35,
       "postfix": null,
       "prefix": "",
       "rate": null,
       "total": 25,
       "unit": "it",
       "unit_divisor": 1000,
       "unit_scale": false
      },
      "application/vnd.jupyter.widget-view+json": {
       "model_id": "b3259b996f7a46ffa29544c59366621b",
       "version_major": 2,
       "version_minor": 0
      },
      "text/plain": [
       "  0%|          | 0/25 [00:00<?, ?it/s]"
      ]
     },
     "metadata": {},
     "output_type": "display_data"
    },
    {
     "name": "stderr",
     "output_type": "stream",
     "text": [
      "K sampler with euler: 300it [00:03, 95.43it/s]                                                                                                                                                                                                                                \n",
      "Global seed set to 23434523\n",
      "K sampler with euler:   0%|                                                                                                                                                                                                                            | 0/25 [00:00<?, ?it/s]"
     ]
    },
    {
     "data": {
      "application/json": {
       "ascii": false,
       "bar_format": null,
       "colour": null,
       "elapsed": 0.015393972396850586,
       "initial": 0,
       "n": 0,
       "ncols": null,
       "nrows": 35,
       "postfix": null,
       "prefix": "",
       "rate": null,
       "total": 25,
       "unit": "it",
       "unit_divisor": 1000,
       "unit_scale": false
      },
      "application/vnd.jupyter.widget-view+json": {
       "model_id": "c27639b0683d483ba4fa1c7b82e7abfc",
       "version_major": 2,
       "version_minor": 0
      },
      "text/plain": [
       "  0%|          | 0/25 [00:00<?, ?it/s]"
      ]
     },
     "metadata": {},
     "output_type": "display_data"
    },
    {
     "name": "stderr",
     "output_type": "stream",
     "text": [
      "K sampler with euler: 300it [00:03, 98.37it/s]                                                                                                                                                                                                                                \n",
      "Global seed set to 23434523\n",
      "K sampler with euler:   0%|                                                                                                                                                                                                                            | 0/25 [00:00<?, ?it/s]"
     ]
    },
    {
     "data": {
      "application/json": {
       "ascii": false,
       "bar_format": null,
       "colour": null,
       "elapsed": 0.01609182357788086,
       "initial": 0,
       "n": 0,
       "ncols": null,
       "nrows": 35,
       "postfix": null,
       "prefix": "",
       "rate": null,
       "total": 25,
       "unit": "it",
       "unit_divisor": 1000,
       "unit_scale": false
      },
      "application/vnd.jupyter.widget-view+json": {
       "model_id": "e032d65520d44be194a6d6c3aa883788",
       "version_major": 2,
       "version_minor": 0
      },
      "text/plain": [
       "  0%|          | 0/25 [00:00<?, ?it/s]"
      ]
     },
     "metadata": {},
     "output_type": "display_data"
    },
    {
     "name": "stderr",
     "output_type": "stream",
     "text": [
      "K sampler with euler: 300it [00:03, 76.46it/s]                                                                                                                                                                                                                                \n",
      "Global seed set to 23434523\n",
      "K sampler with euler:   0%|                                                                                                                                                                                                                            | 0/25 [00:00<?, ?it/s]"
     ]
    },
    {
     "data": {
      "application/json": {
       "ascii": false,
       "bar_format": null,
       "colour": null,
       "elapsed": 0.01479196548461914,
       "initial": 0,
       "n": 0,
       "ncols": null,
       "nrows": 35,
       "postfix": null,
       "prefix": "",
       "rate": null,
       "total": 25,
       "unit": "it",
       "unit_divisor": 1000,
       "unit_scale": false
      },
      "application/vnd.jupyter.widget-view+json": {
       "model_id": "5e486af245004991814de58ffefe0bfe",
       "version_major": 2,
       "version_minor": 0
      },
      "text/plain": [
       "  0%|          | 0/25 [00:00<?, ?it/s]"
      ]
     },
     "metadata": {},
     "output_type": "display_data"
    },
    {
     "name": "stderr",
     "output_type": "stream",
     "text": [
      "K sampler with euler: 300it [00:03, 96.75it/s]                                                                                                                                                                                                                                \n",
      "Global seed set to 23434523\n",
      "K sampler with euler:   0%|                                                                                                                                                                                                                            | 0/25 [00:00<?, ?it/s]"
     ]
    },
    {
     "data": {
      "application/json": {
       "ascii": false,
       "bar_format": null,
       "colour": null,
       "elapsed": 0.01423192024230957,
       "initial": 0,
       "n": 0,
       "ncols": null,
       "nrows": 35,
       "postfix": null,
       "prefix": "",
       "rate": null,
       "total": 25,
       "unit": "it",
       "unit_divisor": 1000,
       "unit_scale": false
      },
      "application/vnd.jupyter.widget-view+json": {
       "model_id": "880a5d1fbb6a4777a8ce2e836355a9cf",
       "version_major": 2,
       "version_minor": 0
      },
      "text/plain": [
       "  0%|          | 0/25 [00:00<?, ?it/s]"
      ]
     },
     "metadata": {},
     "output_type": "display_data"
    },
    {
     "name": "stderr",
     "output_type": "stream",
     "text": [
      "K sampler with euler: 300it [00:03, 95.09it/s]                                                                                                                                                                                                                                \n",
      "Global seed set to 23434523\n",
      "K sampler with euler:   0%|                                                                                                                                                                                                                            | 0/25 [00:00<?, ?it/s]"
     ]
    },
    {
     "data": {
      "application/json": {
       "ascii": false,
       "bar_format": null,
       "colour": null,
       "elapsed": 0.013851642608642578,
       "initial": 0,
       "n": 0,
       "ncols": null,
       "nrows": 35,
       "postfix": null,
       "prefix": "",
       "rate": null,
       "total": 25,
       "unit": "it",
       "unit_divisor": 1000,
       "unit_scale": false
      },
      "application/vnd.jupyter.widget-view+json": {
       "model_id": "32318d07d9ba4a758fa66d9941473866",
       "version_major": 2,
       "version_minor": 0
      },
      "text/plain": [
       "  0%|          | 0/25 [00:00<?, ?it/s]"
      ]
     },
     "metadata": {},
     "output_type": "display_data"
    },
    {
     "name": "stderr",
     "output_type": "stream",
     "text": [
      "K sampler with euler: 300it [00:03, 79.61it/s]                                                                                                                                                                                                                                \n",
      "Global seed set to 23434523\n",
      "K sampler with euler:   0%|                                                                                                                                                                                                                            | 0/25 [00:00<?, ?it/s]"
     ]
    },
    {
     "data": {
      "application/json": {
       "ascii": false,
       "bar_format": null,
       "colour": null,
       "elapsed": 0.013422727584838867,
       "initial": 0,
       "n": 0,
       "ncols": null,
       "nrows": 35,
       "postfix": null,
       "prefix": "",
       "rate": null,
       "total": 25,
       "unit": "it",
       "unit_divisor": 1000,
       "unit_scale": false
      },
      "application/vnd.jupyter.widget-view+json": {
       "model_id": "47d78def330547fa95a83b69abfb1c1f",
       "version_major": 2,
       "version_minor": 0
      },
      "text/plain": [
       "  0%|          | 0/25 [00:00<?, ?it/s]"
      ]
     },
     "metadata": {},
     "output_type": "display_data"
    },
    {
     "name": "stderr",
     "output_type": "stream",
     "text": [
      "K sampler with euler: 300it [00:03, 94.54it/s]                                                                                                                                                                                                                                \n",
      "Global seed set to 23434523\n",
      "K sampler with euler:   0%|                                                                                                                                                                                                                            | 0/25 [00:00<?, ?it/s]"
     ]
    },
    {
     "data": {
      "application/json": {
       "ascii": false,
       "bar_format": null,
       "colour": null,
       "elapsed": 0.014626026153564453,
       "initial": 0,
       "n": 0,
       "ncols": null,
       "nrows": 35,
       "postfix": null,
       "prefix": "",
       "rate": null,
       "total": 25,
       "unit": "it",
       "unit_divisor": 1000,
       "unit_scale": false
      },
      "application/vnd.jupyter.widget-view+json": {
       "model_id": "6a6f37eb51eb46fbab3f013976eb3ffa",
       "version_major": 2,
       "version_minor": 0
      },
      "text/plain": [
       "  0%|          | 0/25 [00:00<?, ?it/s]"
      ]
     },
     "metadata": {},
     "output_type": "display_data"
    },
    {
     "name": "stderr",
     "output_type": "stream",
     "text": [
      "K sampler with euler: 300it [00:03, 92.12it/s]                                                                                                                                                                                                                                \n",
      "Global seed set to 23434523\n",
      "K sampler with euler:   0%|                                                                                                                                                                                                                            | 0/25 [00:00<?, ?it/s]"
     ]
    },
    {
     "data": {
      "application/json": {
       "ascii": false,
       "bar_format": null,
       "colour": null,
       "elapsed": 0.013895511627197266,
       "initial": 0,
       "n": 0,
       "ncols": null,
       "nrows": 35,
       "postfix": null,
       "prefix": "",
       "rate": null,
       "total": 25,
       "unit": "it",
       "unit_divisor": 1000,
       "unit_scale": false
      },
      "application/vnd.jupyter.widget-view+json": {
       "model_id": "13d2f98e768348ce9f3ef7bf2ed05378",
       "version_major": 2,
       "version_minor": 0
      },
      "text/plain": [
       "  0%|          | 0/25 [00:00<?, ?it/s]"
      ]
     },
     "metadata": {},
     "output_type": "display_data"
    },
    {
     "name": "stderr",
     "output_type": "stream",
     "text": [
      "K sampler with euler: 300it [00:04, 71.60it/s]                                                                                                                                                                                                                                \n",
      "Global seed set to 23434523\n",
      "K sampler with euler:   0%|                                                                                                                                                                                                                            | 0/25 [00:00<?, ?it/s]"
     ]
    },
    {
     "data": {
      "application/json": {
       "ascii": false,
       "bar_format": null,
       "colour": null,
       "elapsed": 0.013939619064331055,
       "initial": 0,
       "n": 0,
       "ncols": null,
       "nrows": 35,
       "postfix": null,
       "prefix": "",
       "rate": null,
       "total": 25,
       "unit": "it",
       "unit_divisor": 1000,
       "unit_scale": false
      },
      "application/vnd.jupyter.widget-view+json": {
       "model_id": "436e901c7a614f7a85f52a2bad88a640",
       "version_major": 2,
       "version_minor": 0
      },
      "text/plain": [
       "  0%|          | 0/25 [00:00<?, ?it/s]"
      ]
     },
     "metadata": {},
     "output_type": "display_data"
    },
    {
     "name": "stderr",
     "output_type": "stream",
     "text": [
      "K sampler with euler: 300it [00:03, 91.52it/s]                                                                                                                                                                                                                                \n",
      "Global seed set to 23434523\n",
      "K sampler with euler:   0%|                                                                                                                                                                                                                            | 0/25 [00:00<?, ?it/s]"
     ]
    },
    {
     "data": {
      "application/json": {
       "ascii": false,
       "bar_format": null,
       "colour": null,
       "elapsed": 0.014132261276245117,
       "initial": 0,
       "n": 0,
       "ncols": null,
       "nrows": 35,
       "postfix": null,
       "prefix": "",
       "rate": null,
       "total": 25,
       "unit": "it",
       "unit_divisor": 1000,
       "unit_scale": false
      },
      "application/vnd.jupyter.widget-view+json": {
       "model_id": "965df7a27f3843eca727a32dbb719e40",
       "version_major": 2,
       "version_minor": 0
      },
      "text/plain": [
       "  0%|          | 0/25 [00:00<?, ?it/s]"
      ]
     },
     "metadata": {},
     "output_type": "display_data"
    },
    {
     "name": "stderr",
     "output_type": "stream",
     "text": [
      "K sampler with euler: 300it [00:02, 100.89it/s]                                                                                                                                                                                                                               \n",
      "Global seed set to 23434523\n",
      "K sampler with euler:   0%|                                                                                                                                                                                                                            | 0/25 [00:00<?, ?it/s]"
     ]
    },
    {
     "data": {
      "application/json": {
       "ascii": false,
       "bar_format": null,
       "colour": null,
       "elapsed": 0.014054536819458008,
       "initial": 0,
       "n": 0,
       "ncols": null,
       "nrows": 35,
       "postfix": null,
       "prefix": "",
       "rate": null,
       "total": 25,
       "unit": "it",
       "unit_divisor": 1000,
       "unit_scale": false
      },
      "application/vnd.jupyter.widget-view+json": {
       "model_id": "55e4313c222b43c5896377944af821a7",
       "version_major": 2,
       "version_minor": 0
      },
      "text/plain": [
       "  0%|          | 0/25 [00:00<?, ?it/s]"
      ]
     },
     "metadata": {},
     "output_type": "display_data"
    },
    {
     "name": "stderr",
     "output_type": "stream",
     "text": [
      "K sampler with euler: 300it [00:03, 98.19it/s]                                                                                                                                                                                                                                \n",
      "Global seed set to 23434523\n",
      "K sampler with euler:   0%|                                                                                                                                                                                                                            | 0/25 [00:00<?, ?it/s]"
     ]
    },
    {
     "data": {
      "application/json": {
       "ascii": false,
       "bar_format": null,
       "colour": null,
       "elapsed": 0.013486385345458984,
       "initial": 0,
       "n": 0,
       "ncols": null,
       "nrows": 35,
       "postfix": null,
       "prefix": "",
       "rate": null,
       "total": 25,
       "unit": "it",
       "unit_divisor": 1000,
       "unit_scale": false
      },
      "application/vnd.jupyter.widget-view+json": {
       "model_id": "89bb7b87beac44f394489382f7f6dde8",
       "version_major": 2,
       "version_minor": 0
      },
      "text/plain": [
       "  0%|          | 0/25 [00:00<?, ?it/s]"
      ]
     },
     "metadata": {},
     "output_type": "display_data"
    },
    {
     "name": "stderr",
     "output_type": "stream",
     "text": [
      "K sampler with euler: 300it [00:02, 100.43it/s]                                                                                                                                                                                                                               \n",
      "Global seed set to 23434523\n",
      "K sampler with euler:   0%|                                                                                                                                                                                                                            | 0/25 [00:00<?, ?it/s]"
     ]
    },
    {
     "data": {
      "application/json": {
       "ascii": false,
       "bar_format": null,
       "colour": null,
       "elapsed": 0.01471400260925293,
       "initial": 0,
       "n": 0,
       "ncols": null,
       "nrows": 35,
       "postfix": null,
       "prefix": "",
       "rate": null,
       "total": 25,
       "unit": "it",
       "unit_divisor": 1000,
       "unit_scale": false
      },
      "application/vnd.jupyter.widget-view+json": {
       "model_id": "5ddca0acfbf3429db4d9fd332414c1e1",
       "version_major": 2,
       "version_minor": 0
      },
      "text/plain": [
       "  0%|          | 0/25 [00:00<?, ?it/s]"
      ]
     },
     "metadata": {},
     "output_type": "display_data"
    },
    {
     "name": "stderr",
     "output_type": "stream",
     "text": [
      "K sampler with euler: 300it [00:02, 102.06it/s]                                                                                                                                                                                                                               \n",
      "Global seed set to 23434523\n",
      "K sampler with euler:   0%|                                                                                                                                                                                                                            | 0/25 [00:00<?, ?it/s]"
     ]
    },
    {
     "data": {
      "application/json": {
       "ascii": false,
       "bar_format": null,
       "colour": null,
       "elapsed": 0.013857603073120117,
       "initial": 0,
       "n": 0,
       "ncols": null,
       "nrows": 35,
       "postfix": null,
       "prefix": "",
       "rate": null,
       "total": 25,
       "unit": "it",
       "unit_divisor": 1000,
       "unit_scale": false
      },
      "application/vnd.jupyter.widget-view+json": {
       "model_id": "292d0bc369fc443991160bfdeb833aa4",
       "version_major": 2,
       "version_minor": 0
      },
      "text/plain": [
       "  0%|          | 0/25 [00:00<?, ?it/s]"
      ]
     },
     "metadata": {},
     "output_type": "display_data"
    },
    {
     "name": "stderr",
     "output_type": "stream",
     "text": [
      "K sampler with euler: 300it [00:03, 85.29it/s]                                                                                                                                                                                                                                \n",
      "Global seed set to 23434523\n",
      "K sampler with euler:   0%|                                                                                                                                                                                                                            | 0/25 [00:00<?, ?it/s]"
     ]
    },
    {
     "data": {
      "application/json": {
       "ascii": false,
       "bar_format": null,
       "colour": null,
       "elapsed": 0.015421867370605469,
       "initial": 0,
       "n": 0,
       "ncols": null,
       "nrows": 35,
       "postfix": null,
       "prefix": "",
       "rate": null,
       "total": 25,
       "unit": "it",
       "unit_divisor": 1000,
       "unit_scale": false
      },
      "application/vnd.jupyter.widget-view+json": {
       "model_id": "5d556080fc024dc98415bd6247a1d6fa",
       "version_major": 2,
       "version_minor": 0
      },
      "text/plain": [
       "  0%|          | 0/25 [00:00<?, ?it/s]"
      ]
     },
     "metadata": {},
     "output_type": "display_data"
    },
    {
     "name": "stderr",
     "output_type": "stream",
     "text": [
      "K sampler with euler: 300it [00:03, 91.03it/s]                                                                                                                                                                                                                                \n",
      "Global seed set to 23434523\n",
      "K sampler with euler:   0%|                                                                                                                                                                                                                            | 0/25 [00:00<?, ?it/s]"
     ]
    },
    {
     "data": {
      "application/json": {
       "ascii": false,
       "bar_format": null,
       "colour": null,
       "elapsed": 0.01359248161315918,
       "initial": 0,
       "n": 0,
       "ncols": null,
       "nrows": 35,
       "postfix": null,
       "prefix": "",
       "rate": null,
       "total": 25,
       "unit": "it",
       "unit_divisor": 1000,
       "unit_scale": false
      },
      "application/vnd.jupyter.widget-view+json": {
       "model_id": "73c750c335854ebca549eb6c9952abec",
       "version_major": 2,
       "version_minor": 0
      },
      "text/plain": [
       "  0%|          | 0/25 [00:00<?, ?it/s]"
      ]
     },
     "metadata": {},
     "output_type": "display_data"
    },
    {
     "name": "stderr",
     "output_type": "stream",
     "text": [
      "K sampler with euler: 300it [00:02, 103.10it/s]                                                                                                                                                                                                                               \n",
      "Global seed set to 23434523\n",
      "K sampler with euler:   0%|                                                                                                                                                                                                                            | 0/25 [00:00<?, ?it/s]"
     ]
    },
    {
     "data": {
      "application/json": {
       "ascii": false,
       "bar_format": null,
       "colour": null,
       "elapsed": 0.013960123062133789,
       "initial": 0,
       "n": 0,
       "ncols": null,
       "nrows": 35,
       "postfix": null,
       "prefix": "",
       "rate": null,
       "total": 25,
       "unit": "it",
       "unit_divisor": 1000,
       "unit_scale": false
      },
      "application/vnd.jupyter.widget-view+json": {
       "model_id": "d5dcf469bb704403b273d7c383f33af4",
       "version_major": 2,
       "version_minor": 0
      },
      "text/plain": [
       "  0%|          | 0/25 [00:00<?, ?it/s]"
      ]
     },
     "metadata": {},
     "output_type": "display_data"
    },
    {
     "name": "stderr",
     "output_type": "stream",
     "text": [
      "K sampler with euler: 300it [00:03, 79.61it/s]                                                                                                                                                                                                                                \n",
      "Global seed set to 23434523\n",
      "K sampler with euler:   0%|                                                                                                                                                                                                                            | 0/25 [00:00<?, ?it/s]"
     ]
    },
    {
     "data": {
      "application/json": {
       "ascii": false,
       "bar_format": null,
       "colour": null,
       "elapsed": 0.016073226928710938,
       "initial": 0,
       "n": 0,
       "ncols": null,
       "nrows": 35,
       "postfix": null,
       "prefix": "",
       "rate": null,
       "total": 25,
       "unit": "it",
       "unit_divisor": 1000,
       "unit_scale": false
      },
      "application/vnd.jupyter.widget-view+json": {
       "model_id": "3e56b3df907c40a9ac0b6d8b5b2261d1",
       "version_major": 2,
       "version_minor": 0
      },
      "text/plain": [
       "  0%|          | 0/25 [00:00<?, ?it/s]"
      ]
     },
     "metadata": {},
     "output_type": "display_data"
    },
    {
     "name": "stderr",
     "output_type": "stream",
     "text": [
      "K sampler with euler: 300it [00:03, 92.12it/s]                                                                                                                                                                                                                                \n",
      "Global seed set to 23434523\n",
      "K sampler with euler:   0%|                                                                                                                                                                                                                            | 0/25 [00:00<?, ?it/s]"
     ]
    },
    {
     "data": {
      "application/json": {
       "ascii": false,
       "bar_format": null,
       "colour": null,
       "elapsed": 0.014055252075195312,
       "initial": 0,
       "n": 0,
       "ncols": null,
       "nrows": 35,
       "postfix": null,
       "prefix": "",
       "rate": null,
       "total": 25,
       "unit": "it",
       "unit_divisor": 1000,
       "unit_scale": false
      },
      "application/vnd.jupyter.widget-view+json": {
       "model_id": "846864aab40e495e892c027879928214",
       "version_major": 2,
       "version_minor": 0
      },
      "text/plain": [
       "  0%|          | 0/25 [00:00<?, ?it/s]"
      ]
     },
     "metadata": {},
     "output_type": "display_data"
    },
    {
     "name": "stderr",
     "output_type": "stream",
     "text": [
      "K sampler with euler: 300it [00:02, 100.44it/s]                                                                                                                                                                                                                               \n",
      "Global seed set to 23434523\n",
      "K sampler with euler:   0%|                                                                                                                                                                                                                            | 0/25 [00:00<?, ?it/s]"
     ]
    },
    {
     "data": {
      "application/json": {
       "ascii": false,
       "bar_format": null,
       "colour": null,
       "elapsed": 0.014299869537353516,
       "initial": 0,
       "n": 0,
       "ncols": null,
       "nrows": 35,
       "postfix": null,
       "prefix": "",
       "rate": null,
       "total": 25,
       "unit": "it",
       "unit_divisor": 1000,
       "unit_scale": false
      },
      "application/vnd.jupyter.widget-view+json": {
       "model_id": "755d21b9476a46dabe76ba45c07683a9",
       "version_major": 2,
       "version_minor": 0
      },
      "text/plain": [
       "  0%|          | 0/25 [00:00<?, ?it/s]"
      ]
     },
     "metadata": {},
     "output_type": "display_data"
    },
    {
     "name": "stderr",
     "output_type": "stream",
     "text": [
      "K sampler with euler: 300it [00:04, 73.95it/s]                                                                                                                                                                                                                                \n",
      "Global seed set to 23434523\n",
      "K sampler with euler:   0%|                                                                                                                                                                                                                            | 0/25 [00:00<?, ?it/s]"
     ]
    },
    {
     "data": {
      "application/json": {
       "ascii": false,
       "bar_format": null,
       "colour": null,
       "elapsed": 0.014961719512939453,
       "initial": 0,
       "n": 0,
       "ncols": null,
       "nrows": 35,
       "postfix": null,
       "prefix": "",
       "rate": null,
       "total": 25,
       "unit": "it",
       "unit_divisor": 1000,
       "unit_scale": false
      },
      "application/vnd.jupyter.widget-view+json": {
       "model_id": "770d78f9f462419599d5d1abb369791e",
       "version_major": 2,
       "version_minor": 0
      },
      "text/plain": [
       "  0%|          | 0/25 [00:00<?, ?it/s]"
      ]
     },
     "metadata": {},
     "output_type": "display_data"
    },
    {
     "name": "stderr",
     "output_type": "stream",
     "text": [
      "K sampler with euler: 300it [00:03, 94.19it/s]                                                                                                                                                                                                                                \n",
      "Global seed set to 23434523\n",
      "K sampler with euler:   0%|                                                                                                                                                                                                                            | 0/25 [00:00<?, ?it/s]"
     ]
    },
    {
     "data": {
      "application/json": {
       "ascii": false,
       "bar_format": null,
       "colour": null,
       "elapsed": 0.014590740203857422,
       "initial": 0,
       "n": 0,
       "ncols": null,
       "nrows": 35,
       "postfix": null,
       "prefix": "",
       "rate": null,
       "total": 25,
       "unit": "it",
       "unit_divisor": 1000,
       "unit_scale": false
      },
      "application/vnd.jupyter.widget-view+json": {
       "model_id": "c50b6361677440eba2f1511bc4e62008",
       "version_major": 2,
       "version_minor": 0
      },
      "text/plain": [
       "  0%|          | 0/25 [00:00<?, ?it/s]"
      ]
     },
     "metadata": {},
     "output_type": "display_data"
    },
    {
     "name": "stderr",
     "output_type": "stream",
     "text": [
      "K sampler with euler: 300it [00:02, 102.23it/s]                                                                                                                                                                                                                               \n",
      "Global seed set to 23434523\n",
      "K sampler with euler:   0%|                                                                                                                                                                                                                            | 0/25 [00:00<?, ?it/s]"
     ]
    },
    {
     "data": {
      "application/json": {
       "ascii": false,
       "bar_format": null,
       "colour": null,
       "elapsed": 0.015554428100585938,
       "initial": 0,
       "n": 0,
       "ncols": null,
       "nrows": 35,
       "postfix": null,
       "prefix": "",
       "rate": null,
       "total": 25,
       "unit": "it",
       "unit_divisor": 1000,
       "unit_scale": false
      },
      "application/vnd.jupyter.widget-view+json": {
       "model_id": "8f0679550be94feabe241f2c61c79e51",
       "version_major": 2,
       "version_minor": 0
      },
      "text/plain": [
       "  0%|          | 0/25 [00:00<?, ?it/s]"
      ]
     },
     "metadata": {},
     "output_type": "display_data"
    },
    {
     "name": "stderr",
     "output_type": "stream",
     "text": [
      "K sampler with euler: 300it [00:03, 98.70it/s]                                                                                                                                                                                                                                \n",
      "Global seed set to 23434523\n",
      "K sampler with euler:   0%|                                                                                                                                                                                                                            | 0/25 [00:00<?, ?it/s]"
     ]
    },
    {
     "data": {
      "application/json": {
       "ascii": false,
       "bar_format": null,
       "colour": null,
       "elapsed": 0.014668464660644531,
       "initial": 0,
       "n": 0,
       "ncols": null,
       "nrows": 35,
       "postfix": null,
       "prefix": "",
       "rate": null,
       "total": 25,
       "unit": "it",
       "unit_divisor": 1000,
       "unit_scale": false
      },
      "application/vnd.jupyter.widget-view+json": {
       "model_id": "5f0bc1b34ce842a8b8481da653235b8b",
       "version_major": 2,
       "version_minor": 0
      },
      "text/plain": [
       "  0%|          | 0/25 [00:00<?, ?it/s]"
      ]
     },
     "metadata": {},
     "output_type": "display_data"
    },
    {
     "name": "stderr",
     "output_type": "stream",
     "text": [
      "K sampler with euler: 300it [00:03, 87.07it/s]                                                                                                                                                                                                                                \n",
      "Global seed set to 23434523\n",
      "K sampler with euler:   0%|                                                                                                                                                                                                                            | 0/25 [00:00<?, ?it/s]"
     ]
    },
    {
     "data": {
      "application/json": {
       "ascii": false,
       "bar_format": null,
       "colour": null,
       "elapsed": 0.014629602432250977,
       "initial": 0,
       "n": 0,
       "ncols": null,
       "nrows": 35,
       "postfix": null,
       "prefix": "",
       "rate": null,
       "total": 25,
       "unit": "it",
       "unit_divisor": 1000,
       "unit_scale": false
      },
      "application/vnd.jupyter.widget-view+json": {
       "model_id": "2039bc233f0347a3b86d3b927a51b4c0",
       "version_major": 2,
       "version_minor": 0
      },
      "text/plain": [
       "  0%|          | 0/25 [00:00<?, ?it/s]"
      ]
     },
     "metadata": {},
     "output_type": "display_data"
    },
    {
     "name": "stderr",
     "output_type": "stream",
     "text": [
      "K sampler with euler: 300it [00:02, 103.82it/s]                                                                                                                                                                                                                               \n",
      "Global seed set to 23434523\n",
      "K sampler with euler:   0%|                                                                                                                                                                                                                            | 0/25 [00:00<?, ?it/s]"
     ]
    },
    {
     "data": {
      "application/json": {
       "ascii": false,
       "bar_format": null,
       "colour": null,
       "elapsed": 0.014905214309692383,
       "initial": 0,
       "n": 0,
       "ncols": null,
       "nrows": 35,
       "postfix": null,
       "prefix": "",
       "rate": null,
       "total": 25,
       "unit": "it",
       "unit_divisor": 1000,
       "unit_scale": false
      },
      "application/vnd.jupyter.widget-view+json": {
       "model_id": "82d1ddeec7114c5eb5c7302eb9a4c1a5",
       "version_major": 2,
       "version_minor": 0
      },
      "text/plain": [
       "  0%|          | 0/25 [00:00<?, ?it/s]"
      ]
     },
     "metadata": {},
     "output_type": "display_data"
    },
    {
     "name": "stderr",
     "output_type": "stream",
     "text": [
      "K sampler with euler: 300it [00:03, 90.18it/s]                                                                                                                                                                                                                                \n",
      "Global seed set to 23434523\n",
      "K sampler with euler:   0%|                                                                                                                                                                                                                            | 0/25 [00:00<?, ?it/s]"
     ]
    },
    {
     "data": {
      "application/json": {
       "ascii": false,
       "bar_format": null,
       "colour": null,
       "elapsed": 0.014529943466186523,
       "initial": 0,
       "n": 0,
       "ncols": null,
       "nrows": 35,
       "postfix": null,
       "prefix": "",
       "rate": null,
       "total": 25,
       "unit": "it",
       "unit_divisor": 1000,
       "unit_scale": false
      },
      "application/vnd.jupyter.widget-view+json": {
       "model_id": "52d0482de60741288bd6a0a114f7b6e9",
       "version_major": 2,
       "version_minor": 0
      },
      "text/plain": [
       "  0%|          | 0/25 [00:00<?, ?it/s]"
      ]
     },
     "metadata": {},
     "output_type": "display_data"
    },
    {
     "name": "stderr",
     "output_type": "stream",
     "text": [
      "K sampler with euler: 300it [00:03, 89.34it/s]                                                                                                                                                                                                                                \n",
      "Global seed set to 23434523\n",
      "K sampler with euler:   0%|                                                                                                                                                                                                                            | 0/25 [00:00<?, ?it/s]"
     ]
    },
    {
     "data": {
      "application/json": {
       "ascii": false,
       "bar_format": null,
       "colour": null,
       "elapsed": 0.015461444854736328,
       "initial": 0,
       "n": 0,
       "ncols": null,
       "nrows": 35,
       "postfix": null,
       "prefix": "",
       "rate": null,
       "total": 25,
       "unit": "it",
       "unit_divisor": 1000,
       "unit_scale": false
      },
      "application/vnd.jupyter.widget-view+json": {
       "model_id": "99c62a654c9244cab7b78c17f06e31e4",
       "version_major": 2,
       "version_minor": 0
      },
      "text/plain": [
       "  0%|          | 0/25 [00:00<?, ?it/s]"
      ]
     },
     "metadata": {},
     "output_type": "display_data"
    },
    {
     "name": "stderr",
     "output_type": "stream",
     "text": [
      "K sampler with euler: 300it [00:02, 104.96it/s]                                                                                                                                                                                                                               \n",
      "Global seed set to 23434523\n",
      "K sampler with euler:   0%|                                                                                                                                                                                                                            | 0/25 [00:00<?, ?it/s]"
     ]
    },
    {
     "data": {
      "application/json": {
       "ascii": false,
       "bar_format": null,
       "colour": null,
       "elapsed": 0.013534307479858398,
       "initial": 0,
       "n": 0,
       "ncols": null,
       "nrows": 35,
       "postfix": null,
       "prefix": "",
       "rate": null,
       "total": 25,
       "unit": "it",
       "unit_divisor": 1000,
       "unit_scale": false
      },
      "application/vnd.jupyter.widget-view+json": {
       "model_id": "f65bd0e9c55d482e9ffd3206cd4e221b",
       "version_major": 2,
       "version_minor": 0
      },
      "text/plain": [
       "  0%|          | 0/25 [00:00<?, ?it/s]"
      ]
     },
     "metadata": {},
     "output_type": "display_data"
    },
    {
     "name": "stderr",
     "output_type": "stream",
     "text": [
      "K sampler with euler: 300it [00:03, 82.68it/s]                                                                                                                                                                                                                                \n",
      "Global seed set to 23434523\n",
      "K sampler with euler:   0%|                                                                                                                                                                                                                            | 0/25 [00:00<?, ?it/s]"
     ]
    },
    {
     "data": {
      "application/json": {
       "ascii": false,
       "bar_format": null,
       "colour": null,
       "elapsed": 0.01647639274597168,
       "initial": 0,
       "n": 0,
       "ncols": null,
       "nrows": 35,
       "postfix": null,
       "prefix": "",
       "rate": null,
       "total": 25,
       "unit": "it",
       "unit_divisor": 1000,
       "unit_scale": false
      },
      "application/vnd.jupyter.widget-view+json": {
       "model_id": "16ab15975f374023aba6854d4c9529ca",
       "version_major": 2,
       "version_minor": 0
      },
      "text/plain": [
       "  0%|          | 0/25 [00:00<?, ?it/s]"
      ]
     },
     "metadata": {},
     "output_type": "display_data"
    },
    {
     "name": "stderr",
     "output_type": "stream",
     "text": [
      "K sampler with euler: 300it [00:03, 90.43it/s]                                                                                                                                                                                                                                \n",
      "Global seed set to 23434523\n",
      "K sampler with euler:   0%|                                                                                                                                                                                                                            | 0/25 [00:00<?, ?it/s]"
     ]
    },
    {
     "data": {
      "application/json": {
       "ascii": false,
       "bar_format": null,
       "colour": null,
       "elapsed": 0.015227794647216797,
       "initial": 0,
       "n": 0,
       "ncols": null,
       "nrows": 35,
       "postfix": null,
       "prefix": "",
       "rate": null,
       "total": 25,
       "unit": "it",
       "unit_divisor": 1000,
       "unit_scale": false
      },
      "application/vnd.jupyter.widget-view+json": {
       "model_id": "4a34ecfb23d2436c9933b253cb62d2e7",
       "version_major": 2,
       "version_minor": 0
      },
      "text/plain": [
       "  0%|          | 0/25 [00:00<?, ?it/s]"
      ]
     },
     "metadata": {},
     "output_type": "display_data"
    },
    {
     "name": "stderr",
     "output_type": "stream",
     "text": [
      "K sampler with euler: 300it [00:02, 103.10it/s]                                                                                                                                                                                                                               \n"
     ]
    },
    {
     "data": {
      "text/plain": [
       "[<image_classes.SDImage at 0x7f09ad1f4850>,\n",
       " <image_classes.SDImage at 0x7f09a84fa1c0>,\n",
       " <image_classes.SDImage at 0x7f09ad151790>,\n",
       " <image_classes.SDImage at 0x7f09a84faf70>,\n",
       " <image_classes.SDImage at 0x7f09ad151a60>,\n",
       " <image_classes.SDImage at 0x7f09a848df40>,\n",
       " <image_classes.SDImage at 0x7f09a848d9a0>,\n",
       " <image_classes.SDImage at 0x7f09a848deb0>,\n",
       " <image_classes.SDImage at 0x7f09a8475b80>,\n",
       " <image_classes.SDImage at 0x7f09a8420190>,\n",
       " <image_classes.SDImage at 0x7f09a8420e80>,\n",
       " <image_classes.SDImage at 0x7f09a8420dc0>,\n",
       " <image_classes.SDImage at 0x7f09a8464be0>,\n",
       " <image_classes.SDImage at 0x7f09a8464dc0>,\n",
       " <image_classes.SDImage at 0x7f09a84648e0>,\n",
       " <image_classes.SDImage at 0x7f09a8437e20>,\n",
       " <image_classes.SDImage at 0x7f09a8464460>,\n",
       " <image_classes.SDImage at 0x7f09a840bac0>,\n",
       " <image_classes.SDImage at 0x7f09a83f0640>,\n",
       " <image_classes.SDImage at 0x7f09a83e1cd0>,\n",
       " <image_classes.SDImage at 0x7f09a844d790>,\n",
       " <image_classes.SDImage at 0x7f09a85505b0>,\n",
       " <image_classes.SDImage at 0x7f09ad212490>,\n",
       " <image_classes.SDImage at 0x7f09a83e1a30>,\n",
       " <image_classes.SDImage at 0x7f09ad2a1a30>,\n",
       " <image_classes.SDImage at 0x7f09a84fab20>,\n",
       " <image_classes.SDImage at 0x7f09a8550df0>,\n",
       " <image_classes.SDImage at 0x7f09ad1a1970>,\n",
       " <image_classes.SDImage at 0x7f09a8475040>,\n",
       " <image_classes.SDImage at 0x7f09a8420ac0>,\n",
       " <image_classes.SDImage at 0x7f09a844d640>,\n",
       " <image_classes.SDImage at 0x7f09a835c130>,\n",
       " <image_classes.SDImage at 0x7f09a835ce80>,\n",
       " <image_classes.SDImage at 0x7f09a8399c40>,\n",
       " <image_classes.SDImage at 0x7f09a835cbb0>,\n",
       " <image_classes.SDImage at 0x7f09a8372b20>,\n",
       " <image_classes.SDImage at 0x7f09a8372b50>,\n",
       " <image_classes.SDImage at 0x7f09a83720a0>,\n",
       " <image_classes.SDImage at 0x7f09a8383430>,\n",
       " <image_classes.SDImage at 0x7f09a8383fa0>,\n",
       " <image_classes.SDImage at 0x7f09a84206d0>,\n",
       " <image_classes.SDImage at 0x7f09a831a430>,\n",
       " <image_classes.SDImage at 0x7f09a831ad00>,\n",
       " <image_classes.SDImage at 0x7f09a8341700>,\n",
       " <image_classes.SDImage at 0x7f09a832edf0>,\n",
       " <image_classes.SDImage at 0x7f09a8341b20>,\n",
       " <image_classes.SDImage at 0x7f09a8383b80>,\n",
       " <image_classes.SDImage at 0x7f09a82ee160>,\n",
       " <image_classes.SDImage at 0x7f09a82eed00>,\n",
       " <image_classes.SDImage at 0x7f09a82eed60>,\n",
       " <image_classes.SDImage at 0x7f09a8301e80>,\n",
       " <image_classes.SDImage at 0x7f09a83111c0>,\n",
       " <image_classes.SDImage at 0x7f09a8341af0>,\n",
       " <image_classes.SDImage at 0x7f09a83836a0>,\n",
       " <image_classes.SDImage at 0x7f09a831a910>,\n",
       " <image_classes.SDImage at 0x7f09a835cfd0>,\n",
       " <image_classes.SDImage at 0x7f09a831a9d0>,\n",
       " <image_classes.SDImage at 0x7f09a831a610>,\n",
       " <image_classes.SDImage at 0x7f09a8372c10>,\n",
       " <image_classes.SDImage at 0x7f09a82ee4c0>,\n",
       " <image_classes.SDImage at 0x7f09a831af40>,\n",
       " <image_classes.SDImage at 0x7f09a8437d30>,\n",
       " <image_classes.SDImage at 0x7f09a82d9640>,\n",
       " <image_classes.SDImage at 0x7f09a835c400>,\n",
       " <image_classes.SDImage at 0x7f09a8311c10>,\n",
       " <image_classes.SDImage at 0x7f09a8280d30>,\n",
       " <image_classes.SDImage at 0x7f09a83995b0>,\n",
       " <image_classes.SDImage at 0x7f09a8341520>,\n",
       " <image_classes.SDImage at 0x7f09a821e460>,\n",
       " <image_classes.SDImage at 0x7f09a8341790>,\n",
       " <image_classes.SDImage at 0x7f09a821e400>,\n",
       " <image_classes.SDImage at 0x7f09a8239b50>,\n",
       " <image_classes.SDImage at 0x7f09a82805e0>,\n",
       " <image_classes.SDImage at 0x7f09a81d7700>,\n",
       " <image_classes.SDImage at 0x7f09a82393a0>,\n",
       " <image_classes.SDImage at 0x7f09a821efd0>,\n",
       " <image_classes.SDImage at 0x7f09a821eee0>,\n",
       " <image_classes.SDImage at 0x7f09a821e820>,\n",
       " <image_classes.SDImage at 0x7f09a81d7dc0>,\n",
       " <image_classes.SDImage at 0x7f09a81f7310>,\n",
       " <image_classes.SDImage at 0x7f09a8211e80>,\n",
       " <image_classes.SDImage at 0x7f09a8211eb0>,\n",
       " <image_classes.SDImage at 0x7f09a8165df0>,\n",
       " <image_classes.SDImage at 0x7f09a81ce190>,\n",
       " <image_classes.SDImage at 0x7f09a81ce160>,\n",
       " <image_classes.SDImage at 0x7f09a84c78e0>,\n",
       " <image_classes.SDImage at 0x7f09a8211490>,\n",
       " <image_classes.SDImage at 0x7f09a8372f10>,\n",
       " <image_classes.SDImage at 0x7f09a8383820>,\n",
       " <image_classes.SDImage at 0x7f09a81cedc0>,\n",
       " <image_classes.SDImage at 0x7f09a83f0550>,\n",
       " <image_classes.SDImage at 0x7f09a8165c10>,\n",
       " <image_classes.SDImage at 0x7f09a81ae160>,\n",
       " <image_classes.SDImage at 0x7f09a8165580>,\n",
       " <image_classes.SDImage at 0x7f09a8301ca0>,\n",
       " <image_classes.SDImage at 0x7f09a8154460>,\n",
       " <image_classes.SDImage at 0x7f09a817c2e0>,\n",
       " <image_classes.SDImage at 0x7f09a8269ee0>,\n",
       " <image_classes.SDImage at 0x7f09a817cc10>,\n",
       " <image_classes.SDImage at 0x7f09a80f1df0>,\n",
       " <image_classes.SDImage at 0x7f09a810cb50>,\n",
       " <image_classes.SDImage at 0x7f09a80aa6a0>,\n",
       " <image_classes.SDImage at 0x7f09a80aa040>,\n",
       " <image_classes.SDImage at 0x7f09a80aae20>,\n",
       " <image_classes.SDImage at 0x7f09a810c9d0>,\n",
       " <image_classes.SDImage at 0x7f09a80c9e50>,\n",
       " <image_classes.SDImage at 0x7f09a8062d00>,\n",
       " <image_classes.SDImage at 0x7f09a80c99d0>,\n",
       " <image_classes.SDImage at 0x7f09a810cc70>,\n",
       " <image_classes.SDImage at 0x7f09a8211b80>,\n",
       " <image_classes.SDImage at 0x7f09a80f1e80>,\n",
       " <image_classes.SDImage at 0x7f09a80f19a0>,\n",
       " <image_classes.SDImage at 0x7f09a810c280>,\n",
       " <image_classes.SDImage at 0x7f09a801b1c0>,\n",
       " <image_classes.SDImage at 0x7f09a80312e0>,\n",
       " <image_classes.SDImage at 0x7f09a80f1340>,\n",
       " <image_classes.SDImage at 0x7f09a8031970>,\n",
       " <image_classes.SDImage at 0x7f09a8031e20>,\n",
       " <image_classes.SDImage at 0x7f09a8062c40>,\n",
       " <image_classes.SDImage at 0x7f09a810c8e0>,\n",
       " <image_classes.SDImage at 0x7f09a8031f10>,\n",
       " <image_classes.SDImage at 0x7f09a82a6940>,\n",
       " <image_classes.SDImage at 0x7f09a801be50>,\n",
       " <image_classes.SDImage at 0x7f09a832ebe0>,\n",
       " <image_classes.SDImage at 0x7f09a801b970>,\n",
       " <image_classes.SDImage at 0x7f09a807e640>,\n",
       " <image_classes.SDImage at 0x7f09a8280670>,\n",
       " <image_classes.SDImage at 0x7f09a7fc3850>,\n",
       " <image_classes.SDImage at 0x7f09a807ec10>,\n",
       " <image_classes.SDImage at 0x7f09a7fecd30>,\n",
       " <image_classes.SDImage at 0x7f09a7fec160>,\n",
       " <image_classes.SDImage at 0x7f09a7fecf10>,\n",
       " <image_classes.SDImage at 0x7f09a5d9dd90>,\n",
       " <image_classes.SDImage at 0x7f09a7fec4c0>,\n",
       " <image_classes.SDImage at 0x7f09a7fc3ca0>,\n",
       " <image_classes.SDImage at 0x7f09a7fc3c10>,\n",
       " <image_classes.SDImage at 0x7f09a5db9df0>,\n",
       " <image_classes.SDImage at 0x7f09a5d9df10>,\n",
       " <image_classes.SDImage at 0x7f09a5d5bbb0>,\n",
       " <image_classes.SDImage at 0x7f09a5d5b6d0>,\n",
       " <image_classes.SDImage at 0x7f09a5d71f40>,\n",
       " <image_classes.SDImage at 0x7f09a5d713d0>,\n",
       " <image_classes.SDImage at 0x7f09a5d5bc10>,\n",
       " <image_classes.SDImage at 0x7f09a5d2ca30>,\n",
       " <image_classes.SDImage at 0x7f09a5d2c5b0>,\n",
       " <image_classes.SDImage at 0x7f09a5d2cfa0>,\n",
       " <image_classes.SDImage at 0x7f09a5d92ca0>,\n",
       " <image_classes.SDImage at 0x7f09a5d007c0>,\n",
       " <image_classes.SDImage at 0x7f09a5d00820>,\n",
       " <image_classes.SDImage at 0x7f09a5d92400>,\n",
       " <image_classes.SDImage at 0x7f09a5d00d90>,\n",
       " <image_classes.SDImage at 0x7f09a5d92820>,\n",
       " <image_classes.SDImage at 0x7f09a5d92520>,\n",
       " <image_classes.SDImage at 0x7f09a80aaaf0>,\n",
       " <image_classes.SDImage at 0x7f09a5d00400>,\n",
       " <image_classes.SDImage at 0x7f09a5d48ac0>,\n",
       " <image_classes.SDImage at 0x7f09a5db9520>,\n",
       " <image_classes.SDImage at 0x7f09a804f970>,\n",
       " <image_classes.SDImage at 0x7f09a5ce1910>,\n",
       " <image_classes.SDImage at 0x7f09a5ce1f40>,\n",
       " <image_classes.SDImage at 0x7f09a5c8e8e0>,\n",
       " <image_classes.SDImage at 0x7f09a5c98340>,\n",
       " <image_classes.SDImage at 0x7f09a7fecf70>,\n",
       " <image_classes.SDImage at 0x7f09a5c71310>,\n",
       " <image_classes.SDImage at 0x7f09a5c71250>,\n",
       " <image_classes.SDImage at 0x7f09a5c71be0>,\n",
       " <image_classes.SDImage at 0x7f09a5c8ea60>,\n",
       " <image_classes.SDImage at 0x7f09a5c8e190>,\n",
       " <image_classes.SDImage at 0x7f09a5c8ef10>,\n",
       " <image_classes.SDImage at 0x7f09a804fa00>,\n",
       " <image_classes.SDImage at 0x7f09a5c1ffa0>,\n",
       " <image_classes.SDImage at 0x7f09a5c1f2e0>,\n",
       " <image_classes.SDImage at 0x7f09a5c1f190>,\n",
       " <image_classes.SDImage at 0x7f09a5be5910>,\n",
       " <image_classes.SDImage at 0x7f09a5be5f40>,\n",
       " <image_classes.SDImage at 0x7f09a5c47880>,\n",
       " <image_classes.SDImage at 0x7f09a5c47b80>,\n",
       " <image_classes.SDImage at 0x7f09a5db9940>,\n",
       " <image_classes.SDImage at 0x7f09a5bfe070>,\n",
       " <image_classes.SDImage at 0x7f09a5b6c2b0>,\n",
       " <image_classes.SDImage at 0x7f09a5b6cf10>,\n",
       " <image_classes.SDImage at 0x7f09a5b6cdc0>,\n",
       " <image_classes.SDImage at 0x7f09a5b6c8b0>,\n",
       " <image_classes.SDImage at 0x7f09a5db9a60>,\n",
       " <image_classes.SDImage at 0x7f09a5d48f40>,\n",
       " <image_classes.SDImage at 0x7f09a80c9520>,\n",
       " <image_classes.SDImage at 0x7f09a5d001c0>,\n",
       " <image_classes.SDImage at 0x7f09a5c47820>,\n",
       " <image_classes.SDImage at 0x7f09a5d71c70>,\n",
       " <image_classes.SDImage at 0x7f09a5c71940>,\n",
       " <image_classes.SDImage at 0x7f09a5bb4be0>,\n",
       " <image_classes.SDImage at 0x7f09a5bb4c40>,\n",
       " <image_classes.SDImage at 0x7f09a5adbd30>,\n",
       " <image_classes.SDImage at 0x7f09a5b88f10>,\n",
       " <image_classes.SDImage at 0x7f09a5b9dfd0>,\n",
       " <image_classes.SDImage at 0x7f09a5c47ac0>,\n",
       " <image_classes.SDImage at 0x7f09a5bcfdf0>,\n",
       " <image_classes.SDImage at 0x7f09a5adbdc0>,\n",
       " <image_classes.SDImage at 0x7f09a5d006d0>,\n",
       " <image_classes.SDImage at 0x7f09aa746e80>]"
      ]
     },
     "execution_count": 20,
     "metadata": {},
     "output_type": "execute_result"
    }
   ],
   "source": [
    "runner.get_linspace_frames(0.52, 1, 200)"
   ]
  },
  {
   "cell_type": "code",
   "execution_count": 24,
   "metadata": {},
   "outputs": [
    {
     "name": "stderr",
     "output_type": "stream",
     "text": [
      "/home/jamalex/miniconda3/envs/ldm/lib/python3.8/site-packages/skvideo/io/abstract.py:514: DeprecationWarning: tostring() is deprecated. Use tobytes() instead.\n",
      "  self._proc.stdin.write(vid.tostring())\n",
      "/home/jamalex/miniconda3/envs/ldm/lib/python3.8/site-packages/skvideo/io/abstract.py:514: DeprecationWarning: tostring() is deprecated. Use tobytes() instead.\n",
      "  self._proc.stdin.write(vid.tostring())\n",
      "/home/jamalex/miniconda3/envs/ldm/lib/python3.8/site-packages/skvideo/io/abstract.py:514: DeprecationWarning: tostring() is deprecated. Use tobytes() instead.\n",
      "  self._proc.stdin.write(vid.tostring())\n",
      "/home/jamalex/miniconda3/envs/ldm/lib/python3.8/site-packages/skvideo/io/abstract.py:514: DeprecationWarning: tostring() is deprecated. Use tobytes() instead.\n",
      "  self._proc.stdin.write(vid.tostring())\n",
      "/home/jamalex/miniconda3/envs/ldm/lib/python3.8/site-packages/skvideo/io/abstract.py:514: DeprecationWarning: tostring() is deprecated. Use tobytes() instead.\n",
      "  self._proc.stdin.write(vid.tostring())\n",
      "/home/jamalex/miniconda3/envs/ldm/lib/python3.8/site-packages/skvideo/io/abstract.py:514: DeprecationWarning: tostring() is deprecated. Use tobytes() instead.\n",
      "  self._proc.stdin.write(vid.tostring())\n",
      "/home/jamalex/miniconda3/envs/ldm/lib/python3.8/site-packages/skvideo/io/abstract.py:514: DeprecationWarning: tostring() is deprecated. Use tobytes() instead.\n",
      "  self._proc.stdin.write(vid.tostring())\n",
      "/home/jamalex/miniconda3/envs/ldm/lib/python3.8/site-packages/skvideo/io/abstract.py:514: DeprecationWarning: tostring() is deprecated. Use tobytes() instead.\n",
      "  self._proc.stdin.write(vid.tostring())\n",
      "/home/jamalex/miniconda3/envs/ldm/lib/python3.8/site-packages/skvideo/io/abstract.py:514: DeprecationWarning: tostring() is deprecated. Use tobytes() instead.\n",
      "  self._proc.stdin.write(vid.tostring())\n",
      "/home/jamalex/miniconda3/envs/ldm/lib/python3.8/site-packages/skvideo/io/abstract.py:514: DeprecationWarning: tostring() is deprecated. Use tobytes() instead.\n",
      "  self._proc.stdin.write(vid.tostring())\n",
      "/home/jamalex/miniconda3/envs/ldm/lib/python3.8/site-packages/skvideo/io/abstract.py:514: DeprecationWarning: tostring() is deprecated. Use tobytes() instead.\n",
      "  self._proc.stdin.write(vid.tostring())\n",
      "/home/jamalex/miniconda3/envs/ldm/lib/python3.8/site-packages/skvideo/io/abstract.py:514: DeprecationWarning: tostring() is deprecated. Use tobytes() instead.\n",
      "  self._proc.stdin.write(vid.tostring())\n",
      "/home/jamalex/miniconda3/envs/ldm/lib/python3.8/site-packages/skvideo/io/abstract.py:514: DeprecationWarning: tostring() is deprecated. Use tobytes() instead.\n",
      "  self._proc.stdin.write(vid.tostring())\n",
      "/home/jamalex/miniconda3/envs/ldm/lib/python3.8/site-packages/skvideo/io/abstract.py:514: DeprecationWarning: tostring() is deprecated. Use tobytes() instead.\n",
      "  self._proc.stdin.write(vid.tostring())\n",
      "/home/jamalex/miniconda3/envs/ldm/lib/python3.8/site-packages/skvideo/io/abstract.py:514: DeprecationWarning: tostring() is deprecated. Use tobytes() instead.\n",
      "  self._proc.stdin.write(vid.tostring())\n",
      "/home/jamalex/miniconda3/envs/ldm/lib/python3.8/site-packages/skvideo/io/abstract.py:514: DeprecationWarning: tostring() is deprecated. Use tobytes() instead.\n",
      "  self._proc.stdin.write(vid.tostring())\n",
      "/home/jamalex/miniconda3/envs/ldm/lib/python3.8/site-packages/skvideo/io/abstract.py:514: DeprecationWarning: tostring() is deprecated. Use tobytes() instead.\n",
      "  self._proc.stdin.write(vid.tostring())\n",
      "/home/jamalex/miniconda3/envs/ldm/lib/python3.8/site-packages/skvideo/io/abstract.py:514: DeprecationWarning: tostring() is deprecated. Use tobytes() instead.\n",
      "  self._proc.stdin.write(vid.tostring())\n",
      "/home/jamalex/miniconda3/envs/ldm/lib/python3.8/site-packages/skvideo/io/abstract.py:514: DeprecationWarning: tostring() is deprecated. Use tobytes() instead.\n",
      "  self._proc.stdin.write(vid.tostring())\n",
      "/home/jamalex/miniconda3/envs/ldm/lib/python3.8/site-packages/skvideo/io/abstract.py:514: DeprecationWarning: tostring() is deprecated. Use tobytes() instead.\n",
      "  self._proc.stdin.write(vid.tostring())\n",
      "/home/jamalex/miniconda3/envs/ldm/lib/python3.8/site-packages/skvideo/io/abstract.py:514: DeprecationWarning: tostring() is deprecated. Use tobytes() instead.\n",
      "  self._proc.stdin.write(vid.tostring())\n",
      "/home/jamalex/miniconda3/envs/ldm/lib/python3.8/site-packages/skvideo/io/abstract.py:514: DeprecationWarning: tostring() is deprecated. Use tobytes() instead.\n",
      "  self._proc.stdin.write(vid.tostring())\n",
      "/home/jamalex/miniconda3/envs/ldm/lib/python3.8/site-packages/skvideo/io/abstract.py:514: DeprecationWarning: tostring() is deprecated. Use tobytes() instead.\n",
      "  self._proc.stdin.write(vid.tostring())\n",
      "/home/jamalex/miniconda3/envs/ldm/lib/python3.8/site-packages/skvideo/io/abstract.py:514: DeprecationWarning: tostring() is deprecated. Use tobytes() instead.\n",
      "  self._proc.stdin.write(vid.tostring())\n",
      "/home/jamalex/miniconda3/envs/ldm/lib/python3.8/site-packages/skvideo/io/abstract.py:514: DeprecationWarning: tostring() is deprecated. Use tobytes() instead.\n",
      "  self._proc.stdin.write(vid.tostring())\n",
      "/home/jamalex/miniconda3/envs/ldm/lib/python3.8/site-packages/skvideo/io/abstract.py:514: DeprecationWarning: tostring() is deprecated. Use tobytes() instead.\n",
      "  self._proc.stdin.write(vid.tostring())\n",
      "/home/jamalex/miniconda3/envs/ldm/lib/python3.8/site-packages/skvideo/io/abstract.py:514: DeprecationWarning: tostring() is deprecated. Use tobytes() instead.\n",
      "  self._proc.stdin.write(vid.tostring())\n",
      "/home/jamalex/miniconda3/envs/ldm/lib/python3.8/site-packages/skvideo/io/abstract.py:514: DeprecationWarning: tostring() is deprecated. Use tobytes() instead.\n",
      "  self._proc.stdin.write(vid.tostring())\n",
      "/home/jamalex/miniconda3/envs/ldm/lib/python3.8/site-packages/skvideo/io/abstract.py:514: DeprecationWarning: tostring() is deprecated. Use tobytes() instead.\n",
      "  self._proc.stdin.write(vid.tostring())\n",
      "/home/jamalex/miniconda3/envs/ldm/lib/python3.8/site-packages/skvideo/io/abstract.py:514: DeprecationWarning: tostring() is deprecated. Use tobytes() instead.\n",
      "  self._proc.stdin.write(vid.tostring())\n",
      "/home/jamalex/miniconda3/envs/ldm/lib/python3.8/site-packages/skvideo/io/abstract.py:514: DeprecationWarning: tostring() is deprecated. Use tobytes() instead.\n",
      "  self._proc.stdin.write(vid.tostring())\n",
      "/home/jamalex/miniconda3/envs/ldm/lib/python3.8/site-packages/skvideo/io/abstract.py:514: DeprecationWarning: tostring() is deprecated. Use tobytes() instead.\n",
      "  self._proc.stdin.write(vid.tostring())\n",
      "/home/jamalex/miniconda3/envs/ldm/lib/python3.8/site-packages/skvideo/io/abstract.py:514: DeprecationWarning: tostring() is deprecated. Use tobytes() instead.\n",
      "  self._proc.stdin.write(vid.tostring())\n",
      "/home/jamalex/miniconda3/envs/ldm/lib/python3.8/site-packages/skvideo/io/abstract.py:514: DeprecationWarning: tostring() is deprecated. Use tobytes() instead.\n",
      "  self._proc.stdin.write(vid.tostring())\n",
      "/home/jamalex/miniconda3/envs/ldm/lib/python3.8/site-packages/skvideo/io/abstract.py:514: DeprecationWarning: tostring() is deprecated. Use tobytes() instead.\n",
      "  self._proc.stdin.write(vid.tostring())\n",
      "/home/jamalex/miniconda3/envs/ldm/lib/python3.8/site-packages/skvideo/io/abstract.py:514: DeprecationWarning: tostring() is deprecated. Use tobytes() instead.\n",
      "  self._proc.stdin.write(vid.tostring())\n",
      "/home/jamalex/miniconda3/envs/ldm/lib/python3.8/site-packages/skvideo/io/abstract.py:514: DeprecationWarning: tostring() is deprecated. Use tobytes() instead.\n",
      "  self._proc.stdin.write(vid.tostring())\n",
      "/home/jamalex/miniconda3/envs/ldm/lib/python3.8/site-packages/skvideo/io/abstract.py:514: DeprecationWarning: tostring() is deprecated. Use tobytes() instead.\n",
      "  self._proc.stdin.write(vid.tostring())\n",
      "/home/jamalex/miniconda3/envs/ldm/lib/python3.8/site-packages/skvideo/io/abstract.py:514: DeprecationWarning: tostring() is deprecated. Use tobytes() instead.\n",
      "  self._proc.stdin.write(vid.tostring())\n",
      "/home/jamalex/miniconda3/envs/ldm/lib/python3.8/site-packages/skvideo/io/abstract.py:514: DeprecationWarning: tostring() is deprecated. Use tobytes() instead.\n",
      "  self._proc.stdin.write(vid.tostring())\n",
      "/home/jamalex/miniconda3/envs/ldm/lib/python3.8/site-packages/skvideo/io/abstract.py:514: DeprecationWarning: tostring() is deprecated. Use tobytes() instead.\n",
      "  self._proc.stdin.write(vid.tostring())\n",
      "/home/jamalex/miniconda3/envs/ldm/lib/python3.8/site-packages/skvideo/io/abstract.py:514: DeprecationWarning: tostring() is deprecated. Use tobytes() instead.\n",
      "  self._proc.stdin.write(vid.tostring())\n",
      "/home/jamalex/miniconda3/envs/ldm/lib/python3.8/site-packages/skvideo/io/abstract.py:514: DeprecationWarning: tostring() is deprecated. Use tobytes() instead.\n",
      "  self._proc.stdin.write(vid.tostring())\n",
      "/home/jamalex/miniconda3/envs/ldm/lib/python3.8/site-packages/skvideo/io/abstract.py:514: DeprecationWarning: tostring() is deprecated. Use tobytes() instead.\n",
      "  self._proc.stdin.write(vid.tostring())\n",
      "/home/jamalex/miniconda3/envs/ldm/lib/python3.8/site-packages/skvideo/io/abstract.py:514: DeprecationWarning: tostring() is deprecated. Use tobytes() instead.\n",
      "  self._proc.stdin.write(vid.tostring())\n",
      "/home/jamalex/miniconda3/envs/ldm/lib/python3.8/site-packages/skvideo/io/abstract.py:514: DeprecationWarning: tostring() is deprecated. Use tobytes() instead.\n",
      "  self._proc.stdin.write(vid.tostring())\n",
      "/home/jamalex/miniconda3/envs/ldm/lib/python3.8/site-packages/skvideo/io/abstract.py:514: DeprecationWarning: tostring() is deprecated. Use tobytes() instead.\n",
      "  self._proc.stdin.write(vid.tostring())\n",
      "/home/jamalex/miniconda3/envs/ldm/lib/python3.8/site-packages/skvideo/io/abstract.py:514: DeprecationWarning: tostring() is deprecated. Use tobytes() instead.\n",
      "  self._proc.stdin.write(vid.tostring())\n",
      "/home/jamalex/miniconda3/envs/ldm/lib/python3.8/site-packages/skvideo/io/abstract.py:514: DeprecationWarning: tostring() is deprecated. Use tobytes() instead.\n",
      "  self._proc.stdin.write(vid.tostring())\n",
      "/home/jamalex/miniconda3/envs/ldm/lib/python3.8/site-packages/skvideo/io/abstract.py:514: DeprecationWarning: tostring() is deprecated. Use tobytes() instead.\n",
      "  self._proc.stdin.write(vid.tostring())\n",
      "/home/jamalex/miniconda3/envs/ldm/lib/python3.8/site-packages/skvideo/io/abstract.py:514: DeprecationWarning: tostring() is deprecated. Use tobytes() instead.\n",
      "  self._proc.stdin.write(vid.tostring())\n",
      "/home/jamalex/miniconda3/envs/ldm/lib/python3.8/site-packages/skvideo/io/abstract.py:514: DeprecationWarning: tostring() is deprecated. Use tobytes() instead.\n",
      "  self._proc.stdin.write(vid.tostring())\n",
      "/home/jamalex/miniconda3/envs/ldm/lib/python3.8/site-packages/skvideo/io/abstract.py:514: DeprecationWarning: tostring() is deprecated. Use tobytes() instead.\n",
      "  self._proc.stdin.write(vid.tostring())\n",
      "/home/jamalex/miniconda3/envs/ldm/lib/python3.8/site-packages/skvideo/io/abstract.py:514: DeprecationWarning: tostring() is deprecated. Use tobytes() instead.\n",
      "  self._proc.stdin.write(vid.tostring())\n",
      "/home/jamalex/miniconda3/envs/ldm/lib/python3.8/site-packages/skvideo/io/abstract.py:514: DeprecationWarning: tostring() is deprecated. Use tobytes() instead.\n",
      "  self._proc.stdin.write(vid.tostring())\n",
      "/home/jamalex/miniconda3/envs/ldm/lib/python3.8/site-packages/skvideo/io/abstract.py:514: DeprecationWarning: tostring() is deprecated. Use tobytes() instead.\n",
      "  self._proc.stdin.write(vid.tostring())\n",
      "/home/jamalex/miniconda3/envs/ldm/lib/python3.8/site-packages/skvideo/io/abstract.py:514: DeprecationWarning: tostring() is deprecated. Use tobytes() instead.\n",
      "  self._proc.stdin.write(vid.tostring())\n",
      "/home/jamalex/miniconda3/envs/ldm/lib/python3.8/site-packages/skvideo/io/abstract.py:514: DeprecationWarning: tostring() is deprecated. Use tobytes() instead.\n",
      "  self._proc.stdin.write(vid.tostring())\n",
      "/home/jamalex/miniconda3/envs/ldm/lib/python3.8/site-packages/skvideo/io/abstract.py:514: DeprecationWarning: tostring() is deprecated. Use tobytes() instead.\n",
      "  self._proc.stdin.write(vid.tostring())\n",
      "/home/jamalex/miniconda3/envs/ldm/lib/python3.8/site-packages/skvideo/io/abstract.py:514: DeprecationWarning: tostring() is deprecated. Use tobytes() instead.\n",
      "  self._proc.stdin.write(vid.tostring())\n",
      "/home/jamalex/miniconda3/envs/ldm/lib/python3.8/site-packages/skvideo/io/abstract.py:514: DeprecationWarning: tostring() is deprecated. Use tobytes() instead.\n",
      "  self._proc.stdin.write(vid.tostring())\n",
      "/home/jamalex/miniconda3/envs/ldm/lib/python3.8/site-packages/skvideo/io/abstract.py:514: DeprecationWarning: tostring() is deprecated. Use tobytes() instead.\n",
      "  self._proc.stdin.write(vid.tostring())\n",
      "/home/jamalex/miniconda3/envs/ldm/lib/python3.8/site-packages/skvideo/io/abstract.py:514: DeprecationWarning: tostring() is deprecated. Use tobytes() instead.\n",
      "  self._proc.stdin.write(vid.tostring())\n",
      "/home/jamalex/miniconda3/envs/ldm/lib/python3.8/site-packages/skvideo/io/abstract.py:514: DeprecationWarning: tostring() is deprecated. Use tobytes() instead.\n",
      "  self._proc.stdin.write(vid.tostring())\n",
      "/home/jamalex/miniconda3/envs/ldm/lib/python3.8/site-packages/skvideo/io/abstract.py:514: DeprecationWarning: tostring() is deprecated. Use tobytes() instead.\n",
      "  self._proc.stdin.write(vid.tostring())\n",
      "/home/jamalex/miniconda3/envs/ldm/lib/python3.8/site-packages/skvideo/io/abstract.py:514: DeprecationWarning: tostring() is deprecated. Use tobytes() instead.\n",
      "  self._proc.stdin.write(vid.tostring())\n",
      "/home/jamalex/miniconda3/envs/ldm/lib/python3.8/site-packages/skvideo/io/abstract.py:514: DeprecationWarning: tostring() is deprecated. Use tobytes() instead.\n",
      "  self._proc.stdin.write(vid.tostring())\n",
      "/home/jamalex/miniconda3/envs/ldm/lib/python3.8/site-packages/skvideo/io/abstract.py:514: DeprecationWarning: tostring() is deprecated. Use tobytes() instead.\n",
      "  self._proc.stdin.write(vid.tostring())\n",
      "/home/jamalex/miniconda3/envs/ldm/lib/python3.8/site-packages/skvideo/io/abstract.py:514: DeprecationWarning: tostring() is deprecated. Use tobytes() instead.\n",
      "  self._proc.stdin.write(vid.tostring())\n",
      "/home/jamalex/miniconda3/envs/ldm/lib/python3.8/site-packages/skvideo/io/abstract.py:514: DeprecationWarning: tostring() is deprecated. Use tobytes() instead.\n",
      "  self._proc.stdin.write(vid.tostring())\n",
      "/home/jamalex/miniconda3/envs/ldm/lib/python3.8/site-packages/skvideo/io/abstract.py:514: DeprecationWarning: tostring() is deprecated. Use tobytes() instead.\n",
      "  self._proc.stdin.write(vid.tostring())\n",
      "/home/jamalex/miniconda3/envs/ldm/lib/python3.8/site-packages/skvideo/io/abstract.py:514: DeprecationWarning: tostring() is deprecated. Use tobytes() instead.\n",
      "  self._proc.stdin.write(vid.tostring())\n",
      "/home/jamalex/miniconda3/envs/ldm/lib/python3.8/site-packages/skvideo/io/abstract.py:514: DeprecationWarning: tostring() is deprecated. Use tobytes() instead.\n",
      "  self._proc.stdin.write(vid.tostring())\n",
      "/home/jamalex/miniconda3/envs/ldm/lib/python3.8/site-packages/skvideo/io/abstract.py:514: DeprecationWarning: tostring() is deprecated. Use tobytes() instead.\n",
      "  self._proc.stdin.write(vid.tostring())\n",
      "/home/jamalex/miniconda3/envs/ldm/lib/python3.8/site-packages/skvideo/io/abstract.py:514: DeprecationWarning: tostring() is deprecated. Use tobytes() instead.\n",
      "  self._proc.stdin.write(vid.tostring())\n",
      "/home/jamalex/miniconda3/envs/ldm/lib/python3.8/site-packages/skvideo/io/abstract.py:514: DeprecationWarning: tostring() is deprecated. Use tobytes() instead.\n",
      "  self._proc.stdin.write(vid.tostring())\n",
      "/home/jamalex/miniconda3/envs/ldm/lib/python3.8/site-packages/skvideo/io/abstract.py:514: DeprecationWarning: tostring() is deprecated. Use tobytes() instead.\n",
      "  self._proc.stdin.write(vid.tostring())\n",
      "/home/jamalex/miniconda3/envs/ldm/lib/python3.8/site-packages/skvideo/io/abstract.py:514: DeprecationWarning: tostring() is deprecated. Use tobytes() instead.\n",
      "  self._proc.stdin.write(vid.tostring())\n",
      "/home/jamalex/miniconda3/envs/ldm/lib/python3.8/site-packages/skvideo/io/abstract.py:514: DeprecationWarning: tostring() is deprecated. Use tobytes() instead.\n",
      "  self._proc.stdin.write(vid.tostring())\n",
      "/home/jamalex/miniconda3/envs/ldm/lib/python3.8/site-packages/skvideo/io/abstract.py:514: DeprecationWarning: tostring() is deprecated. Use tobytes() instead.\n",
      "  self._proc.stdin.write(vid.tostring())\n",
      "/home/jamalex/miniconda3/envs/ldm/lib/python3.8/site-packages/skvideo/io/abstract.py:514: DeprecationWarning: tostring() is deprecated. Use tobytes() instead.\n",
      "  self._proc.stdin.write(vid.tostring())\n",
      "/home/jamalex/miniconda3/envs/ldm/lib/python3.8/site-packages/skvideo/io/abstract.py:514: DeprecationWarning: tostring() is deprecated. Use tobytes() instead.\n",
      "  self._proc.stdin.write(vid.tostring())\n",
      "/home/jamalex/miniconda3/envs/ldm/lib/python3.8/site-packages/skvideo/io/abstract.py:514: DeprecationWarning: tostring() is deprecated. Use tobytes() instead.\n",
      "  self._proc.stdin.write(vid.tostring())\n"
     ]
    },
    {
     "name": "stderr",
     "output_type": "stream",
     "text": [
      "/home/jamalex/miniconda3/envs/ldm/lib/python3.8/site-packages/skvideo/io/abstract.py:514: DeprecationWarning: tostring() is deprecated. Use tobytes() instead.\n",
      "  self._proc.stdin.write(vid.tostring())\n",
      "/home/jamalex/miniconda3/envs/ldm/lib/python3.8/site-packages/skvideo/io/abstract.py:514: DeprecationWarning: tostring() is deprecated. Use tobytes() instead.\n",
      "  self._proc.stdin.write(vid.tostring())\n",
      "/home/jamalex/miniconda3/envs/ldm/lib/python3.8/site-packages/skvideo/io/abstract.py:514: DeprecationWarning: tostring() is deprecated. Use tobytes() instead.\n",
      "  self._proc.stdin.write(vid.tostring())\n",
      "/home/jamalex/miniconda3/envs/ldm/lib/python3.8/site-packages/skvideo/io/abstract.py:514: DeprecationWarning: tostring() is deprecated. Use tobytes() instead.\n",
      "  self._proc.stdin.write(vid.tostring())\n",
      "/home/jamalex/miniconda3/envs/ldm/lib/python3.8/site-packages/skvideo/io/abstract.py:514: DeprecationWarning: tostring() is deprecated. Use tobytes() instead.\n",
      "  self._proc.stdin.write(vid.tostring())\n",
      "/home/jamalex/miniconda3/envs/ldm/lib/python3.8/site-packages/skvideo/io/abstract.py:514: DeprecationWarning: tostring() is deprecated. Use tobytes() instead.\n",
      "  self._proc.stdin.write(vid.tostring())\n",
      "/home/jamalex/miniconda3/envs/ldm/lib/python3.8/site-packages/skvideo/io/abstract.py:514: DeprecationWarning: tostring() is deprecated. Use tobytes() instead.\n",
      "  self._proc.stdin.write(vid.tostring())\n",
      "/home/jamalex/miniconda3/envs/ldm/lib/python3.8/site-packages/skvideo/io/abstract.py:514: DeprecationWarning: tostring() is deprecated. Use tobytes() instead.\n",
      "  self._proc.stdin.write(vid.tostring())\n",
      "/home/jamalex/miniconda3/envs/ldm/lib/python3.8/site-packages/skvideo/io/abstract.py:514: DeprecationWarning: tostring() is deprecated. Use tobytes() instead.\n",
      "  self._proc.stdin.write(vid.tostring())\n",
      "/home/jamalex/miniconda3/envs/ldm/lib/python3.8/site-packages/skvideo/io/abstract.py:514: DeprecationWarning: tostring() is deprecated. Use tobytes() instead.\n",
      "  self._proc.stdin.write(vid.tostring())\n",
      "/home/jamalex/miniconda3/envs/ldm/lib/python3.8/site-packages/skvideo/io/abstract.py:514: DeprecationWarning: tostring() is deprecated. Use tobytes() instead.\n",
      "  self._proc.stdin.write(vid.tostring())\n",
      "/home/jamalex/miniconda3/envs/ldm/lib/python3.8/site-packages/skvideo/io/abstract.py:514: DeprecationWarning: tostring() is deprecated. Use tobytes() instead.\n",
      "  self._proc.stdin.write(vid.tostring())\n",
      "/home/jamalex/miniconda3/envs/ldm/lib/python3.8/site-packages/skvideo/io/abstract.py:514: DeprecationWarning: tostring() is deprecated. Use tobytes() instead.\n",
      "  self._proc.stdin.write(vid.tostring())\n",
      "/home/jamalex/miniconda3/envs/ldm/lib/python3.8/site-packages/skvideo/io/abstract.py:514: DeprecationWarning: tostring() is deprecated. Use tobytes() instead.\n",
      "  self._proc.stdin.write(vid.tostring())\n",
      "/home/jamalex/miniconda3/envs/ldm/lib/python3.8/site-packages/skvideo/io/abstract.py:514: DeprecationWarning: tostring() is deprecated. Use tobytes() instead.\n",
      "  self._proc.stdin.write(vid.tostring())\n",
      "/home/jamalex/miniconda3/envs/ldm/lib/python3.8/site-packages/skvideo/io/abstract.py:514: DeprecationWarning: tostring() is deprecated. Use tobytes() instead.\n",
      "  self._proc.stdin.write(vid.tostring())\n",
      "/home/jamalex/miniconda3/envs/ldm/lib/python3.8/site-packages/skvideo/io/abstract.py:514: DeprecationWarning: tostring() is deprecated. Use tobytes() instead.\n",
      "  self._proc.stdin.write(vid.tostring())\n",
      "/home/jamalex/miniconda3/envs/ldm/lib/python3.8/site-packages/skvideo/io/abstract.py:514: DeprecationWarning: tostring() is deprecated. Use tobytes() instead.\n",
      "  self._proc.stdin.write(vid.tostring())\n",
      "/home/jamalex/miniconda3/envs/ldm/lib/python3.8/site-packages/skvideo/io/abstract.py:514: DeprecationWarning: tostring() is deprecated. Use tobytes() instead.\n",
      "  self._proc.stdin.write(vid.tostring())\n",
      "/home/jamalex/miniconda3/envs/ldm/lib/python3.8/site-packages/skvideo/io/abstract.py:514: DeprecationWarning: tostring() is deprecated. Use tobytes() instead.\n",
      "  self._proc.stdin.write(vid.tostring())\n",
      "/home/jamalex/miniconda3/envs/ldm/lib/python3.8/site-packages/skvideo/io/abstract.py:514: DeprecationWarning: tostring() is deprecated. Use tobytes() instead.\n",
      "  self._proc.stdin.write(vid.tostring())\n",
      "/home/jamalex/miniconda3/envs/ldm/lib/python3.8/site-packages/skvideo/io/abstract.py:514: DeprecationWarning: tostring() is deprecated. Use tobytes() instead.\n",
      "  self._proc.stdin.write(vid.tostring())\n",
      "/home/jamalex/miniconda3/envs/ldm/lib/python3.8/site-packages/skvideo/io/abstract.py:514: DeprecationWarning: tostring() is deprecated. Use tobytes() instead.\n",
      "  self._proc.stdin.write(vid.tostring())\n",
      "/home/jamalex/miniconda3/envs/ldm/lib/python3.8/site-packages/skvideo/io/abstract.py:514: DeprecationWarning: tostring() is deprecated. Use tobytes() instead.\n",
      "  self._proc.stdin.write(vid.tostring())\n",
      "/home/jamalex/miniconda3/envs/ldm/lib/python3.8/site-packages/skvideo/io/abstract.py:514: DeprecationWarning: tostring() is deprecated. Use tobytes() instead.\n",
      "  self._proc.stdin.write(vid.tostring())\n",
      "/home/jamalex/miniconda3/envs/ldm/lib/python3.8/site-packages/skvideo/io/abstract.py:514: DeprecationWarning: tostring() is deprecated. Use tobytes() instead.\n",
      "  self._proc.stdin.write(vid.tostring())\n",
      "/home/jamalex/miniconda3/envs/ldm/lib/python3.8/site-packages/skvideo/io/abstract.py:514: DeprecationWarning: tostring() is deprecated. Use tobytes() instead.\n",
      "  self._proc.stdin.write(vid.tostring())\n",
      "/home/jamalex/miniconda3/envs/ldm/lib/python3.8/site-packages/skvideo/io/abstract.py:514: DeprecationWarning: tostring() is deprecated. Use tobytes() instead.\n",
      "  self._proc.stdin.write(vid.tostring())\n",
      "/home/jamalex/miniconda3/envs/ldm/lib/python3.8/site-packages/skvideo/io/abstract.py:514: DeprecationWarning: tostring() is deprecated. Use tobytes() instead.\n",
      "  self._proc.stdin.write(vid.tostring())\n",
      "/home/jamalex/miniconda3/envs/ldm/lib/python3.8/site-packages/skvideo/io/abstract.py:514: DeprecationWarning: tostring() is deprecated. Use tobytes() instead.\n",
      "  self._proc.stdin.write(vid.tostring())\n",
      "/home/jamalex/miniconda3/envs/ldm/lib/python3.8/site-packages/skvideo/io/abstract.py:514: DeprecationWarning: tostring() is deprecated. Use tobytes() instead.\n",
      "  self._proc.stdin.write(vid.tostring())\n",
      "/home/jamalex/miniconda3/envs/ldm/lib/python3.8/site-packages/skvideo/io/abstract.py:514: DeprecationWarning: tostring() is deprecated. Use tobytes() instead.\n",
      "  self._proc.stdin.write(vid.tostring())\n",
      "/home/jamalex/miniconda3/envs/ldm/lib/python3.8/site-packages/skvideo/io/abstract.py:514: DeprecationWarning: tostring() is deprecated. Use tobytes() instead.\n",
      "  self._proc.stdin.write(vid.tostring())\n",
      "/home/jamalex/miniconda3/envs/ldm/lib/python3.8/site-packages/skvideo/io/abstract.py:514: DeprecationWarning: tostring() is deprecated. Use tobytes() instead.\n",
      "  self._proc.stdin.write(vid.tostring())\n",
      "/home/jamalex/miniconda3/envs/ldm/lib/python3.8/site-packages/skvideo/io/abstract.py:514: DeprecationWarning: tostring() is deprecated. Use tobytes() instead.\n",
      "  self._proc.stdin.write(vid.tostring())\n",
      "/home/jamalex/miniconda3/envs/ldm/lib/python3.8/site-packages/skvideo/io/abstract.py:514: DeprecationWarning: tostring() is deprecated. Use tobytes() instead.\n",
      "  self._proc.stdin.write(vid.tostring())\n",
      "/home/jamalex/miniconda3/envs/ldm/lib/python3.8/site-packages/skvideo/io/abstract.py:514: DeprecationWarning: tostring() is deprecated. Use tobytes() instead.\n",
      "  self._proc.stdin.write(vid.tostring())\n",
      "/home/jamalex/miniconda3/envs/ldm/lib/python3.8/site-packages/skvideo/io/abstract.py:514: DeprecationWarning: tostring() is deprecated. Use tobytes() instead.\n",
      "  self._proc.stdin.write(vid.tostring())\n",
      "/home/jamalex/miniconda3/envs/ldm/lib/python3.8/site-packages/skvideo/io/abstract.py:514: DeprecationWarning: tostring() is deprecated. Use tobytes() instead.\n",
      "  self._proc.stdin.write(vid.tostring())\n",
      "/home/jamalex/miniconda3/envs/ldm/lib/python3.8/site-packages/skvideo/io/abstract.py:514: DeprecationWarning: tostring() is deprecated. Use tobytes() instead.\n",
      "  self._proc.stdin.write(vid.tostring())\n",
      "/home/jamalex/miniconda3/envs/ldm/lib/python3.8/site-packages/skvideo/io/abstract.py:514: DeprecationWarning: tostring() is deprecated. Use tobytes() instead.\n",
      "  self._proc.stdin.write(vid.tostring())\n"
     ]
    },
    {
     "name": "stderr",
     "output_type": "stream",
     "text": [
      "/home/jamalex/miniconda3/envs/ldm/lib/python3.8/site-packages/skvideo/io/abstract.py:514: DeprecationWarning: tostring() is deprecated. Use tobytes() instead.\n",
      "  self._proc.stdin.write(vid.tostring())\n",
      "/home/jamalex/miniconda3/envs/ldm/lib/python3.8/site-packages/skvideo/io/abstract.py:514: DeprecationWarning: tostring() is deprecated. Use tobytes() instead.\n",
      "  self._proc.stdin.write(vid.tostring())\n",
      "/home/jamalex/miniconda3/envs/ldm/lib/python3.8/site-packages/skvideo/io/abstract.py:514: DeprecationWarning: tostring() is deprecated. Use tobytes() instead.\n",
      "  self._proc.stdin.write(vid.tostring())\n",
      "/home/jamalex/miniconda3/envs/ldm/lib/python3.8/site-packages/skvideo/io/abstract.py:514: DeprecationWarning: tostring() is deprecated. Use tobytes() instead.\n",
      "  self._proc.stdin.write(vid.tostring())\n",
      "/home/jamalex/miniconda3/envs/ldm/lib/python3.8/site-packages/skvideo/io/abstract.py:514: DeprecationWarning: tostring() is deprecated. Use tobytes() instead.\n",
      "  self._proc.stdin.write(vid.tostring())\n",
      "/home/jamalex/miniconda3/envs/ldm/lib/python3.8/site-packages/skvideo/io/abstract.py:514: DeprecationWarning: tostring() is deprecated. Use tobytes() instead.\n",
      "  self._proc.stdin.write(vid.tostring())\n",
      "/home/jamalex/miniconda3/envs/ldm/lib/python3.8/site-packages/skvideo/io/abstract.py:514: DeprecationWarning: tostring() is deprecated. Use tobytes() instead.\n",
      "  self._proc.stdin.write(vid.tostring())\n",
      "/home/jamalex/miniconda3/envs/ldm/lib/python3.8/site-packages/skvideo/io/abstract.py:514: DeprecationWarning: tostring() is deprecated. Use tobytes() instead.\n",
      "  self._proc.stdin.write(vid.tostring())\n",
      "/home/jamalex/miniconda3/envs/ldm/lib/python3.8/site-packages/skvideo/io/abstract.py:514: DeprecationWarning: tostring() is deprecated. Use tobytes() instead.\n",
      "  self._proc.stdin.write(vid.tostring())\n",
      "/home/jamalex/miniconda3/envs/ldm/lib/python3.8/site-packages/skvideo/io/abstract.py:514: DeprecationWarning: tostring() is deprecated. Use tobytes() instead.\n",
      "  self._proc.stdin.write(vid.tostring())\n",
      "/home/jamalex/miniconda3/envs/ldm/lib/python3.8/site-packages/skvideo/io/abstract.py:514: DeprecationWarning: tostring() is deprecated. Use tobytes() instead.\n",
      "  self._proc.stdin.write(vid.tostring())\n",
      "/home/jamalex/miniconda3/envs/ldm/lib/python3.8/site-packages/skvideo/io/abstract.py:514: DeprecationWarning: tostring() is deprecated. Use tobytes() instead.\n",
      "  self._proc.stdin.write(vid.tostring())\n",
      "/home/jamalex/miniconda3/envs/ldm/lib/python3.8/site-packages/skvideo/io/abstract.py:514: DeprecationWarning: tostring() is deprecated. Use tobytes() instead.\n",
      "  self._proc.stdin.write(vid.tostring())\n",
      "/home/jamalex/miniconda3/envs/ldm/lib/python3.8/site-packages/skvideo/io/abstract.py:514: DeprecationWarning: tostring() is deprecated. Use tobytes() instead.\n",
      "  self._proc.stdin.write(vid.tostring())\n",
      "/home/jamalex/miniconda3/envs/ldm/lib/python3.8/site-packages/skvideo/io/abstract.py:514: DeprecationWarning: tostring() is deprecated. Use tobytes() instead.\n",
      "  self._proc.stdin.write(vid.tostring())\n",
      "/home/jamalex/miniconda3/envs/ldm/lib/python3.8/site-packages/skvideo/io/abstract.py:514: DeprecationWarning: tostring() is deprecated. Use tobytes() instead.\n",
      "  self._proc.stdin.write(vid.tostring())\n",
      "/home/jamalex/miniconda3/envs/ldm/lib/python3.8/site-packages/skvideo/io/abstract.py:514: DeprecationWarning: tostring() is deprecated. Use tobytes() instead.\n",
      "  self._proc.stdin.write(vid.tostring())\n",
      "/home/jamalex/miniconda3/envs/ldm/lib/python3.8/site-packages/skvideo/io/abstract.py:514: DeprecationWarning: tostring() is deprecated. Use tobytes() instead.\n",
      "  self._proc.stdin.write(vid.tostring())\n",
      "/home/jamalex/miniconda3/envs/ldm/lib/python3.8/site-packages/skvideo/io/abstract.py:514: DeprecationWarning: tostring() is deprecated. Use tobytes() instead.\n",
      "  self._proc.stdin.write(vid.tostring())\n",
      "/home/jamalex/miniconda3/envs/ldm/lib/python3.8/site-packages/skvideo/io/abstract.py:514: DeprecationWarning: tostring() is deprecated. Use tobytes() instead.\n",
      "  self._proc.stdin.write(vid.tostring())\n",
      "/home/jamalex/miniconda3/envs/ldm/lib/python3.8/site-packages/skvideo/io/abstract.py:514: DeprecationWarning: tostring() is deprecated. Use tobytes() instead.\n",
      "  self._proc.stdin.write(vid.tostring())\n",
      "/home/jamalex/miniconda3/envs/ldm/lib/python3.8/site-packages/skvideo/io/abstract.py:514: DeprecationWarning: tostring() is deprecated. Use tobytes() instead.\n",
      "  self._proc.stdin.write(vid.tostring())\n",
      "/home/jamalex/miniconda3/envs/ldm/lib/python3.8/site-packages/skvideo/io/abstract.py:514: DeprecationWarning: tostring() is deprecated. Use tobytes() instead.\n",
      "  self._proc.stdin.write(vid.tostring())\n",
      "/home/jamalex/miniconda3/envs/ldm/lib/python3.8/site-packages/skvideo/io/abstract.py:514: DeprecationWarning: tostring() is deprecated. Use tobytes() instead.\n",
      "  self._proc.stdin.write(vid.tostring())\n",
      "/home/jamalex/miniconda3/envs/ldm/lib/python3.8/site-packages/skvideo/io/abstract.py:514: DeprecationWarning: tostring() is deprecated. Use tobytes() instead.\n",
      "  self._proc.stdin.write(vid.tostring())\n",
      "/home/jamalex/miniconda3/envs/ldm/lib/python3.8/site-packages/skvideo/io/abstract.py:514: DeprecationWarning: tostring() is deprecated. Use tobytes() instead.\n",
      "  self._proc.stdin.write(vid.tostring())\n",
      "/home/jamalex/miniconda3/envs/ldm/lib/python3.8/site-packages/skvideo/io/abstract.py:514: DeprecationWarning: tostring() is deprecated. Use tobytes() instead.\n",
      "  self._proc.stdin.write(vid.tostring())\n",
      "/home/jamalex/miniconda3/envs/ldm/lib/python3.8/site-packages/skvideo/io/abstract.py:514: DeprecationWarning: tostring() is deprecated. Use tobytes() instead.\n",
      "  self._proc.stdin.write(vid.tostring())\n",
      "/home/jamalex/miniconda3/envs/ldm/lib/python3.8/site-packages/skvideo/io/abstract.py:514: DeprecationWarning: tostring() is deprecated. Use tobytes() instead.\n",
      "  self._proc.stdin.write(vid.tostring())\n",
      "/home/jamalex/miniconda3/envs/ldm/lib/python3.8/site-packages/skvideo/io/abstract.py:514: DeprecationWarning: tostring() is deprecated. Use tobytes() instead.\n",
      "  self._proc.stdin.write(vid.tostring())\n",
      "/home/jamalex/miniconda3/envs/ldm/lib/python3.8/site-packages/skvideo/io/abstract.py:514: DeprecationWarning: tostring() is deprecated. Use tobytes() instead.\n",
      "  self._proc.stdin.write(vid.tostring())\n",
      "/home/jamalex/miniconda3/envs/ldm/lib/python3.8/site-packages/skvideo/io/abstract.py:514: DeprecationWarning: tostring() is deprecated. Use tobytes() instead.\n",
      "  self._proc.stdin.write(vid.tostring())\n",
      "/home/jamalex/miniconda3/envs/ldm/lib/python3.8/site-packages/skvideo/io/abstract.py:514: DeprecationWarning: tostring() is deprecated. Use tobytes() instead.\n",
      "  self._proc.stdin.write(vid.tostring())\n",
      "/home/jamalex/miniconda3/envs/ldm/lib/python3.8/site-packages/skvideo/io/abstract.py:514: DeprecationWarning: tostring() is deprecated. Use tobytes() instead.\n",
      "  self._proc.stdin.write(vid.tostring())\n",
      "/home/jamalex/miniconda3/envs/ldm/lib/python3.8/site-packages/skvideo/io/abstract.py:514: DeprecationWarning: tostring() is deprecated. Use tobytes() instead.\n",
      "  self._proc.stdin.write(vid.tostring())\n",
      "/home/jamalex/miniconda3/envs/ldm/lib/python3.8/site-packages/skvideo/io/abstract.py:514: DeprecationWarning: tostring() is deprecated. Use tobytes() instead.\n",
      "  self._proc.stdin.write(vid.tostring())\n",
      "/home/jamalex/miniconda3/envs/ldm/lib/python3.8/site-packages/skvideo/io/abstract.py:514: DeprecationWarning: tostring() is deprecated. Use tobytes() instead.\n",
      "  self._proc.stdin.write(vid.tostring())\n",
      "/home/jamalex/miniconda3/envs/ldm/lib/python3.8/site-packages/skvideo/io/abstract.py:514: DeprecationWarning: tostring() is deprecated. Use tobytes() instead.\n",
      "  self._proc.stdin.write(vid.tostring())\n",
      "/home/jamalex/miniconda3/envs/ldm/lib/python3.8/site-packages/skvideo/io/abstract.py:514: DeprecationWarning: tostring() is deprecated. Use tobytes() instead.\n",
      "  self._proc.stdin.write(vid.tostring())\n",
      "/home/jamalex/miniconda3/envs/ldm/lib/python3.8/site-packages/skvideo/io/abstract.py:514: DeprecationWarning: tostring() is deprecated. Use tobytes() instead.\n",
      "  self._proc.stdin.write(vid.tostring())\n",
      "/home/jamalex/miniconda3/envs/ldm/lib/python3.8/site-packages/skvideo/io/abstract.py:514: DeprecationWarning: tostring() is deprecated. Use tobytes() instead.\n",
      "  self._proc.stdin.write(vid.tostring())\n",
      "/home/jamalex/miniconda3/envs/ldm/lib/python3.8/site-packages/skvideo/io/abstract.py:514: DeprecationWarning: tostring() is deprecated. Use tobytes() instead.\n",
      "  self._proc.stdin.write(vid.tostring())\n",
      "/home/jamalex/miniconda3/envs/ldm/lib/python3.8/site-packages/skvideo/io/abstract.py:514: DeprecationWarning: tostring() is deprecated. Use tobytes() instead.\n",
      "  self._proc.stdin.write(vid.tostring())\n",
      "/home/jamalex/miniconda3/envs/ldm/lib/python3.8/site-packages/skvideo/io/abstract.py:514: DeprecationWarning: tostring() is deprecated. Use tobytes() instead.\n",
      "  self._proc.stdin.write(vid.tostring())\n",
      "/home/jamalex/miniconda3/envs/ldm/lib/python3.8/site-packages/skvideo/io/abstract.py:514: DeprecationWarning: tostring() is deprecated. Use tobytes() instead.\n",
      "  self._proc.stdin.write(vid.tostring())\n"
     ]
    },
    {
     "name": "stderr",
     "output_type": "stream",
     "text": [
      "/home/jamalex/miniconda3/envs/ldm/lib/python3.8/site-packages/skvideo/io/abstract.py:514: DeprecationWarning: tostring() is deprecated. Use tobytes() instead.\n",
      "  self._proc.stdin.write(vid.tostring())\n",
      "/home/jamalex/miniconda3/envs/ldm/lib/python3.8/site-packages/skvideo/io/abstract.py:514: DeprecationWarning: tostring() is deprecated. Use tobytes() instead.\n",
      "  self._proc.stdin.write(vid.tostring())\n",
      "/home/jamalex/miniconda3/envs/ldm/lib/python3.8/site-packages/skvideo/io/abstract.py:514: DeprecationWarning: tostring() is deprecated. Use tobytes() instead.\n",
      "  self._proc.stdin.write(vid.tostring())\n",
      "/home/jamalex/miniconda3/envs/ldm/lib/python3.8/site-packages/skvideo/io/abstract.py:514: DeprecationWarning: tostring() is deprecated. Use tobytes() instead.\n",
      "  self._proc.stdin.write(vid.tostring())\n",
      "/home/jamalex/miniconda3/envs/ldm/lib/python3.8/site-packages/skvideo/io/abstract.py:514: DeprecationWarning: tostring() is deprecated. Use tobytes() instead.\n",
      "  self._proc.stdin.write(vid.tostring())\n",
      "/home/jamalex/miniconda3/envs/ldm/lib/python3.8/site-packages/skvideo/io/abstract.py:514: DeprecationWarning: tostring() is deprecated. Use tobytes() instead.\n",
      "  self._proc.stdin.write(vid.tostring())\n",
      "/home/jamalex/miniconda3/envs/ldm/lib/python3.8/site-packages/skvideo/io/abstract.py:514: DeprecationWarning: tostring() is deprecated. Use tobytes() instead.\n",
      "  self._proc.stdin.write(vid.tostring())\n",
      "/home/jamalex/miniconda3/envs/ldm/lib/python3.8/site-packages/skvideo/io/abstract.py:514: DeprecationWarning: tostring() is deprecated. Use tobytes() instead.\n",
      "  self._proc.stdin.write(vid.tostring())\n",
      "/home/jamalex/miniconda3/envs/ldm/lib/python3.8/site-packages/skvideo/io/abstract.py:514: DeprecationWarning: tostring() is deprecated. Use tobytes() instead.\n",
      "  self._proc.stdin.write(vid.tostring())\n",
      "/home/jamalex/miniconda3/envs/ldm/lib/python3.8/site-packages/skvideo/io/abstract.py:514: DeprecationWarning: tostring() is deprecated. Use tobytes() instead.\n",
      "  self._proc.stdin.write(vid.tostring())\n",
      "/home/jamalex/miniconda3/envs/ldm/lib/python3.8/site-packages/skvideo/io/abstract.py:514: DeprecationWarning: tostring() is deprecated. Use tobytes() instead.\n",
      "  self._proc.stdin.write(vid.tostring())\n",
      "/home/jamalex/miniconda3/envs/ldm/lib/python3.8/site-packages/skvideo/io/abstract.py:514: DeprecationWarning: tostring() is deprecated. Use tobytes() instead.\n",
      "  self._proc.stdin.write(vid.tostring())\n",
      "/home/jamalex/miniconda3/envs/ldm/lib/python3.8/site-packages/skvideo/io/abstract.py:514: DeprecationWarning: tostring() is deprecated. Use tobytes() instead.\n",
      "  self._proc.stdin.write(vid.tostring())\n",
      "/home/jamalex/miniconda3/envs/ldm/lib/python3.8/site-packages/skvideo/io/abstract.py:514: DeprecationWarning: tostring() is deprecated. Use tobytes() instead.\n",
      "  self._proc.stdin.write(vid.tostring())\n",
      "/home/jamalex/miniconda3/envs/ldm/lib/python3.8/site-packages/skvideo/io/abstract.py:514: DeprecationWarning: tostring() is deprecated. Use tobytes() instead.\n",
      "  self._proc.stdin.write(vid.tostring())\n",
      "/home/jamalex/miniconda3/envs/ldm/lib/python3.8/site-packages/skvideo/io/abstract.py:514: DeprecationWarning: tostring() is deprecated. Use tobytes() instead.\n",
      "  self._proc.stdin.write(vid.tostring())\n",
      "/home/jamalex/miniconda3/envs/ldm/lib/python3.8/site-packages/skvideo/io/abstract.py:514: DeprecationWarning: tostring() is deprecated. Use tobytes() instead.\n",
      "  self._proc.stdin.write(vid.tostring())\n",
      "/home/jamalex/miniconda3/envs/ldm/lib/python3.8/site-packages/skvideo/io/abstract.py:514: DeprecationWarning: tostring() is deprecated. Use tobytes() instead.\n",
      "  self._proc.stdin.write(vid.tostring())\n",
      "/home/jamalex/miniconda3/envs/ldm/lib/python3.8/site-packages/skvideo/io/abstract.py:514: DeprecationWarning: tostring() is deprecated. Use tobytes() instead.\n",
      "  self._proc.stdin.write(vid.tostring())\n",
      "/home/jamalex/miniconda3/envs/ldm/lib/python3.8/site-packages/skvideo/io/abstract.py:514: DeprecationWarning: tostring() is deprecated. Use tobytes() instead.\n",
      "  self._proc.stdin.write(vid.tostring())\n",
      "/home/jamalex/miniconda3/envs/ldm/lib/python3.8/site-packages/skvideo/io/abstract.py:514: DeprecationWarning: tostring() is deprecated. Use tobytes() instead.\n",
      "  self._proc.stdin.write(vid.tostring())\n",
      "/home/jamalex/miniconda3/envs/ldm/lib/python3.8/site-packages/skvideo/io/abstract.py:514: DeprecationWarning: tostring() is deprecated. Use tobytes() instead.\n",
      "  self._proc.stdin.write(vid.tostring())\n",
      "/home/jamalex/miniconda3/envs/ldm/lib/python3.8/site-packages/skvideo/io/abstract.py:514: DeprecationWarning: tostring() is deprecated. Use tobytes() instead.\n",
      "  self._proc.stdin.write(vid.tostring())\n",
      "/home/jamalex/miniconda3/envs/ldm/lib/python3.8/site-packages/skvideo/io/abstract.py:514: DeprecationWarning: tostring() is deprecated. Use tobytes() instead.\n",
      "  self._proc.stdin.write(vid.tostring())\n",
      "/home/jamalex/miniconda3/envs/ldm/lib/python3.8/site-packages/skvideo/io/abstract.py:514: DeprecationWarning: tostring() is deprecated. Use tobytes() instead.\n",
      "  self._proc.stdin.write(vid.tostring())\n",
      "/home/jamalex/miniconda3/envs/ldm/lib/python3.8/site-packages/skvideo/io/abstract.py:514: DeprecationWarning: tostring() is deprecated. Use tobytes() instead.\n",
      "  self._proc.stdin.write(vid.tostring())\n",
      "/home/jamalex/miniconda3/envs/ldm/lib/python3.8/site-packages/skvideo/io/abstract.py:514: DeprecationWarning: tostring() is deprecated. Use tobytes() instead.\n",
      "  self._proc.stdin.write(vid.tostring())\n",
      "/home/jamalex/miniconda3/envs/ldm/lib/python3.8/site-packages/skvideo/io/abstract.py:514: DeprecationWarning: tostring() is deprecated. Use tobytes() instead.\n",
      "  self._proc.stdin.write(vid.tostring())\n",
      "/home/jamalex/miniconda3/envs/ldm/lib/python3.8/site-packages/skvideo/io/abstract.py:514: DeprecationWarning: tostring() is deprecated. Use tobytes() instead.\n",
      "  self._proc.stdin.write(vid.tostring())\n",
      "/home/jamalex/miniconda3/envs/ldm/lib/python3.8/site-packages/skvideo/io/abstract.py:514: DeprecationWarning: tostring() is deprecated. Use tobytes() instead.\n",
      "  self._proc.stdin.write(vid.tostring())\n",
      "/home/jamalex/miniconda3/envs/ldm/lib/python3.8/site-packages/skvideo/io/abstract.py:514: DeprecationWarning: tostring() is deprecated. Use tobytes() instead.\n",
      "  self._proc.stdin.write(vid.tostring())\n",
      "/home/jamalex/miniconda3/envs/ldm/lib/python3.8/site-packages/skvideo/io/abstract.py:514: DeprecationWarning: tostring() is deprecated. Use tobytes() instead.\n",
      "  self._proc.stdin.write(vid.tostring())\n",
      "/home/jamalex/miniconda3/envs/ldm/lib/python3.8/site-packages/skvideo/io/abstract.py:514: DeprecationWarning: tostring() is deprecated. Use tobytes() instead.\n",
      "  self._proc.stdin.write(vid.tostring())\n",
      "/home/jamalex/miniconda3/envs/ldm/lib/python3.8/site-packages/skvideo/io/abstract.py:514: DeprecationWarning: tostring() is deprecated. Use tobytes() instead.\n",
      "  self._proc.stdin.write(vid.tostring())\n",
      "/home/jamalex/miniconda3/envs/ldm/lib/python3.8/site-packages/skvideo/io/abstract.py:514: DeprecationWarning: tostring() is deprecated. Use tobytes() instead.\n",
      "  self._proc.stdin.write(vid.tostring())\n",
      "/home/jamalex/miniconda3/envs/ldm/lib/python3.8/site-packages/skvideo/io/abstract.py:514: DeprecationWarning: tostring() is deprecated. Use tobytes() instead.\n",
      "  self._proc.stdin.write(vid.tostring())\n",
      "/home/jamalex/miniconda3/envs/ldm/lib/python3.8/site-packages/skvideo/io/abstract.py:514: DeprecationWarning: tostring() is deprecated. Use tobytes() instead.\n",
      "  self._proc.stdin.write(vid.tostring())\n",
      "/home/jamalex/miniconda3/envs/ldm/lib/python3.8/site-packages/skvideo/io/abstract.py:514: DeprecationWarning: tostring() is deprecated. Use tobytes() instead.\n",
      "  self._proc.stdin.write(vid.tostring())\n",
      "/home/jamalex/miniconda3/envs/ldm/lib/python3.8/site-packages/skvideo/io/abstract.py:514: DeprecationWarning: tostring() is deprecated. Use tobytes() instead.\n",
      "  self._proc.stdin.write(vid.tostring())\n",
      "/home/jamalex/miniconda3/envs/ldm/lib/python3.8/site-packages/skvideo/io/abstract.py:514: DeprecationWarning: tostring() is deprecated. Use tobytes() instead.\n",
      "  self._proc.stdin.write(vid.tostring())\n",
      "/home/jamalex/miniconda3/envs/ldm/lib/python3.8/site-packages/skvideo/io/abstract.py:514: DeprecationWarning: tostring() is deprecated. Use tobytes() instead.\n",
      "  self._proc.stdin.write(vid.tostring())\n",
      "/home/jamalex/miniconda3/envs/ldm/lib/python3.8/site-packages/skvideo/io/abstract.py:514: DeprecationWarning: tostring() is deprecated. Use tobytes() instead.\n",
      "  self._proc.stdin.write(vid.tostring())\n",
      "/home/jamalex/miniconda3/envs/ldm/lib/python3.8/site-packages/skvideo/io/abstract.py:514: DeprecationWarning: tostring() is deprecated. Use tobytes() instead.\n",
      "  self._proc.stdin.write(vid.tostring())\n",
      "/home/jamalex/miniconda3/envs/ldm/lib/python3.8/site-packages/skvideo/io/abstract.py:514: DeprecationWarning: tostring() is deprecated. Use tobytes() instead.\n",
      "  self._proc.stdin.write(vid.tostring())\n",
      "/home/jamalex/miniconda3/envs/ldm/lib/python3.8/site-packages/skvideo/io/abstract.py:514: DeprecationWarning: tostring() is deprecated. Use tobytes() instead.\n",
      "  self._proc.stdin.write(vid.tostring())\n",
      "/home/jamalex/miniconda3/envs/ldm/lib/python3.8/site-packages/skvideo/io/abstract.py:514: DeprecationWarning: tostring() is deprecated. Use tobytes() instead.\n",
      "  self._proc.stdin.write(vid.tostring())\n"
     ]
    },
    {
     "name": "stderr",
     "output_type": "stream",
     "text": [
      "/home/jamalex/miniconda3/envs/ldm/lib/python3.8/site-packages/skvideo/io/abstract.py:514: DeprecationWarning: tostring() is deprecated. Use tobytes() instead.\n",
      "  self._proc.stdin.write(vid.tostring())\n",
      "/home/jamalex/miniconda3/envs/ldm/lib/python3.8/site-packages/skvideo/io/abstract.py:514: DeprecationWarning: tostring() is deprecated. Use tobytes() instead.\n",
      "  self._proc.stdin.write(vid.tostring())\n",
      "/home/jamalex/miniconda3/envs/ldm/lib/python3.8/site-packages/skvideo/io/abstract.py:514: DeprecationWarning: tostring() is deprecated. Use tobytes() instead.\n",
      "  self._proc.stdin.write(vid.tostring())\n",
      "/home/jamalex/miniconda3/envs/ldm/lib/python3.8/site-packages/skvideo/io/abstract.py:514: DeprecationWarning: tostring() is deprecated. Use tobytes() instead.\n",
      "  self._proc.stdin.write(vid.tostring())\n",
      "/home/jamalex/miniconda3/envs/ldm/lib/python3.8/site-packages/skvideo/io/abstract.py:514: DeprecationWarning: tostring() is deprecated. Use tobytes() instead.\n",
      "  self._proc.stdin.write(vid.tostring())\n",
      "/home/jamalex/miniconda3/envs/ldm/lib/python3.8/site-packages/skvideo/io/abstract.py:514: DeprecationWarning: tostring() is deprecated. Use tobytes() instead.\n",
      "  self._proc.stdin.write(vid.tostring())\n",
      "/home/jamalex/miniconda3/envs/ldm/lib/python3.8/site-packages/skvideo/io/abstract.py:514: DeprecationWarning: tostring() is deprecated. Use tobytes() instead.\n",
      "  self._proc.stdin.write(vid.tostring())\n",
      "/home/jamalex/miniconda3/envs/ldm/lib/python3.8/site-packages/skvideo/io/abstract.py:514: DeprecationWarning: tostring() is deprecated. Use tobytes() instead.\n",
      "  self._proc.stdin.write(vid.tostring())\n",
      "/home/jamalex/miniconda3/envs/ldm/lib/python3.8/site-packages/skvideo/io/abstract.py:514: DeprecationWarning: tostring() is deprecated. Use tobytes() instead.\n",
      "  self._proc.stdin.write(vid.tostring())\n",
      "/home/jamalex/miniconda3/envs/ldm/lib/python3.8/site-packages/skvideo/io/abstract.py:514: DeprecationWarning: tostring() is deprecated. Use tobytes() instead.\n",
      "  self._proc.stdin.write(vid.tostring())\n",
      "/home/jamalex/miniconda3/envs/ldm/lib/python3.8/site-packages/skvideo/io/abstract.py:514: DeprecationWarning: tostring() is deprecated. Use tobytes() instead.\n",
      "  self._proc.stdin.write(vid.tostring())\n",
      "/home/jamalex/miniconda3/envs/ldm/lib/python3.8/site-packages/skvideo/io/abstract.py:514: DeprecationWarning: tostring() is deprecated. Use tobytes() instead.\n",
      "  self._proc.stdin.write(vid.tostring())\n",
      "/home/jamalex/miniconda3/envs/ldm/lib/python3.8/site-packages/skvideo/io/abstract.py:514: DeprecationWarning: tostring() is deprecated. Use tobytes() instead.\n",
      "  self._proc.stdin.write(vid.tostring())\n",
      "/home/jamalex/miniconda3/envs/ldm/lib/python3.8/site-packages/skvideo/io/abstract.py:514: DeprecationWarning: tostring() is deprecated. Use tobytes() instead.\n",
      "  self._proc.stdin.write(vid.tostring())\n",
      "/home/jamalex/miniconda3/envs/ldm/lib/python3.8/site-packages/skvideo/io/abstract.py:514: DeprecationWarning: tostring() is deprecated. Use tobytes() instead.\n",
      "  self._proc.stdin.write(vid.tostring())\n",
      "/home/jamalex/miniconda3/envs/ldm/lib/python3.8/site-packages/skvideo/io/abstract.py:514: DeprecationWarning: tostring() is deprecated. Use tobytes() instead.\n",
      "  self._proc.stdin.write(vid.tostring())\n",
      "/home/jamalex/miniconda3/envs/ldm/lib/python3.8/site-packages/skvideo/io/abstract.py:514: DeprecationWarning: tostring() is deprecated. Use tobytes() instead.\n",
      "  self._proc.stdin.write(vid.tostring())\n",
      "/home/jamalex/miniconda3/envs/ldm/lib/python3.8/site-packages/skvideo/io/abstract.py:514: DeprecationWarning: tostring() is deprecated. Use tobytes() instead.\n",
      "  self._proc.stdin.write(vid.tostring())\n",
      "/home/jamalex/miniconda3/envs/ldm/lib/python3.8/site-packages/skvideo/io/abstract.py:514: DeprecationWarning: tostring() is deprecated. Use tobytes() instead.\n",
      "  self._proc.stdin.write(vid.tostring())\n",
      "/home/jamalex/miniconda3/envs/ldm/lib/python3.8/site-packages/skvideo/io/abstract.py:514: DeprecationWarning: tostring() is deprecated. Use tobytes() instead.\n",
      "  self._proc.stdin.write(vid.tostring())\n",
      "/home/jamalex/miniconda3/envs/ldm/lib/python3.8/site-packages/skvideo/io/abstract.py:514: DeprecationWarning: tostring() is deprecated. Use tobytes() instead.\n",
      "  self._proc.stdin.write(vid.tostring())\n",
      "/home/jamalex/miniconda3/envs/ldm/lib/python3.8/site-packages/skvideo/io/abstract.py:514: DeprecationWarning: tostring() is deprecated. Use tobytes() instead.\n",
      "  self._proc.stdin.write(vid.tostring())\n",
      "/home/jamalex/miniconda3/envs/ldm/lib/python3.8/site-packages/skvideo/io/abstract.py:514: DeprecationWarning: tostring() is deprecated. Use tobytes() instead.\n",
      "  self._proc.stdin.write(vid.tostring())\n",
      "/home/jamalex/miniconda3/envs/ldm/lib/python3.8/site-packages/skvideo/io/abstract.py:514: DeprecationWarning: tostring() is deprecated. Use tobytes() instead.\n",
      "  self._proc.stdin.write(vid.tostring())\n",
      "/home/jamalex/miniconda3/envs/ldm/lib/python3.8/site-packages/skvideo/io/abstract.py:514: DeprecationWarning: tostring() is deprecated. Use tobytes() instead.\n",
      "  self._proc.stdin.write(vid.tostring())\n",
      "/home/jamalex/miniconda3/envs/ldm/lib/python3.8/site-packages/skvideo/io/abstract.py:514: DeprecationWarning: tostring() is deprecated. Use tobytes() instead.\n",
      "  self._proc.stdin.write(vid.tostring())\n",
      "/home/jamalex/miniconda3/envs/ldm/lib/python3.8/site-packages/skvideo/io/abstract.py:514: DeprecationWarning: tostring() is deprecated. Use tobytes() instead.\n",
      "  self._proc.stdin.write(vid.tostring())\n",
      "/home/jamalex/miniconda3/envs/ldm/lib/python3.8/site-packages/skvideo/io/abstract.py:514: DeprecationWarning: tostring() is deprecated. Use tobytes() instead.\n",
      "  self._proc.stdin.write(vid.tostring())\n",
      "/home/jamalex/miniconda3/envs/ldm/lib/python3.8/site-packages/skvideo/io/abstract.py:514: DeprecationWarning: tostring() is deprecated. Use tobytes() instead.\n",
      "  self._proc.stdin.write(vid.tostring())\n",
      "/home/jamalex/miniconda3/envs/ldm/lib/python3.8/site-packages/skvideo/io/abstract.py:514: DeprecationWarning: tostring() is deprecated. Use tobytes() instead.\n",
      "  self._proc.stdin.write(vid.tostring())\n",
      "/home/jamalex/miniconda3/envs/ldm/lib/python3.8/site-packages/skvideo/io/abstract.py:514: DeprecationWarning: tostring() is deprecated. Use tobytes() instead.\n",
      "  self._proc.stdin.write(vid.tostring())\n",
      "/home/jamalex/miniconda3/envs/ldm/lib/python3.8/site-packages/skvideo/io/abstract.py:514: DeprecationWarning: tostring() is deprecated. Use tobytes() instead.\n",
      "  self._proc.stdin.write(vid.tostring())\n",
      "/home/jamalex/miniconda3/envs/ldm/lib/python3.8/site-packages/skvideo/io/abstract.py:514: DeprecationWarning: tostring() is deprecated. Use tobytes() instead.\n",
      "  self._proc.stdin.write(vid.tostring())\n",
      "/home/jamalex/miniconda3/envs/ldm/lib/python3.8/site-packages/skvideo/io/abstract.py:514: DeprecationWarning: tostring() is deprecated. Use tobytes() instead.\n",
      "  self._proc.stdin.write(vid.tostring())\n",
      "/home/jamalex/miniconda3/envs/ldm/lib/python3.8/site-packages/skvideo/io/abstract.py:514: DeprecationWarning: tostring() is deprecated. Use tobytes() instead.\n",
      "  self._proc.stdin.write(vid.tostring())\n",
      "/home/jamalex/miniconda3/envs/ldm/lib/python3.8/site-packages/skvideo/io/abstract.py:514: DeprecationWarning: tostring() is deprecated. Use tobytes() instead.\n",
      "  self._proc.stdin.write(vid.tostring())\n",
      "/home/jamalex/miniconda3/envs/ldm/lib/python3.8/site-packages/skvideo/io/abstract.py:514: DeprecationWarning: tostring() is deprecated. Use tobytes() instead.\n",
      "  self._proc.stdin.write(vid.tostring())\n",
      "/home/jamalex/miniconda3/envs/ldm/lib/python3.8/site-packages/skvideo/io/abstract.py:514: DeprecationWarning: tostring() is deprecated. Use tobytes() instead.\n",
      "  self._proc.stdin.write(vid.tostring())\n",
      "/home/jamalex/miniconda3/envs/ldm/lib/python3.8/site-packages/skvideo/io/abstract.py:514: DeprecationWarning: tostring() is deprecated. Use tobytes() instead.\n",
      "  self._proc.stdin.write(vid.tostring())\n",
      "/home/jamalex/miniconda3/envs/ldm/lib/python3.8/site-packages/skvideo/io/abstract.py:514: DeprecationWarning: tostring() is deprecated. Use tobytes() instead.\n",
      "  self._proc.stdin.write(vid.tostring())\n",
      "/home/jamalex/miniconda3/envs/ldm/lib/python3.8/site-packages/skvideo/io/abstract.py:514: DeprecationWarning: tostring() is deprecated. Use tobytes() instead.\n",
      "  self._proc.stdin.write(vid.tostring())\n",
      "/home/jamalex/miniconda3/envs/ldm/lib/python3.8/site-packages/skvideo/io/abstract.py:514: DeprecationWarning: tostring() is deprecated. Use tobytes() instead.\n",
      "  self._proc.stdin.write(vid.tostring())\n"
     ]
    },
    {
     "name": "stderr",
     "output_type": "stream",
     "text": [
      "/home/jamalex/miniconda3/envs/ldm/lib/python3.8/site-packages/skvideo/io/abstract.py:514: DeprecationWarning: tostring() is deprecated. Use tobytes() instead.\n",
      "  self._proc.stdin.write(vid.tostring())\n",
      "/home/jamalex/miniconda3/envs/ldm/lib/python3.8/site-packages/skvideo/io/abstract.py:514: DeprecationWarning: tostring() is deprecated. Use tobytes() instead.\n",
      "  self._proc.stdin.write(vid.tostring())\n",
      "/home/jamalex/miniconda3/envs/ldm/lib/python3.8/site-packages/skvideo/io/abstract.py:514: DeprecationWarning: tostring() is deprecated. Use tobytes() instead.\n",
      "  self._proc.stdin.write(vid.tostring())\n",
      "/home/jamalex/miniconda3/envs/ldm/lib/python3.8/site-packages/skvideo/io/abstract.py:514: DeprecationWarning: tostring() is deprecated. Use tobytes() instead.\n",
      "  self._proc.stdin.write(vid.tostring())\n",
      "/home/jamalex/miniconda3/envs/ldm/lib/python3.8/site-packages/skvideo/io/abstract.py:514: DeprecationWarning: tostring() is deprecated. Use tobytes() instead.\n",
      "  self._proc.stdin.write(vid.tostring())\n",
      "/home/jamalex/miniconda3/envs/ldm/lib/python3.8/site-packages/skvideo/io/abstract.py:514: DeprecationWarning: tostring() is deprecated. Use tobytes() instead.\n",
      "  self._proc.stdin.write(vid.tostring())\n",
      "/home/jamalex/miniconda3/envs/ldm/lib/python3.8/site-packages/skvideo/io/abstract.py:514: DeprecationWarning: tostring() is deprecated. Use tobytes() instead.\n",
      "  self._proc.stdin.write(vid.tostring())\n",
      "/home/jamalex/miniconda3/envs/ldm/lib/python3.8/site-packages/skvideo/io/abstract.py:514: DeprecationWarning: tostring() is deprecated. Use tobytes() instead.\n",
      "  self._proc.stdin.write(vid.tostring())\n",
      "/home/jamalex/miniconda3/envs/ldm/lib/python3.8/site-packages/skvideo/io/abstract.py:514: DeprecationWarning: tostring() is deprecated. Use tobytes() instead.\n",
      "  self._proc.stdin.write(vid.tostring())\n",
      "/home/jamalex/miniconda3/envs/ldm/lib/python3.8/site-packages/skvideo/io/abstract.py:514: DeprecationWarning: tostring() is deprecated. Use tobytes() instead.\n",
      "  self._proc.stdin.write(vid.tostring())\n",
      "/home/jamalex/miniconda3/envs/ldm/lib/python3.8/site-packages/skvideo/io/abstract.py:514: DeprecationWarning: tostring() is deprecated. Use tobytes() instead.\n",
      "  self._proc.stdin.write(vid.tostring())\n",
      "/home/jamalex/miniconda3/envs/ldm/lib/python3.8/site-packages/skvideo/io/abstract.py:514: DeprecationWarning: tostring() is deprecated. Use tobytes() instead.\n",
      "  self._proc.stdin.write(vid.tostring())\n",
      "/home/jamalex/miniconda3/envs/ldm/lib/python3.8/site-packages/skvideo/io/abstract.py:514: DeprecationWarning: tostring() is deprecated. Use tobytes() instead.\n",
      "  self._proc.stdin.write(vid.tostring())\n",
      "/home/jamalex/miniconda3/envs/ldm/lib/python3.8/site-packages/skvideo/io/abstract.py:514: DeprecationWarning: tostring() is deprecated. Use tobytes() instead.\n",
      "  self._proc.stdin.write(vid.tostring())\n",
      "/home/jamalex/miniconda3/envs/ldm/lib/python3.8/site-packages/skvideo/io/abstract.py:514: DeprecationWarning: tostring() is deprecated. Use tobytes() instead.\n",
      "  self._proc.stdin.write(vid.tostring())\n",
      "/home/jamalex/miniconda3/envs/ldm/lib/python3.8/site-packages/skvideo/io/abstract.py:514: DeprecationWarning: tostring() is deprecated. Use tobytes() instead.\n",
      "  self._proc.stdin.write(vid.tostring())\n",
      "/home/jamalex/miniconda3/envs/ldm/lib/python3.8/site-packages/skvideo/io/abstract.py:514: DeprecationWarning: tostring() is deprecated. Use tobytes() instead.\n",
      "  self._proc.stdin.write(vid.tostring())\n",
      "/home/jamalex/miniconda3/envs/ldm/lib/python3.8/site-packages/skvideo/io/abstract.py:514: DeprecationWarning: tostring() is deprecated. Use tobytes() instead.\n",
      "  self._proc.stdin.write(vid.tostring())\n",
      "/home/jamalex/miniconda3/envs/ldm/lib/python3.8/site-packages/skvideo/io/abstract.py:514: DeprecationWarning: tostring() is deprecated. Use tobytes() instead.\n",
      "  self._proc.stdin.write(vid.tostring())\n",
      "/home/jamalex/miniconda3/envs/ldm/lib/python3.8/site-packages/skvideo/io/abstract.py:514: DeprecationWarning: tostring() is deprecated. Use tobytes() instead.\n",
      "  self._proc.stdin.write(vid.tostring())\n",
      "/home/jamalex/miniconda3/envs/ldm/lib/python3.8/site-packages/skvideo/io/abstract.py:514: DeprecationWarning: tostring() is deprecated. Use tobytes() instead.\n",
      "  self._proc.stdin.write(vid.tostring())\n",
      "/home/jamalex/miniconda3/envs/ldm/lib/python3.8/site-packages/skvideo/io/abstract.py:514: DeprecationWarning: tostring() is deprecated. Use tobytes() instead.\n",
      "  self._proc.stdin.write(vid.tostring())\n",
      "/home/jamalex/miniconda3/envs/ldm/lib/python3.8/site-packages/skvideo/io/abstract.py:514: DeprecationWarning: tostring() is deprecated. Use tobytes() instead.\n",
      "  self._proc.stdin.write(vid.tostring())\n",
      "/home/jamalex/miniconda3/envs/ldm/lib/python3.8/site-packages/skvideo/io/abstract.py:514: DeprecationWarning: tostring() is deprecated. Use tobytes() instead.\n",
      "  self._proc.stdin.write(vid.tostring())\n",
      "/home/jamalex/miniconda3/envs/ldm/lib/python3.8/site-packages/skvideo/io/abstract.py:514: DeprecationWarning: tostring() is deprecated. Use tobytes() instead.\n",
      "  self._proc.stdin.write(vid.tostring())\n",
      "/home/jamalex/miniconda3/envs/ldm/lib/python3.8/site-packages/skvideo/io/abstract.py:514: DeprecationWarning: tostring() is deprecated. Use tobytes() instead.\n",
      "  self._proc.stdin.write(vid.tostring())\n",
      "/home/jamalex/miniconda3/envs/ldm/lib/python3.8/site-packages/skvideo/io/abstract.py:514: DeprecationWarning: tostring() is deprecated. Use tobytes() instead.\n",
      "  self._proc.stdin.write(vid.tostring())\n",
      "/home/jamalex/miniconda3/envs/ldm/lib/python3.8/site-packages/skvideo/io/abstract.py:514: DeprecationWarning: tostring() is deprecated. Use tobytes() instead.\n",
      "  self._proc.stdin.write(vid.tostring())\n",
      "/home/jamalex/miniconda3/envs/ldm/lib/python3.8/site-packages/skvideo/io/abstract.py:514: DeprecationWarning: tostring() is deprecated. Use tobytes() instead.\n",
      "  self._proc.stdin.write(vid.tostring())\n",
      "/home/jamalex/miniconda3/envs/ldm/lib/python3.8/site-packages/skvideo/io/abstract.py:514: DeprecationWarning: tostring() is deprecated. Use tobytes() instead.\n",
      "  self._proc.stdin.write(vid.tostring())\n",
      "/home/jamalex/miniconda3/envs/ldm/lib/python3.8/site-packages/skvideo/io/abstract.py:514: DeprecationWarning: tostring() is deprecated. Use tobytes() instead.\n",
      "  self._proc.stdin.write(vid.tostring())\n",
      "/home/jamalex/miniconda3/envs/ldm/lib/python3.8/site-packages/skvideo/io/abstract.py:514: DeprecationWarning: tostring() is deprecated. Use tobytes() instead.\n",
      "  self._proc.stdin.write(vid.tostring())\n",
      "/home/jamalex/miniconda3/envs/ldm/lib/python3.8/site-packages/skvideo/io/abstract.py:514: DeprecationWarning: tostring() is deprecated. Use tobytes() instead.\n",
      "  self._proc.stdin.write(vid.tostring())\n",
      "/home/jamalex/miniconda3/envs/ldm/lib/python3.8/site-packages/skvideo/io/abstract.py:514: DeprecationWarning: tostring() is deprecated. Use tobytes() instead.\n",
      "  self._proc.stdin.write(vid.tostring())\n",
      "/home/jamalex/miniconda3/envs/ldm/lib/python3.8/site-packages/skvideo/io/abstract.py:514: DeprecationWarning: tostring() is deprecated. Use tobytes() instead.\n",
      "  self._proc.stdin.write(vid.tostring())\n",
      "/home/jamalex/miniconda3/envs/ldm/lib/python3.8/site-packages/skvideo/io/abstract.py:514: DeprecationWarning: tostring() is deprecated. Use tobytes() instead.\n",
      "  self._proc.stdin.write(vid.tostring())\n",
      "/home/jamalex/miniconda3/envs/ldm/lib/python3.8/site-packages/skvideo/io/abstract.py:514: DeprecationWarning: tostring() is deprecated. Use tobytes() instead.\n",
      "  self._proc.stdin.write(vid.tostring())\n",
      "/home/jamalex/miniconda3/envs/ldm/lib/python3.8/site-packages/skvideo/io/abstract.py:514: DeprecationWarning: tostring() is deprecated. Use tobytes() instead.\n",
      "  self._proc.stdin.write(vid.tostring())\n",
      "/home/jamalex/miniconda3/envs/ldm/lib/python3.8/site-packages/skvideo/io/abstract.py:514: DeprecationWarning: tostring() is deprecated. Use tobytes() instead.\n",
      "  self._proc.stdin.write(vid.tostring())\n",
      "/home/jamalex/miniconda3/envs/ldm/lib/python3.8/site-packages/skvideo/io/abstract.py:514: DeprecationWarning: tostring() is deprecated. Use tobytes() instead.\n",
      "  self._proc.stdin.write(vid.tostring())\n",
      "/home/jamalex/miniconda3/envs/ldm/lib/python3.8/site-packages/skvideo/io/abstract.py:514: DeprecationWarning: tostring() is deprecated. Use tobytes() instead.\n",
      "  self._proc.stdin.write(vid.tostring())\n",
      "/home/jamalex/miniconda3/envs/ldm/lib/python3.8/site-packages/skvideo/io/abstract.py:514: DeprecationWarning: tostring() is deprecated. Use tobytes() instead.\n",
      "  self._proc.stdin.write(vid.tostring())\n",
      "/home/jamalex/miniconda3/envs/ldm/lib/python3.8/site-packages/skvideo/io/abstract.py:514: DeprecationWarning: tostring() is deprecated. Use tobytes() instead.\n",
      "  self._proc.stdin.write(vid.tostring())\n",
      "/home/jamalex/miniconda3/envs/ldm/lib/python3.8/site-packages/skvideo/io/abstract.py:514: DeprecationWarning: tostring() is deprecated. Use tobytes() instead.\n",
      "  self._proc.stdin.write(vid.tostring())\n"
     ]
    },
    {
     "name": "stderr",
     "output_type": "stream",
     "text": [
      "/home/jamalex/miniconda3/envs/ldm/lib/python3.8/site-packages/skvideo/io/abstract.py:514: DeprecationWarning: tostring() is deprecated. Use tobytes() instead.\n",
      "  self._proc.stdin.write(vid.tostring())\n",
      "/home/jamalex/miniconda3/envs/ldm/lib/python3.8/site-packages/skvideo/io/abstract.py:514: DeprecationWarning: tostring() is deprecated. Use tobytes() instead.\n",
      "  self._proc.stdin.write(vid.tostring())\n",
      "/home/jamalex/miniconda3/envs/ldm/lib/python3.8/site-packages/skvideo/io/abstract.py:514: DeprecationWarning: tostring() is deprecated. Use tobytes() instead.\n",
      "  self._proc.stdin.write(vid.tostring())\n",
      "/home/jamalex/miniconda3/envs/ldm/lib/python3.8/site-packages/skvideo/io/abstract.py:514: DeprecationWarning: tostring() is deprecated. Use tobytes() instead.\n",
      "  self._proc.stdin.write(vid.tostring())\n",
      "/home/jamalex/miniconda3/envs/ldm/lib/python3.8/site-packages/skvideo/io/abstract.py:514: DeprecationWarning: tostring() is deprecated. Use tobytes() instead.\n",
      "  self._proc.stdin.write(vid.tostring())\n",
      "/home/jamalex/miniconda3/envs/ldm/lib/python3.8/site-packages/skvideo/io/abstract.py:514: DeprecationWarning: tostring() is deprecated. Use tobytes() instead.\n",
      "  self._proc.stdin.write(vid.tostring())\n",
      "/home/jamalex/miniconda3/envs/ldm/lib/python3.8/site-packages/skvideo/io/abstract.py:514: DeprecationWarning: tostring() is deprecated. Use tobytes() instead.\n",
      "  self._proc.stdin.write(vid.tostring())\n",
      "/home/jamalex/miniconda3/envs/ldm/lib/python3.8/site-packages/skvideo/io/abstract.py:514: DeprecationWarning: tostring() is deprecated. Use tobytes() instead.\n",
      "  self._proc.stdin.write(vid.tostring())\n",
      "/home/jamalex/miniconda3/envs/ldm/lib/python3.8/site-packages/skvideo/io/abstract.py:514: DeprecationWarning: tostring() is deprecated. Use tobytes() instead.\n",
      "  self._proc.stdin.write(vid.tostring())\n",
      "/home/jamalex/miniconda3/envs/ldm/lib/python3.8/site-packages/skvideo/io/abstract.py:514: DeprecationWarning: tostring() is deprecated. Use tobytes() instead.\n",
      "  self._proc.stdin.write(vid.tostring())\n",
      "/home/jamalex/miniconda3/envs/ldm/lib/python3.8/site-packages/skvideo/io/abstract.py:514: DeprecationWarning: tostring() is deprecated. Use tobytes() instead.\n",
      "  self._proc.stdin.write(vid.tostring())\n",
      "/home/jamalex/miniconda3/envs/ldm/lib/python3.8/site-packages/skvideo/io/abstract.py:514: DeprecationWarning: tostring() is deprecated. Use tobytes() instead.\n",
      "  self._proc.stdin.write(vid.tostring())\n",
      "/home/jamalex/miniconda3/envs/ldm/lib/python3.8/site-packages/skvideo/io/abstract.py:514: DeprecationWarning: tostring() is deprecated. Use tobytes() instead.\n",
      "  self._proc.stdin.write(vid.tostring())\n",
      "/home/jamalex/miniconda3/envs/ldm/lib/python3.8/site-packages/skvideo/io/abstract.py:514: DeprecationWarning: tostring() is deprecated. Use tobytes() instead.\n",
      "  self._proc.stdin.write(vid.tostring())\n",
      "/home/jamalex/miniconda3/envs/ldm/lib/python3.8/site-packages/skvideo/io/abstract.py:514: DeprecationWarning: tostring() is deprecated. Use tobytes() instead.\n",
      "  self._proc.stdin.write(vid.tostring())\n",
      "/home/jamalex/miniconda3/envs/ldm/lib/python3.8/site-packages/skvideo/io/abstract.py:514: DeprecationWarning: tostring() is deprecated. Use tobytes() instead.\n",
      "  self._proc.stdin.write(vid.tostring())\n",
      "/home/jamalex/miniconda3/envs/ldm/lib/python3.8/site-packages/skvideo/io/abstract.py:514: DeprecationWarning: tostring() is deprecated. Use tobytes() instead.\n",
      "  self._proc.stdin.write(vid.tostring())\n",
      "/home/jamalex/miniconda3/envs/ldm/lib/python3.8/site-packages/skvideo/io/abstract.py:514: DeprecationWarning: tostring() is deprecated. Use tobytes() instead.\n",
      "  self._proc.stdin.write(vid.tostring())\n",
      "/home/jamalex/miniconda3/envs/ldm/lib/python3.8/site-packages/skvideo/io/abstract.py:514: DeprecationWarning: tostring() is deprecated. Use tobytes() instead.\n",
      "  self._proc.stdin.write(vid.tostring())\n",
      "/home/jamalex/miniconda3/envs/ldm/lib/python3.8/site-packages/skvideo/io/abstract.py:514: DeprecationWarning: tostring() is deprecated. Use tobytes() instead.\n",
      "  self._proc.stdin.write(vid.tostring())\n",
      "/home/jamalex/miniconda3/envs/ldm/lib/python3.8/site-packages/skvideo/io/abstract.py:514: DeprecationWarning: tostring() is deprecated. Use tobytes() instead.\n",
      "  self._proc.stdin.write(vid.tostring())\n",
      "/home/jamalex/miniconda3/envs/ldm/lib/python3.8/site-packages/skvideo/io/abstract.py:514: DeprecationWarning: tostring() is deprecated. Use tobytes() instead.\n",
      "  self._proc.stdin.write(vid.tostring())\n",
      "/home/jamalex/miniconda3/envs/ldm/lib/python3.8/site-packages/skvideo/io/abstract.py:514: DeprecationWarning: tostring() is deprecated. Use tobytes() instead.\n",
      "  self._proc.stdin.write(vid.tostring())\n",
      "/home/jamalex/miniconda3/envs/ldm/lib/python3.8/site-packages/skvideo/io/abstract.py:514: DeprecationWarning: tostring() is deprecated. Use tobytes() instead.\n",
      "  self._proc.stdin.write(vid.tostring())\n"
     ]
    },
    {
     "data": {
      "text/plain": [
       "'theonewhodidnotgetaway.mp4'"
      ]
     },
     "execution_count": 24,
     "metadata": {},
     "output_type": "execute_result"
    }
   ],
   "source": [
    "frames = reversed(runner.get_all_generated_frames())\n",
    "frames[:325].tomp4(\"theonewhodidnotgetaway.mp4\", fps=20)"
   ]
  }
 ],
 "metadata": {
  "kernelspec": {
   "display_name": "Python 3 (ipykernel)",
   "language": "python",
   "name": "python3"
  },
  "language_info": {
   "codemirror_mode": {
    "name": "ipython",
    "version": 3
   },
   "file_extension": ".py",
   "mimetype": "text/x-python",
   "name": "python",
   "nbconvert_exporter": "python",
   "pygments_lexer": "ipython3",
   "version": "3.8.5"
  },
  "vscode": {
   "interpreter": {
    "hash": "dac66cb880cdac9a8a7b6ade717a7717f99703f7c5ad36e3bf5747a7e38c5668"
   }
  }
 },
 "nbformat": 4,
 "nbformat_minor": 2
}
