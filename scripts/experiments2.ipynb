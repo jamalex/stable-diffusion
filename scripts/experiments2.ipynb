{
 "cells": [
  {
   "cell_type": "code",
   "execution_count": null,
   "metadata": {},
   "outputs": [],
   "source": [
    "from controller import *\n",
    "from utils import *"
   ]
  },
  {
   "cell_type": "code",
   "execution_count": null,
   "metadata": {},
   "outputs": [],
   "source": [
    "concept1 = \"penguin\"\n",
    "concept2 = \"giraffe\"\n",
    "\n",
    "options = {\n",
    "    \"seed\": 255,\n",
    "    \"steps\": 25,\n",
    "    \"n_iter\": 1,\n",
    "    \"n_samples\": 1,\n",
    "#     \"sampler\": \"k_euler_a\",\n",
    "#     \"sampler\": \"ddim\",\n",
    "    \"sampler\": \"k_dpm_2_a\",\n",
    "    \"scale\": 10,\n",
    "}\n",
    "\n",
    "peng = c.encode_prompt(\"penguin\")\n",
    "gir = c.encode_prompt(\"giraffe\")\n",
    "elep = c.encode_prompt(\"elephant\")\n",
    "\n",
    "ban = c.encode_prompt(\"banana\")\n",
    "\n",
    "openg = c.encode_prompt(\"penguin, oil on canvas\")\n",
    "ogir = c.encode_prompt(\"giraffe, oil on canvas\")\n",
    "oelep = c.encode_prompt(\"elephant, oil on canvas\")\n",
    "\n",
    "p = c.encode_prompt\n",
    "s = slerp\n",
    "\n",
    "o1 = slerp(-0.5, openg, peng)\n",
    "o2 = slerp(-0.5, ogir, gir)\n",
    "o3 = slerp(-0.5, oelep, elep)\n",
    "\n",
    "combo = slerp(0.5, slerp(0.42, slerp(0.5, o1, o2), o3), ban)\n"
   ]
  },
  {
   "cell_type": "code",
   "execution_count": null,
   "metadata": {},
   "outputs": [],
   "source": [
    "c.txt2imgcls(s(0.2, p(\"orangutan\"), p(\"oil on canvas\")), **options)[\"grid\"]"
   ]
  },
  {
   "cell_type": "code",
   "execution_count": null,
   "metadata": {},
   "outputs": [],
   "source": [
    "c.txt2imgcls(s(0.25, p(\"orangutan\"), p(\"oil on canvas\")), **options)[\"grid\"]"
   ]
  },
  {
   "cell_type": "code",
   "execution_count": null,
   "metadata": {},
   "outputs": [],
   "source": [
    "c.txt2imgcls(s(0.250625, p(\"orangutan\"), p(\"oil on canvas\")), **options)[\"grid\"]"
   ]
  },
  {
   "cell_type": "code",
   "execution_count": null,
   "metadata": {},
   "outputs": [],
   "source": [
    "c.txt2imgcls(s(0.2512, p(\"orangutan\"), p(\"oil on canvas\")), **options)[\"grid\"]"
   ]
  },
  {
   "cell_type": "code",
   "execution_count": null,
   "metadata": {},
   "outputs": [],
   "source": [
    "c.txt2imgcls(s(0.256, p(\"orangutan\"), p(\"oil on canvas\")), **options)[\"grid\"]"
   ]
  },
  {
   "cell_type": "code",
   "execution_count": null,
   "metadata": {},
   "outputs": [],
   "source": [
    "c.txt2imgcls(s(0.258, p(\"orangutan\"), p(\"oil on canvas\")), **options)[\"grid\"]"
   ]
  },
  {
   "cell_type": "code",
   "execution_count": null,
   "metadata": {},
   "outputs": [],
   "source": [
    "c.txt2imgcls(s(0.2585, p(\"orangutan\"), p(\"oil on canvas\")), **options)[\"grid\"]"
   ]
  },
  {
   "cell_type": "code",
   "execution_count": null,
   "metadata": {},
   "outputs": [],
   "source": [
    "c.txt2imgcls(s(0.259, p(\"orangutan\"), p(\"oil on canvas\")), **options)[\"grid\"]"
   ]
  },
  {
   "cell_type": "code",
   "execution_count": null,
   "metadata": {},
   "outputs": [],
   "source": [
    "c.txt2imgcls(s(0.2595, p(\"orangutan\"), p(\"oil on canvas\")), **options)[\"grid\"]"
   ]
  },
  {
   "cell_type": "code",
   "execution_count": null,
   "metadata": {},
   "outputs": [],
   "source": [
    "c.txt2imgcls(s(0.26, p(\"orangutan\"), p(\"oil on canvas\")), **options)[\"grid\"]"
   ]
  },
  {
   "cell_type": "code",
   "execution_count": null,
   "metadata": {},
   "outputs": [],
   "source": [
    "c.txt2imgcls(s(0.2625, p(\"orangutan\"), p(\"oil on canvas\")), **options)[\"grid\"]"
   ]
  },
  {
   "cell_type": "code",
   "execution_count": null,
   "metadata": {},
   "outputs": [],
   "source": [
    "c.txt2imgcls(s(0.275, p(\"orangutan\"), p(\"oil on canvas\")), **options)[\"grid\"]"
   ]
  },
  {
   "cell_type": "code",
   "execution_count": null,
   "metadata": {},
   "outputs": [],
   "source": [
    "c.txt2imgcls(s(0.3, p(\"orangutan\"), p(\"oil on canvas\")), **options)[\"grid\"]"
   ]
  },
  {
   "cell_type": "code",
   "execution_count": null,
   "metadata": {},
   "outputs": [],
   "source": [
    "c.txt2imgcls(s(0.35, p(\"orangutan\"), p(\"oil on canvas\")), **options)[\"grid\"]"
   ]
  },
  {
   "cell_type": "code",
   "execution_count": null,
   "metadata": {},
   "outputs": [],
   "source": [
    "c.txt2imgcls(s(0.4, p(\"orangutan\"), p(\"oil on canvas\")), **options)[\"grid\"]"
   ]
  },
  {
   "cell_type": "code",
   "execution_count": null,
   "metadata": {},
   "outputs": [],
   "source": [
    "options[\"seed\"] = 136531921\n",
    "options[\"sampler\"] = \"ddim\"\n",
    "options[\"scale\"] = 15\n",
    "options[\"steps\"] = 50\n",
    "\n",
    "images = SDImageList([])\n",
    "for weight in np.linspace(0.75,1,100):\n",
    "    image = c.txt2imgcls(s(weight, p(\"Girl with a Pearl Earring, painting by Vermeer\"), p(\"Penguin with a Pearl Earring, painting of a penguin looking to the left, by Vermeer\")), **options)[\"images\"][0]\n",
    "    display(image)\n",
    "    images.append(image)\n",
    "    print(weight)\n",
    "# c.txt2imgcls((p(\"man with a huge grin, photo portrait\")), **options)[\"grid\"]\n",
    "# c.txt2imgcls((p(\"man scowling and glaring angrily, photo portrait\")), **options)[\"grid\"]"
   ]
  },
  {
   "cell_type": "code",
   "execution_count": null,
   "metadata": {},
   "outputs": [],
   "source": [
    "starting_point = 25\n",
    "imglist = SDImageList(images[starting_point:-1] + [images[-2]] * 10 + list(reversed(images[starting_point:-1])))\n",
    "imglist.save_to_dir(\"animations/penguinearring/\")\n",
    "imglist.displaygif(duration=150)"
   ]
  },
  {
   "cell_type": "code",
   "execution_count": null,
   "metadata": {},
   "outputs": [],
   "source": [
    "c.txt2imgcls(s(0.5, p(\"orangutan, oil on canvas\"), p(\"angry orangutan\")), **options)[\"grid\"]"
   ]
  },
  {
   "cell_type": "code",
   "execution_count": null,
   "metadata": {},
   "outputs": [],
   "source": [
    "c.txt2imgcls(s(0.455, p(\"orangutan\"), p(\"in a fire\")), **options)[\"grid\"]"
   ]
  },
  {
   "cell_type": "code",
   "execution_count": null,
   "metadata": {},
   "outputs": [],
   "source": [
    "c.txt2imgcls(s(0.6, p(\"orangutan\"), p(\"oil on canvas\")), **options)[\"grid\"]"
   ]
  },
  {
   "cell_type": "code",
   "execution_count": null,
   "metadata": {},
   "outputs": [],
   "source": [
    "c.txt2imgcls(s(0.7, p(\"orangutan\"), p(\"oil on canvas\")), **options)[\"grid\"]"
   ]
  },
  {
   "cell_type": "code",
   "execution_count": null,
   "metadata": {},
   "outputs": [],
   "source": [
    "c.txt2imgcls(s(0.8, p(\"orangutan\"), p(\"oil on canvas\")), **options)[\"grid\"]"
   ]
  },
  {
   "cell_type": "code",
   "execution_count": null,
   "metadata": {},
   "outputs": [],
   "source": [
    "c.txt2imgcls(s(0.9, p(\"orangutan\"), p(\"oil on canvas\")), **options)[\"grid\"]"
   ]
  },
  {
   "cell_type": "code",
   "execution_count": null,
   "metadata": {},
   "outputs": [],
   "source": [
    "c.txt2imgcls(\"orangutan, oil on canvas\", **options)[\"grid\"]"
   ]
  },
  {
   "cell_type": "code",
   "execution_count": null,
   "metadata": {},
   "outputs": [],
   "source": [
    "options[\"n_samples\"] = 3\n",
    "options[\"sampler\"] = \"k_euler\"\n",
    "options[\"steps\"] = 50\n",
    "\n",
    "c.txt2imgcls(combo, **options)[\"grid\"]"
   ]
  }
 ],
 "metadata": {
  "kernelspec": {
   "display_name": "Python 3 (ipykernel)",
   "language": "python",
   "name": "python3"
  },
  "language_info": {
   "codemirror_mode": {
    "name": "ipython",
    "version": 3
   },
   "file_extension": ".py",
   "mimetype": "text/x-python",
   "name": "python",
   "nbconvert_exporter": "python",
   "pygments_lexer": "ipython3",
   "version": "3.8.5"
  }
 },
 "nbformat": 4,
 "nbformat_minor": 2
}
